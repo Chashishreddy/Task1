{
  "cells": [
    {
      "cell_type": "markdown",
      "metadata": {
        "id": "8KNEuM_G83vi"
      },
      "source": [
        "[![Open In Colab](https://colab.research.google.com/assets/colab-badge.svg)](https://colab.research.google.com/github/pinecone-io/examples/blob/master/docs/pinecone-quickstart.ipynb) [![Open nbviewer](https://raw.githubusercontent.com/pinecone-io/examples/master/assets/nbviewer-shield.svg)](https://nbviewer.org/github/pinecone-io/examples/blob/master/docs/pinecone-quickstart.ipynb)\n",
        "\n",
        "# Pinecone Database quickstart\n",
        "\n",
        "This notebook shows you how to set up and use Pinecone Database for high-performance semantic search."
      ]
    },
    {
      "cell_type": "markdown",
      "metadata": {
        "id": "mjJUDk6xAA_r"
      },
      "source": [
        "## Install an SDK\n",
        "\n",
        "Pinecone provides [SDKs](https://docs.pinecone.io/reference/pinecone-sdks) in multiple languages.\n",
        "\n",
        "For this quickstart, install the Python SDK and a library that makes it easy to sign up with Pinecone:"
      ]
    },
    {
      "cell_type": "code",
      "execution_count": null,
      "metadata": {
        "id": "4SudLike98WL"
      },
      "outputs": [],
      "source": [
        "!pip install -qU \\\n",
        "    pinecone==7.0.1 \\\n",
        "    pinecone-notebooks"
      ]
    },
    {
      "cell_type": "markdown",
      "metadata": {
        "id": "WoDXUiIkD1U7"
      },
      "source": [
        "## Get an API key\n",
        "\n",
        "You need an API key to make calls to your Pinecone project.\n",
        "\n",
        "Use the widget below to generate a key. If you don't have a Pinecone account, the widget will sign you up for the free Starter plan."
      ]
    },
    {
      "cell_type": "code",
      "execution_count": null,
      "metadata": {
        "id": "89S8G8oP61-t"
      },
      "outputs": [],
      "source": [
        "import os\n",
        "\n",
        "if not os.environ.get(\"PINECONE_API_KEY\"):\n",
        "    from pinecone_notebooks.colab import Authenticate\n",
        "    Authenticate()"
      ]
    },
    {
      "cell_type": "markdown",
      "metadata": {
        "id": "sbJFp5DO5ryT"
      },
      "source": [
        "## Initialize a client\n",
        "\n",
        "Use the generated API key to intialize a Pinecone client:"
      ]
    },
    {
      "cell_type": "code",
      "execution_count": null,
      "metadata": {
        "id": "e9rr_u6ZIvZ-"
      },
      "outputs": [],
      "source": [
        "# Import the Pinecone library\n",
        "from pinecone import Pinecone\n",
        "\n",
        "# Initialize a Pinecone client with your API key\n",
        "api_key = os.environ.get(\"PINECONE_API_KEY\")\n",
        "pc = Pinecone(api_key=api_key)"
      ]
    },
    {
      "cell_type": "markdown",
      "metadata": {
        "id": "yfnoFFihfoY4"
      },
      "source": [
        "## Create an index\n",
        "\n",
        "In Pinecone, there are two types of indexes for storing vector data: [Dense indexes](https://docs.pinecone.io/guides/index-data/indexing-overview#dense-indexes) store dense vectors for semantic search, and [sparse indexes](https://docs.pinecone.io/guides/index-data/indexing-overview#sparse-indexes) store sparse vectors for lexical/keyword search.\n",
        "\n",
        "For this quickstart, create a dense index that is integrated with an [embedding model hosted by Pinecone](https://docs.pinecone.io/guides/index-data/create-an-index#embedding-models). With integrated models, you upsert and search with text and have Pinecone generate vectors automatically.\n",
        "\n",
        "**Note:** If you prefer to use external embedding models, see [Bring your own vectors](https://docs.pinecone.io/guides/index-data/indexing-overview#bring-your-own-vectors)."
      ]
    },
    {
      "cell_type": "code",
      "execution_count": null,
      "metadata": {
        "id": "FMyeNo6Afh4z"
      },
      "outputs": [],
      "source": [
        "# Create a dense index with integrated embedding\n",
        "\n",
        "index_name = \"quickstart-notebook\"\n",
        "\n",
        "if not pc.has_index(name=index_name):\n",
        "    pc.create_index_for_model(\n",
        "        name=index_name,\n",
        "        cloud=\"aws\",\n",
        "        region=\"us-east-1\",\n",
        "        embed={\n",
        "            \"model\":\"llama-text-embed-v2\",\n",
        "            \"field_map\":{\"text\": \"chunk_text\"}\n",
        "        }\n",
        "    )\n"
      ]
    },
    {
      "cell_type": "markdown",
      "metadata": {
        "id": "bN9Rl7GP258C"
      },
      "source": [
        "## Upsert records\n",
        "\n",
        "Prepare a sample dataset of factual statements from different domains like history, physics, technology, and music. Format the data as records with an ID, text, and category. These objects are expected to contain a `chunk_text` key because of the `field_map` we specified when creating the index above.\n",
        "\n",
        "Other fields which are not mapped in the field mapping, like `category`, will become metadata on the upserted records."
      ]
    },
    {
      "cell_type": "code",
      "execution_count": null,
      "metadata": {
        "id": "ZIclo2UK3NFE"
      },
      "outputs": [],
      "source": [
        "# Define your dataset\n",
        "records = [\n",
        "    { \"_id\": \"rec1\", \"chunk_text\": \"The Eiffel Tower was completed in 1889 and stands in Paris, France.\", \"category\": \"history\" },\n",
        "    { \"_id\": \"rec2\", \"chunk_text\": \"Photosynthesis allows plants to convert sunlight into energy.\", \"category\": \"science\" },\n",
        "    { \"_id\": \"rec3\", \"chunk_text\": \"Albert Einstein developed the theory of relativity.\", \"category\": \"science\" },\n",
        "    { \"_id\": \"rec4\", \"chunk_text\": \"The mitochondrion is often called the powerhouse of the cell.\", \"category\": \"biology\" },\n",
        "    { \"_id\": \"rec5\", \"chunk_text\": \"Shakespeare wrote many famous plays, including Hamlet and Macbeth.\", \"category\": \"literature\" },\n",
        "    { \"_id\": \"rec6\", \"chunk_text\": \"Water boils at 100°C under standard atmospheric pressure.\", \"category\": \"physics\" },\n",
        "    { \"_id\": \"rec7\", \"chunk_text\": \"The Great Wall of China was built to protect against invasions.\", \"category\": \"history\" },\n",
        "    { \"_id\": \"rec8\", \"chunk_text\": \"Honey never spoils due to its low moisture content and acidity.\", \"category\": \"food science\" },\n",
        "    { \"_id\": \"rec9\", \"chunk_text\": \"The speed of light in a vacuum is approximately 299,792 km/s.\", \"category\": \"physics\" },\n",
        "    { \"_id\": \"rec10\", \"chunk_text\": \"Newton’s laws describe the motion of objects.\", \"category\": \"physics\" },\n",
        "    { \"_id\": \"rec11\", \"chunk_text\": \"The human brain has approximately 86 billion neurons.\", \"category\": \"biology\" },\n",
        "    { \"_id\": \"rec12\", \"chunk_text\": \"The Amazon Rainforest is one of the most biodiverse places on Earth.\", \"category\": \"geography\" },\n",
        "    { \"_id\": \"rec13\", \"chunk_text\": \"Black holes have gravitational fields so strong that not even light can escape.\", \"category\": \"astronomy\" },\n",
        "    { \"_id\": \"rec14\", \"chunk_text\": \"The periodic table organizes elements based on their atomic number.\", \"category\": \"chemistry\" },\n",
        "    { \"_id\": \"rec15\", \"chunk_text\": \"Leonardo da Vinci painted the Mona Lisa.\", \"category\": \"art\" },\n",
        "    { \"_id\": \"rec16\", \"chunk_text\": \"The internet revolutionized communication and information sharing.\", \"category\": \"technology\" },\n",
        "    { \"_id\": \"rec17\", \"chunk_text\": \"The Pyramids of Giza are among the Seven Wonders of the Ancient World.\", \"category\": \"history\" },\n",
        "    { \"_id\": \"rec18\", \"chunk_text\": \"Dogs have an incredible sense of smell, much stronger than humans.\", \"category\": \"biology\" },\n",
        "    { \"_id\": \"rec19\", \"chunk_text\": \"The Pacific Ocean is the largest and deepest ocean on Earth.\", \"category\": \"geography\" },\n",
        "    { \"_id\": \"rec20\", \"chunk_text\": \"Chess is a strategic game that originated in India.\", \"category\": \"games\" },\n",
        "    { \"_id\": \"rec21\", \"chunk_text\": \"The Statue of Liberty was a gift from France to the United States.\", \"category\": \"history\" },\n",
        "    { \"_id\": \"rec22\", \"chunk_text\": \"Coffee contains caffeine, a natural stimulant.\", \"category\": \"food science\" },\n",
        "    { \"_id\": \"rec23\", \"chunk_text\": \"Thomas Edison invented the practical electric light bulb.\", \"category\": \"inventions\" },\n",
        "    { \"_id\": \"rec24\", \"chunk_text\": \"The moon influences ocean tides due to gravitational pull.\", \"category\": \"astronomy\" },\n",
        "    { \"_id\": \"rec25\", \"chunk_text\": \"DNA carries genetic information for all living organisms.\", \"category\": \"biology\" },\n",
        "    { \"_id\": \"rec26\", \"chunk_text\": \"Rome was once the center of a vast empire.\", \"category\": \"history\" },\n",
        "    { \"_id\": \"rec27\", \"chunk_text\": \"The Wright brothers pioneered human flight in 1903.\", \"category\": \"inventions\" },\n",
        "    { \"_id\": \"rec28\", \"chunk_text\": \"Bananas are a good source of potassium.\", \"category\": \"nutrition\" },\n",
        "    { \"_id\": \"rec29\", \"chunk_text\": \"The stock market fluctuates based on supply and demand.\", \"category\": \"economics\" },\n",
        "    { \"_id\": \"rec30\", \"chunk_text\": \"A compass needle points toward the magnetic north pole.\", \"category\": \"navigation\" },\n",
        "    { \"_id\": \"rec31\", \"chunk_text\": \"The universe is expanding, according to the Big Bang theory.\", \"category\": \"astronomy\" },\n",
        "    { \"_id\": \"rec32\", \"chunk_text\": \"Elephants have excellent memory and strong social bonds.\", \"category\": \"biology\" },\n",
        "    { \"_id\": \"rec33\", \"chunk_text\": \"The violin is a string instrument commonly used in orchestras.\", \"category\": \"music\" },\n",
        "    { \"_id\": \"rec34\", \"chunk_text\": \"The heart pumps blood throughout the human body.\", \"category\": \"biology\" },\n",
        "    { \"_id\": \"rec35\", \"chunk_text\": \"Ice cream melts when exposed to heat.\", \"category\": \"food science\" },\n",
        "    { \"_id\": \"rec36\", \"chunk_text\": \"Solar panels convert sunlight into electricity.\", \"category\": \"technology\" },\n",
        "    { \"_id\": \"rec37\", \"chunk_text\": \"The French Revolution began in 1789.\", \"category\": \"history\" },\n",
        "    { \"_id\": \"rec38\", \"chunk_text\": \"The Taj Mahal is a mausoleum built by Emperor Shah Jahan.\", \"category\": \"history\" },\n",
        "    { \"_id\": \"rec39\", \"chunk_text\": \"Rainbows are caused by light refracting through water droplets.\", \"category\": \"physics\" },\n",
        "    { \"_id\": \"rec40\", \"chunk_text\": \"Mount Everest is the tallest mountain in the world.\", \"category\": \"geography\" },\n",
        "    { \"_id\": \"rec41\", \"chunk_text\": \"Octopuses are highly intelligent marine creatures.\", \"category\": \"biology\" },\n",
        "    { \"_id\": \"rec42\", \"chunk_text\": \"The speed of sound is around 343 meters per second in air.\", \"category\": \"physics\" },\n",
        "    { \"_id\": \"rec43\", \"chunk_text\": \"Gravity keeps planets in orbit around the sun.\", \"category\": \"astronomy\" },\n",
        "    { \"_id\": \"rec44\", \"chunk_text\": \"The Mediterranean diet is considered one of the healthiest in the world.\", \"category\": \"nutrition\" },\n",
        "    { \"_id\": \"rec45\", \"chunk_text\": \"A haiku is a traditional Japanese poem with a 5-7-5 syllable structure.\", \"category\": \"literature\" },\n",
        "    { \"_id\": \"rec46\", \"chunk_text\": \"The human body is made up of about 60% water.\", \"category\": \"biology\" },\n",
        "    { \"_id\": \"rec47\", \"chunk_text\": \"The Industrial Revolution transformed manufacturing and transportation.\", \"category\": \"history\" },\n",
        "    { \"_id\": \"rec48\", \"chunk_text\": \"Vincent van Gogh painted Starry Night.\", \"category\": \"art\" },\n",
        "    { \"_id\": \"rec49\", \"chunk_text\": \"Airplanes fly due to the principles of lift and aerodynamics.\", \"category\": \"physics\" },\n",
        "    { \"_id\": \"rec50\", \"chunk_text\": \"Renewable energy sources include wind, solar, and hydroelectric power.\", \"category\": \"energy\" }\n",
        "]"
      ]
    },
    {
      "cell_type": "markdown",
      "metadata": {
        "id": "f5vNb1pugnR5"
      },
      "source": [
        "[Upsert](https://docs.pinecone.io/guides/index-data/upsert-data) the sample dataset into a new namespace in your index.\n",
        "\n",
        "Because your index is integrated with an embedding model, you provide the textual statements and Pinecone converts them to dense vectors automatically."
      ]
    },
    {
      "cell_type": "code",
      "execution_count": null,
      "metadata": {
        "id": "WqDOcyz5gp1Z"
      },
      "outputs": [],
      "source": [
        "# Get an Index client for the index we created\n",
        "dense_index = pc.Index(name=index_name)\n",
        "\n",
        "# Upsert records into a namespace\n",
        "dense_index.upsert_records(\n",
        "    namespace=\"example-namespace\",\n",
        "    records=records\n",
        ")"
      ]
    },
    {
      "cell_type": "markdown",
      "metadata": {
        "id": "cxM2hdTjg1tS"
      },
      "source": [
        "## Check index stats\n",
        "\n",
        "Pinecone is eventually consistent, so there can be a slight delay before new or changed records are visible to queries. You can [view index stats](https://docs.pinecone.io/guides/index-data/check-data-freshness#verify-record-counts) to check if the current vector count matches the number of vectors you upserted (50):"
      ]
    },
    {
      "cell_type": "code",
      "execution_count": null,
      "metadata": {
        "id": "z3B4RkEqg1US",
        "outputId": "7d39eac0-410e-49a4-89f1-b96b71b5c30b"
      },
      "outputs": [
        {
          "data": {
            "text/plain": [
              "{'dimension': 1024,\n",
              " 'index_fullness': 0.0,\n",
              " 'metric': 'cosine',\n",
              " 'namespaces': {'example-namespace': {'vector_count': 50}},\n",
              " 'total_vector_count': 50,\n",
              " 'vector_type': 'dense'}"
            ]
          },
          "execution_count": 14,
          "metadata": {},
          "output_type": "execute_result"
        }
      ],
      "source": [
        "import time\n",
        "\n",
        "# Wait for the upserted vectors to be indexed\n",
        "time.sleep(10)\n",
        "\n",
        "# View stats for the index\n",
        "stats = dense_index.describe_index_stats()\n",
        "stats"
      ]
    },
    {
      "cell_type": "markdown",
      "metadata": {
        "id": "VpgIIsLlJGFf"
      },
      "source": [
        "## Semantic search\n",
        "\n",
        "[Search the dense index](https://docs.pinecone.io/guides/search/semantic-search) for ten records that are most semantically similar to the query, `Famous historical structures and monuments`.\n",
        "\n",
        "Again, because your index is integrated with an embedding model, you provide the query as text and Pinecone converts the text to a dense vector automatically."
      ]
    },
    {
      "cell_type": "code",
      "execution_count": null,
      "metadata": {
        "id": "Buo2K1h8O_fN"
      },
      "outputs": [],
      "source": [
        "def print_results(search_results):\n",
        "    for hit in search_results['result']['hits']:\n",
        "        print(f\"id: {hit['_id']:<5} | score: {round(hit['_score'], 3):<5} | category: {hit['fields']['category']:<10} | text: {hit['fields']['chunk_text']:<50}\")\n"
      ]
    },
    {
      "cell_type": "code",
      "execution_count": null,
      "metadata": {
        "id": "h0VojCgVBJyx",
        "outputId": "930dd414-03d9-4f64-b631-1b6ca4e62e80"
      },
      "outputs": [
        {
          "name": "stdout",
          "output_type": "stream",
          "text": [
            "id: rec17 | score: 0.252 | category: history    | text: The Pyramids of Giza are among the Seven Wonders of the Ancient World.\n",
            "id: rec5  | score: 0.186 | category: literature | text: Shakespeare wrote many famous plays, including Hamlet and Macbeth.\n",
            "id: rec38 | score: 0.186 | category: history    | text: The Taj Mahal is a mausoleum built by Emperor Shah Jahan.\n",
            "id: rec50 | score: 0.098 | category: energy     | text: Renewable energy sources include wind, solar, and hydroelectric power.\n",
            "id: rec15 | score: 0.096 | category: art        | text: Leonardo da Vinci painted the Mona Lisa.          \n",
            "id: rec26 | score: 0.084 | category: history    | text: Rome was once the center of a vast empire.        \n",
            "id: rec1  | score: 0.078 | category: history    | text: The Eiffel Tower was completed in 1889 and stands in Paris, France.\n",
            "id: rec47 | score: 0.072 | category: history    | text: The Industrial Revolution transformed manufacturing and transportation.\n",
            "id: rec7  | score: 0.072 | category: history    | text: The Great Wall of China was built to protect against invasions.\n",
            "id: rec21 | score: 0.061 | category: history    | text: The Statue of Liberty was a gift from France to the United States.\n"
          ]
        }
      ],
      "source": [
        "from pinecone import SearchQuery, SearchRerank\n",
        "\n",
        "# Define the query\n",
        "query = \"Famous historical structures and monuments\"\n",
        "\n",
        "# Search the dense index\n",
        "results = dense_index.search(\n",
        "    namespace=\"example-namespace\",\n",
        "    query=SearchQuery(\n",
        "        top_k=10,\n",
        "        inputs={'text': query}\n",
        "    )\n",
        ")\n",
        "\n",
        "print_results(results)"
      ]
    },
    {
      "cell_type": "markdown",
      "metadata": {
        "id": "SFXzoE1thnXa"
      },
      "source": [
        "Notice that most of the results are about historical structures and monuments. However, a few unrelated statements are included as well and are ranked high in the list, for example, statements about Shakespeare and renewable energy.\n",
        "\n",
        "To get a more accurate ranking, search again but this time [rerank the initial results](https://docs.pinecone.io/guides/search/rerank-results) based on their relevance to the query."
      ]
    },
    {
      "cell_type": "code",
      "execution_count": null,
      "metadata": {
        "id": "MaqbcsI4I1gU",
        "outputId": "540fb749-88c1-46ee-8d02-e8cee6e349dd"
      },
      "outputs": [
        {
          "name": "stdout",
          "output_type": "stream",
          "text": [
            "id: rec1  | score: 0.107 | category: history    | text: The Eiffel Tower was completed in 1889 and stands in Paris, France.\n",
            "id: rec38 | score: 0.064 | category: history    | text: The Taj Mahal is a mausoleum built by Emperor Shah Jahan.\n",
            "id: rec7  | score: 0.063 | category: history    | text: The Great Wall of China was built to protect against invasions.\n",
            "id: rec21 | score: 0.019 | category: history    | text: The Statue of Liberty was a gift from France to the United States.\n",
            "id: rec17 | score: 0.015 | category: history    | text: The Pyramids of Giza are among the Seven Wonders of the Ancient World.\n",
            "id: rec26 | score: 0.011 | category: history    | text: Rome was once the center of a vast empire.        \n",
            "id: rec15 | score: 0.008 | category: art        | text: Leonardo da Vinci painted the Mona Lisa.          \n",
            "id: rec5  | score: 0.0   | category: literature | text: Shakespeare wrote many famous plays, including Hamlet and Macbeth.\n",
            "id: rec47 | score: 0.0   | category: history    | text: The Industrial Revolution transformed manufacturing and transportation.\n",
            "id: rec50 | score: 0.0   | category: energy     | text: Renewable energy sources include wind, solar, and hydroelectric power.\n"
          ]
        }
      ],
      "source": [
        "# Search the dense index and rerank results\n",
        "reranked_results = dense_index.search(\n",
        "    namespace=\"example-namespace\",\n",
        "    query=SearchQuery(\n",
        "        top_k=10,\n",
        "        inputs={'text': query}\n",
        "    ),\n",
        "    rerank=SearchRerank(\n",
        "        model=\"bge-reranker-v2-m3\",\n",
        "        top_n=10,\n",
        "        rank_fields=[\"chunk_text\"]\n",
        "    )\n",
        ")\n",
        "\n",
        "print_results(reranked_results)"
      ]
    },
    {
      "cell_type": "markdown",
      "metadata": {
        "id": "lfaATEz7hvqC"
      },
      "source": [
        "Notice that all of the most relevant results about historical structures and monuments are now ranked highest."
      ]
    },
    {
      "cell_type": "markdown",
      "metadata": {
        "id": "AsVqrR2YipPM"
      },
      "source": [
        "## Improve results\n",
        "\n",
        "Reranking results is one of the most effective ways to improve search accuracy and relevance, but there are many other techniques to consider. For example:\n",
        "\n",
        "* [Filtering by metadata](https://docs.pinecone.io/guides/search/filter-by-metadata): When records contain additional metadata, you can limit the search to records matching a filter expression.\n",
        "\n",
        "* [Hybrid search](https://docs.pinecone.io/guides/search/hybrid-search): You can add lexical search to capture precise keyword matches (e.g., product SKUs, email addresses, domain-specific terms) in addition to semantic matches.\n",
        "\n",
        "* [Chunking strategies](https://www.pinecone.io/learn/chunking-strategies/): You can chunk your content in different ways to get better results. Consider factors like the length of the content, the complexity of queries, and how results will be used in your application."
      ]
    },
    {
      "cell_type": "markdown",
      "metadata": {
        "id": "DavgcphWjwWw"
      },
      "source": [
        "## Clean up\n",
        "\n",
        "When you no longer need your example index, you can delete it to save resources. After you delete an index, you cannot use it again or recover it."
      ]
    },
    {
      "cell_type": "code",
      "execution_count": null,
      "metadata": {
        "id": "1iHV2Y0ujy0y"
      },
      "outputs": [],
      "source": [
        "pc.delete_index(name=index_name)"
      ]
    },
    {
      "cell_type": "code",
      "source": [],
      "metadata": {
        "id": "n5sdgFzYCW-D"
      },
      "execution_count": null,
      "outputs": []
    },
    {
      "cell_type": "markdown",
      "metadata": {
        "id": "6c41cc68"
      },
      "source": [
        "# Task\n",
        "Upsert the data from the files \"/content/Abilities.xlsx\" and \"/content/Skills.xlsx\" into the Pinecone index."
      ]
    },
    {
      "cell_type": "markdown",
      "metadata": {
        "id": "20b0f73d"
      },
      "source": [
        "## Load data\n",
        "\n",
        "### Subtask:\n",
        "Read the data from the \"Abilities.xlsx\" and \"Skills.xlsx\" files into pandas DataFrames.\n"
      ]
    },
    {
      "cell_type": "markdown",
      "metadata": {
        "id": "7dd8b0df"
      },
      "source": [
        "**Reasoning**:\n",
        "The subtask is to read data from two Excel files into pandas DataFrames. This requires importing pandas and using the `read_excel` function for each file.\n",
        "\n"
      ]
    },
    {
      "cell_type": "code",
      "metadata": {
        "id": "071a3691"
      },
      "source": [
        "import pandas as pd\n",
        "\n",
        "df_abilities = pd.read_excel(\"/content/Abilities.xlsx\")\n",
        "df_skills = pd.read_excel(\"/content/Skills.xlsx\")"
      ],
      "execution_count": 8,
      "outputs": []
    },
    {
      "cell_type": "markdown",
      "metadata": {
        "id": "964af241"
      },
      "source": [
        "## Combine data\n",
        "\n",
        "### Subtask:\n",
        "Combine the data from the two DataFrames into a single DataFrame.\n"
      ]
    },
    {
      "cell_type": "markdown",
      "metadata": {
        "id": "9b73c9f8"
      },
      "source": [
        "**Reasoning**:\n",
        "Concatenate the two dataframes into a single dataframe.\n",
        "\n"
      ]
    },
    {
      "cell_type": "code",
      "metadata": {
        "id": "fdfbe6d7"
      },
      "source": [
        "df_combined = pd.concat([df_abilities, df_skills], ignore_index=True)"
      ],
      "execution_count": 9,
      "outputs": []
    },
    {
      "cell_type": "markdown",
      "metadata": {
        "id": "7338a406"
      },
      "source": [
        "## Prepare data for upserting\n",
        "\n",
        "### Subtask:\n",
        "Transform the combined data into the format required for upserting into the Pinecone index, creating records with an ID, text, and any relevant metadata.\n"
      ]
    },
    {
      "cell_type": "markdown",
      "metadata": {
        "id": "90c3f1e2"
      },
      "source": [
        "**Reasoning**:\n",
        "Iterate through the combined dataframe and create a list of dictionaries in the required format for Pinecone upsert, including a unique ID, chunk text, and relevant metadata.\n",
        "\n"
      ]
    },
    {
      "cell_type": "code",
      "metadata": {
        "id": "e82f40ff"
      },
      "source": [
        "records_for_upsert = []\n",
        "for index, row in df_combined.iterrows():\n",
        "    record_id = f\"{row['O*NET-SOC Code']}-{row['Element ID']}-{row['Scale ID']}\"\n",
        "    records_for_upsert.append({\n",
        "        \"_id\": record_id,\n",
        "        \"chunk_text\": row['Element Name'],\n",
        "        \"Title\": row['Title'],\n",
        "        \"Scale ID\": row['Scale ID'],\n",
        "        \"Scale Name\": row['Scale Name'],\n",
        "        \"Data Value\": row['Data Value']\n",
        "    })\n"
      ],
      "execution_count": 10,
      "outputs": []
    },
    {
      "cell_type": "markdown",
      "metadata": {
        "id": "80ffa981"
      },
      "source": [
        "## Upsert data\n",
        "\n",
        "### Subtask:\n",
        "Upsert the prepared data into the Pinecone index.\n"
      ]
    },
    {
      "cell_type": "markdown",
      "metadata": {
        "id": "964be361"
      },
      "source": [
        "**Reasoning**:\n",
        "Upsert the prepared data into the Pinecone index.\n",
        "\n"
      ]
    },
    {
      "cell_type": "code",
      "metadata": {
        "colab": {
          "base_uri": "https://localhost:8080/",
          "height": 443
        },
        "id": "f16b307b",
        "outputId": "6aaafafd-1f90-4d7c-8711-b4661da85e98"
      },
      "source": [
        "dense_index = pc.Index(name=index_name)\n",
        "\n",
        "dense_index.upsert_records(\n",
        "    namespace=\"example-namespace\",\n",
        "    records=records_for_upsert\n",
        ")"
      ],
      "execution_count": 11,
      "outputs": [
        {
          "output_type": "error",
          "ename": "UnauthorizedException",
          "evalue": "(401)\nReason: Unauthorized\nHTTP response headers: HTTPHeaderDict({'x-pinecone-api-version': '2025-04', 'x-cloud-trace-context': 'a4af17f58a3f61cc75fd8c8329b29d17', 'date': 'Thu, 16 Oct 2025 22:16:40 GMT', 'content-type': 'text/html', 'server': 'Google Frontend', 'Content-Length': '15', 'Via': '1.1 google', 'Alt-Svc': 'h3=\":443\"; ma=2592000,h3-29=\":443\"; ma=2592000'})\nHTTP response body: Invalid API Key\n",
          "traceback": [
            "\u001b[0;31m---------------------------------------------------------------------------\u001b[0m",
            "\u001b[0;31mUnauthorizedException\u001b[0m                     Traceback (most recent call last)",
            "\u001b[0;32m/tmp/ipython-input-3013041200.py\u001b[0m in \u001b[0;36m<cell line: 0>\u001b[0;34m()\u001b[0m\n\u001b[0;32m----> 1\u001b[0;31m \u001b[0mdense_index\u001b[0m \u001b[0;34m=\u001b[0m \u001b[0mpc\u001b[0m\u001b[0;34m.\u001b[0m\u001b[0mIndex\u001b[0m\u001b[0;34m(\u001b[0m\u001b[0mname\u001b[0m\u001b[0;34m=\u001b[0m\u001b[0mindex_name\u001b[0m\u001b[0;34m)\u001b[0m\u001b[0;34m\u001b[0m\u001b[0;34m\u001b[0m\u001b[0m\n\u001b[0m\u001b[1;32m      2\u001b[0m \u001b[0;34m\u001b[0m\u001b[0m\n\u001b[1;32m      3\u001b[0m dense_index.upsert_records(\n\u001b[1;32m      4\u001b[0m     \u001b[0mnamespace\u001b[0m\u001b[0;34m=\u001b[0m\u001b[0;34m\"example-namespace\"\u001b[0m\u001b[0;34m,\u001b[0m\u001b[0;34m\u001b[0m\u001b[0;34m\u001b[0m\u001b[0m\n\u001b[1;32m      5\u001b[0m     \u001b[0mrecords\u001b[0m\u001b[0;34m=\u001b[0m\u001b[0mrecords_for_upsert\u001b[0m\u001b[0;34m\u001b[0m\u001b[0;34m\u001b[0m\u001b[0m\n",
            "\u001b[0;32m/usr/local/lib/python3.12/dist-packages/pinecone/pinecone.py\u001b[0m in \u001b[0;36mIndex\u001b[0;34m(self, name, host, **kwargs)\u001b[0m\n\u001b[1;32m    488\u001b[0m         \u001b[0;32melse\u001b[0m\u001b[0;34m:\u001b[0m\u001b[0;34m\u001b[0m\u001b[0;34m\u001b[0m\u001b[0m\n\u001b[1;32m    489\u001b[0m             \u001b[0;31m# Otherwise, get host url from describe_index using the index name\u001b[0m\u001b[0;34m\u001b[0m\u001b[0;34m\u001b[0m\u001b[0m\n\u001b[0;32m--> 490\u001b[0;31m             \u001b[0mindex_host\u001b[0m \u001b[0;34m=\u001b[0m \u001b[0mself\u001b[0m\u001b[0;34m.\u001b[0m\u001b[0mdb\u001b[0m\u001b[0;34m.\u001b[0m\u001b[0mindex\u001b[0m\u001b[0;34m.\u001b[0m\u001b[0m_get_host\u001b[0m\u001b[0;34m(\u001b[0m\u001b[0mname\u001b[0m\u001b[0;34m)\u001b[0m\u001b[0;34m\u001b[0m\u001b[0;34m\u001b[0m\u001b[0m\n\u001b[0m\u001b[1;32m    491\u001b[0m \u001b[0;34m\u001b[0m\u001b[0m\n\u001b[1;32m    492\u001b[0m         return _Index(\n",
            "\u001b[0;32m/usr/local/lib/python3.12/dist-packages/pinecone/db_control/resources/sync/index.py\u001b[0m in \u001b[0;36m_get_host\u001b[0;34m(self, name)\u001b[0m\n\u001b[1;32m    243\u001b[0m     \u001b[0;32mdef\u001b[0m \u001b[0m_get_host\u001b[0m\u001b[0;34m(\u001b[0m\u001b[0mself\u001b[0m\u001b[0;34m,\u001b[0m \u001b[0mname\u001b[0m\u001b[0;34m:\u001b[0m \u001b[0mstr\u001b[0m\u001b[0;34m)\u001b[0m \u001b[0;34m->\u001b[0m \u001b[0mstr\u001b[0m\u001b[0;34m:\u001b[0m\u001b[0;34m\u001b[0m\u001b[0;34m\u001b[0m\u001b[0m\n\u001b[1;32m    244\u001b[0m         \u001b[0;34m\"\"\":meta private:\"\"\"\u001b[0m\u001b[0;34m\u001b[0m\u001b[0;34m\u001b[0m\u001b[0m\n\u001b[0;32m--> 245\u001b[0;31m         return self._index_host_store.get_host(\n\u001b[0m\u001b[1;32m    246\u001b[0m             \u001b[0mapi\u001b[0m\u001b[0;34m=\u001b[0m\u001b[0mself\u001b[0m\u001b[0;34m.\u001b[0m\u001b[0m_index_api\u001b[0m\u001b[0;34m,\u001b[0m \u001b[0mconfig\u001b[0m\u001b[0;34m=\u001b[0m\u001b[0mself\u001b[0m\u001b[0;34m.\u001b[0m\u001b[0mconfig\u001b[0m\u001b[0;34m,\u001b[0m \u001b[0mindex_name\u001b[0m\u001b[0;34m=\u001b[0m\u001b[0mname\u001b[0m\u001b[0;34m\u001b[0m\u001b[0;34m\u001b[0m\u001b[0m\n\u001b[1;32m    247\u001b[0m         )\n",
            "\u001b[0;32m/usr/local/lib/python3.12/dist-packages/pinecone/db_control/index_host_store.py\u001b[0m in \u001b[0;36mget_host\u001b[0;34m(self, api, config, index_name)\u001b[0m\n\u001b[1;32m     45\u001b[0m             \u001b[0;32mreturn\u001b[0m \u001b[0mself\u001b[0m\u001b[0;34m.\u001b[0m\u001b[0m_indexHosts\u001b[0m\u001b[0;34m[\u001b[0m\u001b[0mkey\u001b[0m\u001b[0;34m]\u001b[0m\u001b[0;34m\u001b[0m\u001b[0;34m\u001b[0m\u001b[0m\n\u001b[1;32m     46\u001b[0m         \u001b[0;32melse\u001b[0m\u001b[0;34m:\u001b[0m\u001b[0;34m\u001b[0m\u001b[0;34m\u001b[0m\u001b[0m\n\u001b[0;32m---> 47\u001b[0;31m             \u001b[0mdescription\u001b[0m \u001b[0;34m=\u001b[0m \u001b[0mapi\u001b[0m\u001b[0;34m.\u001b[0m\u001b[0mdescribe_index\u001b[0m\u001b[0;34m(\u001b[0m\u001b[0mindex_name\u001b[0m\u001b[0;34m)\u001b[0m\u001b[0;34m\u001b[0m\u001b[0;34m\u001b[0m\u001b[0m\n\u001b[0m\u001b[1;32m     48\u001b[0m             \u001b[0mself\u001b[0m\u001b[0;34m.\u001b[0m\u001b[0mset_host\u001b[0m\u001b[0;34m(\u001b[0m\u001b[0mconfig\u001b[0m\u001b[0;34m,\u001b[0m \u001b[0mindex_name\u001b[0m\u001b[0;34m,\u001b[0m \u001b[0mdescription\u001b[0m\u001b[0;34m.\u001b[0m\u001b[0mhost\u001b[0m\u001b[0;34m)\u001b[0m\u001b[0;34m\u001b[0m\u001b[0;34m\u001b[0m\u001b[0m\n\u001b[1;32m     49\u001b[0m             \u001b[0;32mif\u001b[0m \u001b[0;32mnot\u001b[0m \u001b[0mself\u001b[0m\u001b[0;34m.\u001b[0m\u001b[0mkey_exists\u001b[0m\u001b[0;34m(\u001b[0m\u001b[0mkey\u001b[0m\u001b[0;34m)\u001b[0m\u001b[0;34m:\u001b[0m\u001b[0;34m\u001b[0m\u001b[0;34m\u001b[0m\u001b[0m\n",
            "\u001b[0;32m/usr/local/lib/python3.12/dist-packages/pinecone/openapi_support/endpoint.py\u001b[0m in \u001b[0;36m__call__\u001b[0;34m(self, *args, **kwargs)\u001b[0m\n\u001b[1;32m    100\u001b[0m \u001b[0;34m\u001b[0m\u001b[0m\n\u001b[1;32m    101\u001b[0m         \"\"\"\n\u001b[0;32m--> 102\u001b[0;31m         \u001b[0;32mreturn\u001b[0m \u001b[0mself\u001b[0m\u001b[0;34m.\u001b[0m\u001b[0mcallable\u001b[0m\u001b[0;34m(\u001b[0m\u001b[0mself\u001b[0m\u001b[0;34m,\u001b[0m \u001b[0;34m*\u001b[0m\u001b[0margs\u001b[0m\u001b[0;34m,\u001b[0m \u001b[0;34m**\u001b[0m\u001b[0mkwargs\u001b[0m\u001b[0;34m)\u001b[0m\u001b[0;34m\u001b[0m\u001b[0;34m\u001b[0m\u001b[0m\n\u001b[0m\u001b[1;32m    103\u001b[0m \u001b[0;34m\u001b[0m\u001b[0m\n\u001b[1;32m    104\u001b[0m     \u001b[0;32mdef\u001b[0m \u001b[0mcall_with_http_info\u001b[0m\u001b[0;34m(\u001b[0m\u001b[0mself\u001b[0m\u001b[0;34m,\u001b[0m \u001b[0;34m**\u001b[0m\u001b[0mkwargs\u001b[0m\u001b[0;34m)\u001b[0m\u001b[0;34m:\u001b[0m\u001b[0;34m\u001b[0m\u001b[0;34m\u001b[0m\u001b[0m\n",
            "\u001b[0;32m/usr/local/lib/python3.12/dist-packages/pinecone/core/openapi/db_control/api/manage_indexes_api.py\u001b[0m in \u001b[0;36m__describe_index\u001b[0;34m(self, index_name, **kwargs)\u001b[0m\n\u001b[1;32m    881\u001b[0m             \u001b[0mkwargs\u001b[0m \u001b[0;34m=\u001b[0m \u001b[0mself\u001b[0m\u001b[0;34m.\u001b[0m\u001b[0m_process_openapi_kwargs\u001b[0m\u001b[0;34m(\u001b[0m\u001b[0mkwargs\u001b[0m\u001b[0;34m)\u001b[0m\u001b[0;34m\u001b[0m\u001b[0;34m\u001b[0m\u001b[0m\n\u001b[1;32m    882\u001b[0m             \u001b[0mkwargs\u001b[0m\u001b[0;34m[\u001b[0m\u001b[0;34m\"index_name\"\u001b[0m\u001b[0;34m]\u001b[0m \u001b[0;34m=\u001b[0m \u001b[0mindex_name\u001b[0m\u001b[0;34m\u001b[0m\u001b[0;34m\u001b[0m\u001b[0m\n\u001b[0;32m--> 883\u001b[0;31m             \u001b[0;32mreturn\u001b[0m \u001b[0mself\u001b[0m\u001b[0;34m.\u001b[0m\u001b[0mcall_with_http_info\u001b[0m\u001b[0;34m(\u001b[0m\u001b[0;34m**\u001b[0m\u001b[0mkwargs\u001b[0m\u001b[0;34m)\u001b[0m\u001b[0;34m\u001b[0m\u001b[0;34m\u001b[0m\u001b[0m\n\u001b[0m\u001b[1;32m    884\u001b[0m \u001b[0;34m\u001b[0m\u001b[0m\n\u001b[1;32m    885\u001b[0m         self.describe_index = _Endpoint(\n",
            "\u001b[0;32m/usr/local/lib/python3.12/dist-packages/pinecone/openapi_support/endpoint.py\u001b[0m in \u001b[0;36mcall_with_http_info\u001b[0;34m(self, **kwargs)\u001b[0m\n\u001b[1;32m    132\u001b[0m         \u001b[0mHeaderUtil\u001b[0m\u001b[0;34m.\u001b[0m\u001b[0mprepare_headers\u001b[0m\u001b[0;34m(\u001b[0m\u001b[0mheaders_map\u001b[0m\u001b[0;34m=\u001b[0m\u001b[0mself\u001b[0m\u001b[0;34m.\u001b[0m\u001b[0mheaders_map\u001b[0m\u001b[0;34m,\u001b[0m \u001b[0mparams\u001b[0m\u001b[0;34m=\u001b[0m\u001b[0mparams\u001b[0m\u001b[0;34m)\u001b[0m\u001b[0;34m\u001b[0m\u001b[0;34m\u001b[0m\u001b[0m\n\u001b[1;32m    133\u001b[0m \u001b[0;34m\u001b[0m\u001b[0m\n\u001b[0;32m--> 134\u001b[0;31m         return self.api_client.call_api(\n\u001b[0m\u001b[1;32m    135\u001b[0m             \u001b[0mself\u001b[0m\u001b[0;34m.\u001b[0m\u001b[0msettings\u001b[0m\u001b[0;34m[\u001b[0m\u001b[0;34m\"endpoint_path\"\u001b[0m\u001b[0;34m]\u001b[0m\u001b[0;34m,\u001b[0m\u001b[0;34m\u001b[0m\u001b[0;34m\u001b[0m\u001b[0m\n\u001b[1;32m    136\u001b[0m             \u001b[0mself\u001b[0m\u001b[0;34m.\u001b[0m\u001b[0msettings\u001b[0m\u001b[0;34m[\u001b[0m\u001b[0;34m\"http_method\"\u001b[0m\u001b[0;34m]\u001b[0m\u001b[0;34m,\u001b[0m\u001b[0;34m\u001b[0m\u001b[0;34m\u001b[0m\u001b[0m\n",
            "\u001b[0;32m/usr/local/lib/python3.12/dist-packages/pinecone/openapi_support/api_client.py\u001b[0m in \u001b[0;36mcall_api\u001b[0;34m(self, resource_path, method, path_params, query_params, header_params, body, post_params, files, response_type, auth_settings, async_req, async_threadpool_executor, _return_http_data_only, collection_formats, _preload_content, _request_timeout, _host, _check_type)\u001b[0m\n\u001b[1;32m    304\u001b[0m \u001b[0;34m\u001b[0m\u001b[0m\n\u001b[1;32m    305\u001b[0m         \u001b[0;32mif\u001b[0m \u001b[0;32mnot\u001b[0m \u001b[0masync_req\u001b[0m\u001b[0;34m:\u001b[0m\u001b[0;34m\u001b[0m\u001b[0;34m\u001b[0m\u001b[0m\n\u001b[0;32m--> 306\u001b[0;31m             return self.__call_api(\n\u001b[0m\u001b[1;32m    307\u001b[0m                 \u001b[0mresource_path\u001b[0m\u001b[0;34m,\u001b[0m\u001b[0;34m\u001b[0m\u001b[0;34m\u001b[0m\u001b[0m\n\u001b[1;32m    308\u001b[0m                 \u001b[0mmethod\u001b[0m\u001b[0;34m,\u001b[0m\u001b[0;34m\u001b[0m\u001b[0;34m\u001b[0m\u001b[0m\n",
            "\u001b[0;32m/usr/local/lib/python3.12/dist-packages/pinecone/openapi_support/api_client.py\u001b[0m in \u001b[0;36m__call_api\u001b[0;34m(self, resource_path, method, path_params, query_params, header_params, body, post_params, files, response_type, auth_settings, _return_http_data_only, collection_formats, _preload_content, _request_timeout, _host, _check_type)\u001b[0m\n\u001b[1;32m    180\u001b[0m         \u001b[0;32mexcept\u001b[0m \u001b[0mPineconeApiException\u001b[0m \u001b[0;32mas\u001b[0m \u001b[0me\u001b[0m\u001b[0;34m:\u001b[0m\u001b[0;34m\u001b[0m\u001b[0;34m\u001b[0m\u001b[0m\n\u001b[1;32m    181\u001b[0m             \u001b[0me\u001b[0m\u001b[0;34m.\u001b[0m\u001b[0mbody\u001b[0m \u001b[0;34m=\u001b[0m \u001b[0me\u001b[0m\u001b[0;34m.\u001b[0m\u001b[0mbody\u001b[0m\u001b[0;34m.\u001b[0m\u001b[0mdecode\u001b[0m\u001b[0;34m(\u001b[0m\u001b[0;34m\"utf-8\"\u001b[0m\u001b[0;34m)\u001b[0m\u001b[0;34m\u001b[0m\u001b[0;34m\u001b[0m\u001b[0m\n\u001b[0;32m--> 182\u001b[0;31m             \u001b[0;32mraise\u001b[0m \u001b[0me\u001b[0m\u001b[0;34m\u001b[0m\u001b[0;34m\u001b[0m\u001b[0m\n\u001b[0m\u001b[1;32m    183\u001b[0m \u001b[0;34m\u001b[0m\u001b[0m\n\u001b[1;32m    184\u001b[0m         \u001b[0mself\u001b[0m\u001b[0;34m.\u001b[0m\u001b[0mlast_response\u001b[0m \u001b[0;34m=\u001b[0m \u001b[0mresponse_data\u001b[0m\u001b[0;34m\u001b[0m\u001b[0;34m\u001b[0m\u001b[0m\n",
            "\u001b[0;32m/usr/local/lib/python3.12/dist-packages/pinecone/openapi_support/api_client.py\u001b[0m in \u001b[0;36m__call_api\u001b[0;34m(self, resource_path, method, path_params, query_params, header_params, body, post_params, files, response_type, auth_settings, _return_http_data_only, collection_formats, _preload_content, _request_timeout, _host, _check_type)\u001b[0m\n\u001b[1;32m    168\u001b[0m         \u001b[0;32mtry\u001b[0m\u001b[0;34m:\u001b[0m\u001b[0;34m\u001b[0m\u001b[0;34m\u001b[0m\u001b[0m\n\u001b[1;32m    169\u001b[0m             \u001b[0;31m# perform request and return response\u001b[0m\u001b[0;34m\u001b[0m\u001b[0;34m\u001b[0m\u001b[0m\n\u001b[0;32m--> 170\u001b[0;31m             response_data = self.request(\n\u001b[0m\u001b[1;32m    171\u001b[0m                 \u001b[0mmethod\u001b[0m\u001b[0;34m,\u001b[0m\u001b[0;34m\u001b[0m\u001b[0;34m\u001b[0m\u001b[0m\n\u001b[1;32m    172\u001b[0m                 \u001b[0murl\u001b[0m\u001b[0;34m,\u001b[0m\u001b[0;34m\u001b[0m\u001b[0;34m\u001b[0m\u001b[0m\n",
            "\u001b[0;32m/usr/local/lib/python3.12/dist-packages/pinecone/openapi_support/api_client.py\u001b[0m in \u001b[0;36mrequest\u001b[0;34m(self, method, url, query_params, headers, post_params, body, _preload_content, _request_timeout)\u001b[0m\n\u001b[1;32m    358\u001b[0m         \u001b[0;34m\"\"\"Makes the HTTP request using RESTClient.\"\"\"\u001b[0m\u001b[0;34m\u001b[0m\u001b[0;34m\u001b[0m\u001b[0m\n\u001b[1;32m    359\u001b[0m         \u001b[0;32mif\u001b[0m \u001b[0mmethod\u001b[0m \u001b[0;34m==\u001b[0m \u001b[0;34m\"GET\"\u001b[0m\u001b[0;34m:\u001b[0m\u001b[0;34m\u001b[0m\u001b[0;34m\u001b[0m\u001b[0m\n\u001b[0;32m--> 360\u001b[0;31m             return self.rest_client.GET(\n\u001b[0m\u001b[1;32m    361\u001b[0m                 \u001b[0murl\u001b[0m\u001b[0;34m,\u001b[0m\u001b[0;34m\u001b[0m\u001b[0;34m\u001b[0m\u001b[0m\n\u001b[1;32m    362\u001b[0m                 \u001b[0mquery_params\u001b[0m\u001b[0;34m=\u001b[0m\u001b[0mquery_params\u001b[0m\u001b[0;34m,\u001b[0m\u001b[0;34m\u001b[0m\u001b[0;34m\u001b[0m\u001b[0m\n",
            "\u001b[0;32m/usr/local/lib/python3.12/dist-packages/pinecone/openapi_support/rest_utils.py\u001b[0m in \u001b[0;36mGET\u001b[0;34m(self, url, headers, query_params, _preload_content, _request_timeout)\u001b[0m\n\u001b[1;32m     73\u001b[0m         \u001b[0mself\u001b[0m\u001b[0;34m,\u001b[0m \u001b[0murl\u001b[0m\u001b[0;34m,\u001b[0m \u001b[0mheaders\u001b[0m\u001b[0;34m=\u001b[0m\u001b[0;32mNone\u001b[0m\u001b[0;34m,\u001b[0m \u001b[0mquery_params\u001b[0m\u001b[0;34m=\u001b[0m\u001b[0;32mNone\u001b[0m\u001b[0;34m,\u001b[0m \u001b[0m_preload_content\u001b[0m\u001b[0;34m=\u001b[0m\u001b[0;32mTrue\u001b[0m\u001b[0;34m,\u001b[0m \u001b[0m_request_timeout\u001b[0m\u001b[0;34m=\u001b[0m\u001b[0;32mNone\u001b[0m\u001b[0;34m\u001b[0m\u001b[0;34m\u001b[0m\u001b[0m\n\u001b[1;32m     74\u001b[0m     ):\n\u001b[0;32m---> 75\u001b[0;31m         return self.request(\n\u001b[0m\u001b[1;32m     76\u001b[0m             \u001b[0;34m\"GET\"\u001b[0m\u001b[0;34m,\u001b[0m\u001b[0;34m\u001b[0m\u001b[0;34m\u001b[0m\u001b[0m\n\u001b[1;32m     77\u001b[0m             \u001b[0murl\u001b[0m\u001b[0;34m,\u001b[0m\u001b[0;34m\u001b[0m\u001b[0;34m\u001b[0m\u001b[0m\n",
            "\u001b[0;32m/usr/local/lib/python3.12/dist-packages/pinecone/openapi_support/rest_urllib3.py\u001b[0m in \u001b[0;36mrequest\u001b[0;34m(self, method, url, query_params, headers, body, post_params, _preload_content, _request_timeout)\u001b[0m\n\u001b[1;32m    265\u001b[0m             \u001b[0mlogger\u001b[0m\u001b[0;34m.\u001b[0m\u001b[0mdebug\u001b[0m\u001b[0;34m(\u001b[0m\u001b[0;34m\"response body: %s\"\u001b[0m\u001b[0;34m,\u001b[0m \u001b[0mr\u001b[0m\u001b[0;34m.\u001b[0m\u001b[0mdata\u001b[0m\u001b[0;34m)\u001b[0m\u001b[0;34m\u001b[0m\u001b[0;34m\u001b[0m\u001b[0m\n\u001b[1;32m    266\u001b[0m \u001b[0;34m\u001b[0m\u001b[0m\n\u001b[0;32m--> 267\u001b[0;31m         \u001b[0;32mreturn\u001b[0m \u001b[0mraise_exceptions_or_return\u001b[0m\u001b[0;34m(\u001b[0m\u001b[0mr\u001b[0m\u001b[0;34m)\u001b[0m\u001b[0;34m\u001b[0m\u001b[0;34m\u001b[0m\u001b[0m\n\u001b[0m",
            "\u001b[0;32m/usr/local/lib/python3.12/dist-packages/pinecone/openapi_support/rest_utils.py\u001b[0m in \u001b[0;36mraise_exceptions_or_return\u001b[0;34m(r)\u001b[0m\n\u001b[1;32m     36\u001b[0m     \u001b[0;32mif\u001b[0m \u001b[0;32mnot\u001b[0m \u001b[0;36m200\u001b[0m \u001b[0;34m<=\u001b[0m \u001b[0mr\u001b[0m\u001b[0;34m.\u001b[0m\u001b[0mstatus\u001b[0m \u001b[0;34m<=\u001b[0m \u001b[0;36m299\u001b[0m\u001b[0;34m:\u001b[0m\u001b[0;34m\u001b[0m\u001b[0;34m\u001b[0m\u001b[0m\n\u001b[1;32m     37\u001b[0m         \u001b[0;32mif\u001b[0m \u001b[0mr\u001b[0m\u001b[0;34m.\u001b[0m\u001b[0mstatus\u001b[0m \u001b[0;34m==\u001b[0m \u001b[0;36m401\u001b[0m\u001b[0;34m:\u001b[0m\u001b[0;34m\u001b[0m\u001b[0;34m\u001b[0m\u001b[0m\n\u001b[0;32m---> 38\u001b[0;31m             \u001b[0;32mraise\u001b[0m \u001b[0mUnauthorizedException\u001b[0m\u001b[0;34m(\u001b[0m\u001b[0mhttp_resp\u001b[0m\u001b[0;34m=\u001b[0m\u001b[0mr\u001b[0m\u001b[0;34m)\u001b[0m\u001b[0;34m\u001b[0m\u001b[0;34m\u001b[0m\u001b[0m\n\u001b[0m\u001b[1;32m     39\u001b[0m \u001b[0;34m\u001b[0m\u001b[0m\n\u001b[1;32m     40\u001b[0m         \u001b[0;32mif\u001b[0m \u001b[0mr\u001b[0m\u001b[0;34m.\u001b[0m\u001b[0mstatus\u001b[0m \u001b[0;34m==\u001b[0m \u001b[0;36m403\u001b[0m\u001b[0;34m:\u001b[0m\u001b[0;34m\u001b[0m\u001b[0;34m\u001b[0m\u001b[0m\n",
            "\u001b[0;31mUnauthorizedException\u001b[0m: (401)\nReason: Unauthorized\nHTTP response headers: HTTPHeaderDict({'x-pinecone-api-version': '2025-04', 'x-cloud-trace-context': 'a4af17f58a3f61cc75fd8c8329b29d17', 'date': 'Thu, 16 Oct 2025 22:16:40 GMT', 'content-type': 'text/html', 'server': 'Google Frontend', 'Content-Length': '15', 'Via': '1.1 google', 'Alt-Svc': 'h3=\":443\"; ma=2592000,h3-29=\":443\"; ma=2592000'})\nHTTP response body: Invalid API Key\n"
          ]
        }
      ]
    },
    {
      "cell_type": "markdown",
      "metadata": {
        "id": "b4fa4d10"
      },
      "source": [
        "**Reasoning**:\n",
        "The previous command failed due to an invalid API key. Need to re-authenticate to get a valid API key before attempting to upsert again.\n",
        "\n"
      ]
    },
    {
      "cell_type": "code",
      "metadata": {
        "colab": {
          "base_uri": "https://localhost:8080/",
          "height": 247
        },
        "id": "VPPrQ-K-GM9_",
        "outputId": "e3ab3853-522e-4e0d-a793-85f5c5e3bcd0"
      },
      "source": [
        "import os\n",
        "if not os.environ.get(\"PINECONE_API_KEY\"):\n",
        "    from pinecone_notebooks.colab import Authenticate\n",
        "    Authenticate()"
      ],
      "execution_count": 12,
      "outputs": [
        {
          "output_type": "display_data",
          "data": {
            "text/plain": [
              "<IPython.core.display.HTML object>"
            ],
            "text/html": [
              "<script type=\"text/javascript\" src=\"https://connect.pinecone.io/embed.js\"></script>"
            ]
          },
          "metadata": {}
        }
      ]
    },
    {
      "cell_type": "markdown",
      "metadata": {
        "id": "be0d717a"
      },
      "source": [
        "**Reasoning**:\n",
        "Initialize the Pinecone client with the potentially updated API key.\n",
        "\n"
      ]
    },
    {
      "cell_type": "code",
      "metadata": {
        "colab": {
          "base_uri": "https://localhost:8080/",
          "height": 373
        },
        "id": "7dd8a8c2",
        "outputId": "21b00059-70b5-4219-f144-d4b2808e8712"
      },
      "source": [
        "from pinecone import Pinecone\n",
        "\n",
        "api_key = os.environ.get(\"PINECONE_API_KEY\")\n",
        "pc = Pinecone(api_key=api_key)"
      ],
      "execution_count": 13,
      "outputs": [
        {
          "output_type": "error",
          "ename": "PineconeConfigurationError",
          "evalue": "You haven't specified an API key. Please either set the PINECONE_API_KEY environment variable or pass the 'api_key' keyword argument to the Pinecone client constructor.",
          "traceback": [
            "\u001b[0;31m---------------------------------------------------------------------------\u001b[0m",
            "\u001b[0;31mPineconeConfigurationError\u001b[0m                Traceback (most recent call last)",
            "\u001b[0;32m/tmp/ipython-input-441339325.py\u001b[0m in \u001b[0;36m<cell line: 0>\u001b[0;34m()\u001b[0m\n\u001b[1;32m      2\u001b[0m \u001b[0;34m\u001b[0m\u001b[0m\n\u001b[1;32m      3\u001b[0m \u001b[0mapi_key\u001b[0m \u001b[0;34m=\u001b[0m \u001b[0mos\u001b[0m\u001b[0;34m.\u001b[0m\u001b[0menviron\u001b[0m\u001b[0;34m.\u001b[0m\u001b[0mget\u001b[0m\u001b[0;34m(\u001b[0m\u001b[0;34m\"PINECONE_API_KEY\"\u001b[0m\u001b[0;34m)\u001b[0m\u001b[0;34m\u001b[0m\u001b[0;34m\u001b[0m\u001b[0m\n\u001b[0;32m----> 4\u001b[0;31m \u001b[0mpc\u001b[0m \u001b[0;34m=\u001b[0m \u001b[0mPinecone\u001b[0m\u001b[0;34m(\u001b[0m\u001b[0mapi_key\u001b[0m\u001b[0;34m=\u001b[0m\u001b[0mapi_key\u001b[0m\u001b[0;34m)\u001b[0m\u001b[0;34m\u001b[0m\u001b[0;34m\u001b[0m\u001b[0m\n\u001b[0m",
            "\u001b[0;32m/usr/local/lib/python3.12/dist-packages/pinecone/pinecone.py\u001b[0m in \u001b[0;36m__init__\u001b[0;34m(self, api_key, host, proxy_url, proxy_headers, ssl_ca_certs, ssl_verify, additional_headers, pool_threads, **kwargs)\u001b[0m\n\u001b[1;32m    214\u001b[0m                 )\n\u001b[1;32m    215\u001b[0m \u001b[0;34m\u001b[0m\u001b[0m\n\u001b[0;32m--> 216\u001b[0;31m         self._config = PineconeConfig.build(\n\u001b[0m\u001b[1;32m    217\u001b[0m             \u001b[0mapi_key\u001b[0m\u001b[0;34m=\u001b[0m\u001b[0mapi_key\u001b[0m\u001b[0;34m,\u001b[0m\u001b[0;34m\u001b[0m\u001b[0;34m\u001b[0m\u001b[0m\n\u001b[1;32m    218\u001b[0m             \u001b[0mhost\u001b[0m\u001b[0;34m=\u001b[0m\u001b[0mhost\u001b[0m\u001b[0;34m,\u001b[0m\u001b[0;34m\u001b[0m\u001b[0;34m\u001b[0m\u001b[0m\n",
            "\u001b[0;32m/usr/local/lib/python3.12/dist-packages/pinecone/config/pinecone_config.py\u001b[0m in \u001b[0;36mbuild\u001b[0;34m(api_key, host, additional_headers, **kwargs)\u001b[0m\n\u001b[1;32m     33\u001b[0m                 \u001b[0mlogger\u001b[0m\u001b[0;34m.\u001b[0m\u001b[0mwarn\u001b[0m\u001b[0;34m(\u001b[0m\u001b[0;34mf\"Ignoring PINECONE_ADDITIONAL_HEADERS: {e}\"\u001b[0m\u001b[0;34m)\u001b[0m\u001b[0;34m\u001b[0m\u001b[0;34m\u001b[0m\u001b[0m\n\u001b[1;32m     34\u001b[0m \u001b[0;34m\u001b[0m\u001b[0m\n\u001b[0;32m---> 35\u001b[0;31m         return ConfigBuilder.build(\n\u001b[0m\u001b[1;32m     36\u001b[0m             \u001b[0mapi_key\u001b[0m\u001b[0;34m=\u001b[0m\u001b[0mapi_key\u001b[0m\u001b[0;34m,\u001b[0m \u001b[0mhost\u001b[0m\u001b[0;34m=\u001b[0m\u001b[0mhost\u001b[0m\u001b[0;34m,\u001b[0m \u001b[0madditional_headers\u001b[0m\u001b[0;34m=\u001b[0m\u001b[0madditional_headers\u001b[0m\u001b[0;34m,\u001b[0m \u001b[0;34m**\u001b[0m\u001b[0mkwargs\u001b[0m\u001b[0;34m\u001b[0m\u001b[0;34m\u001b[0m\u001b[0m\n\u001b[1;32m     37\u001b[0m         )\n",
            "\u001b[0;32m/usr/local/lib/python3.12/dist-packages/pinecone/config/config.py\u001b[0m in \u001b[0;36mbuild\u001b[0;34m(api_key, host, proxy_url, proxy_headers, ssl_ca_certs, ssl_verify, additional_headers, **kwargs)\u001b[0m\n\u001b[1;32m     65\u001b[0m \u001b[0;34m\u001b[0m\u001b[0m\n\u001b[1;32m     66\u001b[0m         \u001b[0;32mif\u001b[0m \u001b[0;32mnot\u001b[0m \u001b[0mapi_key\u001b[0m\u001b[0;34m:\u001b[0m\u001b[0;34m\u001b[0m\u001b[0;34m\u001b[0m\u001b[0m\n\u001b[0;32m---> 67\u001b[0;31m             raise PineconeConfigurationError(\n\u001b[0m\u001b[1;32m     68\u001b[0m                 \u001b[0;34m\"You haven't specified an API key. Please either set the PINECONE_API_KEY environment variable or pass the 'api_key' keyword argument to the Pinecone client constructor.\"\u001b[0m\u001b[0;34m\u001b[0m\u001b[0;34m\u001b[0m\u001b[0m\n\u001b[1;32m     69\u001b[0m             )\n",
            "\u001b[0;31mPineconeConfigurationError\u001b[0m: You haven't specified an API key. Please either set the PINECONE_API_KEY environment variable or pass the 'api_key' keyword argument to the Pinecone client constructor."
          ]
        }
      ]
    },
    {
      "cell_type": "markdown",
      "metadata": {
        "id": "bf8ba86c"
      },
      "source": [
        "**Reasoning**:\n",
        "The authentication widget did not successfully set the API key. Manually retrieve the API key from the Authenticate object and initialize the Pinecone client.\n",
        "\n"
      ]
    },
    {
      "cell_type": "code",
      "metadata": {
        "colab": {
          "base_uri": "https://localhost:8080/",
          "height": 423
        },
        "id": "0yPtUC3SGQRk",
        "outputId": "18e5d815-d0a3-46d6-a887-b4c9ebba101d"
      },
      "source": [
        "from pinecone import Pinecone\n",
        "from pinecone_notebooks.colab import Authenticate\n",
        "\n",
        "auth = Authenticate()\n",
        "api_key = auth.api_key\n",
        "pc = Pinecone(api_key=api_key)"
      ],
      "execution_count": 14,
      "outputs": [
        {
          "output_type": "display_data",
          "data": {
            "text/plain": [
              "<IPython.core.display.HTML object>"
            ],
            "text/html": [
              "<script type=\"text/javascript\" src=\"https://connect.pinecone.io/embed.js\"></script>"
            ]
          },
          "metadata": {}
        },
        {
          "output_type": "error",
          "ename": "AttributeError",
          "evalue": "'NoneType' object has no attribute 'api_key'",
          "traceback": [
            "\u001b[0;31m---------------------------------------------------------------------------\u001b[0m",
            "\u001b[0;31mAttributeError\u001b[0m                            Traceback (most recent call last)",
            "\u001b[0;32m/tmp/ipython-input-3312259802.py\u001b[0m in \u001b[0;36m<cell line: 0>\u001b[0;34m()\u001b[0m\n\u001b[1;32m      3\u001b[0m \u001b[0;34m\u001b[0m\u001b[0m\n\u001b[1;32m      4\u001b[0m \u001b[0mauth\u001b[0m \u001b[0;34m=\u001b[0m \u001b[0mAuthenticate\u001b[0m\u001b[0;34m(\u001b[0m\u001b[0;34m)\u001b[0m\u001b[0;34m\u001b[0m\u001b[0;34m\u001b[0m\u001b[0m\n\u001b[0;32m----> 5\u001b[0;31m \u001b[0mapi_key\u001b[0m \u001b[0;34m=\u001b[0m \u001b[0mauth\u001b[0m\u001b[0;34m.\u001b[0m\u001b[0mapi_key\u001b[0m\u001b[0;34m\u001b[0m\u001b[0;34m\u001b[0m\u001b[0m\n\u001b[0m\u001b[1;32m      6\u001b[0m \u001b[0mpc\u001b[0m \u001b[0;34m=\u001b[0m \u001b[0mPinecone\u001b[0m\u001b[0;34m(\u001b[0m\u001b[0mapi_key\u001b[0m\u001b[0;34m=\u001b[0m\u001b[0mapi_key\u001b[0m\u001b[0;34m)\u001b[0m\u001b[0;34m\u001b[0m\u001b[0;34m\u001b[0m\u001b[0m\n",
            "\u001b[0;31mAttributeError\u001b[0m: 'NoneType' object has no attribute 'api_key'"
          ]
        }
      ]
    },
    {
      "cell_type": "markdown",
      "metadata": {
        "id": "17de3397"
      },
      "source": [
        "## Upsert data retry 1\n",
        "\n",
        "### Subtask:\n",
        "Retry upserting the prepared data into the Pinecone index.\n"
      ]
    },
    {
      "cell_type": "markdown",
      "metadata": {
        "id": "8839bf99"
      },
      "source": [
        "**Reasoning**:\n",
        "Retry upserting the prepared data into the Pinecone index using the existing Pinecone client and records, specifying the namespace and a batch size.\n",
        "\n"
      ]
    },
    {
      "cell_type": "code",
      "metadata": {
        "colab": {
          "base_uri": "https://localhost:8080/",
          "height": 443
        },
        "id": "5ad199b8",
        "outputId": "2757a30e-306b-43d4-d2b2-3062e3041b26"
      },
      "source": [
        "# Get an Index client for the index we created\n",
        "dense_index = pc.Index(name=index_name)\n",
        "\n",
        "# Upsert records into a namespace\n",
        "dense_index.upsert_records(\n",
        "    namespace=\"example-namespace\",\n",
        "    records=records_for_upsert,\n",
        "    batch_size=100\n",
        ")"
      ],
      "execution_count": 15,
      "outputs": [
        {
          "output_type": "error",
          "ename": "UnauthorizedException",
          "evalue": "(401)\nReason: Unauthorized\nHTTP response headers: HTTPHeaderDict({'x-pinecone-api-version': '2025-04', 'x-cloud-trace-context': '00b45498f068da7cbfa46eb4fbb001d5', 'date': 'Thu, 16 Oct 2025 22:17:12 GMT', 'content-type': 'text/html', 'server': 'Google Frontend', 'Content-Length': '15', 'Via': '1.1 google', 'Alt-Svc': 'h3=\":443\"; ma=2592000,h3-29=\":443\"; ma=2592000'})\nHTTP response body: Invalid API Key\n",
          "traceback": [
            "\u001b[0;31m---------------------------------------------------------------------------\u001b[0m",
            "\u001b[0;31mUnauthorizedException\u001b[0m                     Traceback (most recent call last)",
            "\u001b[0;32m/tmp/ipython-input-3907043720.py\u001b[0m in \u001b[0;36m<cell line: 0>\u001b[0;34m()\u001b[0m\n\u001b[1;32m      1\u001b[0m \u001b[0;31m# Get an Index client for the index we created\u001b[0m\u001b[0;34m\u001b[0m\u001b[0;34m\u001b[0m\u001b[0m\n\u001b[0;32m----> 2\u001b[0;31m \u001b[0mdense_index\u001b[0m \u001b[0;34m=\u001b[0m \u001b[0mpc\u001b[0m\u001b[0;34m.\u001b[0m\u001b[0mIndex\u001b[0m\u001b[0;34m(\u001b[0m\u001b[0mname\u001b[0m\u001b[0;34m=\u001b[0m\u001b[0mindex_name\u001b[0m\u001b[0;34m)\u001b[0m\u001b[0;34m\u001b[0m\u001b[0;34m\u001b[0m\u001b[0m\n\u001b[0m\u001b[1;32m      3\u001b[0m \u001b[0;34m\u001b[0m\u001b[0m\n\u001b[1;32m      4\u001b[0m \u001b[0;31m# Upsert records into a namespace\u001b[0m\u001b[0;34m\u001b[0m\u001b[0;34m\u001b[0m\u001b[0m\n\u001b[1;32m      5\u001b[0m dense_index.upsert_records(\n",
            "\u001b[0;32m/usr/local/lib/python3.12/dist-packages/pinecone/pinecone.py\u001b[0m in \u001b[0;36mIndex\u001b[0;34m(self, name, host, **kwargs)\u001b[0m\n\u001b[1;32m    488\u001b[0m         \u001b[0;32melse\u001b[0m\u001b[0;34m:\u001b[0m\u001b[0;34m\u001b[0m\u001b[0;34m\u001b[0m\u001b[0m\n\u001b[1;32m    489\u001b[0m             \u001b[0;31m# Otherwise, get host url from describe_index using the index name\u001b[0m\u001b[0;34m\u001b[0m\u001b[0;34m\u001b[0m\u001b[0m\n\u001b[0;32m--> 490\u001b[0;31m             \u001b[0mindex_host\u001b[0m \u001b[0;34m=\u001b[0m \u001b[0mself\u001b[0m\u001b[0;34m.\u001b[0m\u001b[0mdb\u001b[0m\u001b[0;34m.\u001b[0m\u001b[0mindex\u001b[0m\u001b[0;34m.\u001b[0m\u001b[0m_get_host\u001b[0m\u001b[0;34m(\u001b[0m\u001b[0mname\u001b[0m\u001b[0;34m)\u001b[0m\u001b[0;34m\u001b[0m\u001b[0;34m\u001b[0m\u001b[0m\n\u001b[0m\u001b[1;32m    491\u001b[0m \u001b[0;34m\u001b[0m\u001b[0m\n\u001b[1;32m    492\u001b[0m         return _Index(\n",
            "\u001b[0;32m/usr/local/lib/python3.12/dist-packages/pinecone/db_control/resources/sync/index.py\u001b[0m in \u001b[0;36m_get_host\u001b[0;34m(self, name)\u001b[0m\n\u001b[1;32m    243\u001b[0m     \u001b[0;32mdef\u001b[0m \u001b[0m_get_host\u001b[0m\u001b[0;34m(\u001b[0m\u001b[0mself\u001b[0m\u001b[0;34m,\u001b[0m \u001b[0mname\u001b[0m\u001b[0;34m:\u001b[0m \u001b[0mstr\u001b[0m\u001b[0;34m)\u001b[0m \u001b[0;34m->\u001b[0m \u001b[0mstr\u001b[0m\u001b[0;34m:\u001b[0m\u001b[0;34m\u001b[0m\u001b[0;34m\u001b[0m\u001b[0m\n\u001b[1;32m    244\u001b[0m         \u001b[0;34m\"\"\":meta private:\"\"\"\u001b[0m\u001b[0;34m\u001b[0m\u001b[0;34m\u001b[0m\u001b[0m\n\u001b[0;32m--> 245\u001b[0;31m         return self._index_host_store.get_host(\n\u001b[0m\u001b[1;32m    246\u001b[0m             \u001b[0mapi\u001b[0m\u001b[0;34m=\u001b[0m\u001b[0mself\u001b[0m\u001b[0;34m.\u001b[0m\u001b[0m_index_api\u001b[0m\u001b[0;34m,\u001b[0m \u001b[0mconfig\u001b[0m\u001b[0;34m=\u001b[0m\u001b[0mself\u001b[0m\u001b[0;34m.\u001b[0m\u001b[0mconfig\u001b[0m\u001b[0;34m,\u001b[0m \u001b[0mindex_name\u001b[0m\u001b[0;34m=\u001b[0m\u001b[0mname\u001b[0m\u001b[0;34m\u001b[0m\u001b[0;34m\u001b[0m\u001b[0m\n\u001b[1;32m    247\u001b[0m         )\n",
            "\u001b[0;32m/usr/local/lib/python3.12/dist-packages/pinecone/db_control/index_host_store.py\u001b[0m in \u001b[0;36mget_host\u001b[0;34m(self, api, config, index_name)\u001b[0m\n\u001b[1;32m     45\u001b[0m             \u001b[0;32mreturn\u001b[0m \u001b[0mself\u001b[0m\u001b[0;34m.\u001b[0m\u001b[0m_indexHosts\u001b[0m\u001b[0;34m[\u001b[0m\u001b[0mkey\u001b[0m\u001b[0;34m]\u001b[0m\u001b[0;34m\u001b[0m\u001b[0;34m\u001b[0m\u001b[0m\n\u001b[1;32m     46\u001b[0m         \u001b[0;32melse\u001b[0m\u001b[0;34m:\u001b[0m\u001b[0;34m\u001b[0m\u001b[0;34m\u001b[0m\u001b[0m\n\u001b[0;32m---> 47\u001b[0;31m             \u001b[0mdescription\u001b[0m \u001b[0;34m=\u001b[0m \u001b[0mapi\u001b[0m\u001b[0;34m.\u001b[0m\u001b[0mdescribe_index\u001b[0m\u001b[0;34m(\u001b[0m\u001b[0mindex_name\u001b[0m\u001b[0;34m)\u001b[0m\u001b[0;34m\u001b[0m\u001b[0;34m\u001b[0m\u001b[0m\n\u001b[0m\u001b[1;32m     48\u001b[0m             \u001b[0mself\u001b[0m\u001b[0;34m.\u001b[0m\u001b[0mset_host\u001b[0m\u001b[0;34m(\u001b[0m\u001b[0mconfig\u001b[0m\u001b[0;34m,\u001b[0m \u001b[0mindex_name\u001b[0m\u001b[0;34m,\u001b[0m \u001b[0mdescription\u001b[0m\u001b[0;34m.\u001b[0m\u001b[0mhost\u001b[0m\u001b[0;34m)\u001b[0m\u001b[0;34m\u001b[0m\u001b[0;34m\u001b[0m\u001b[0m\n\u001b[1;32m     49\u001b[0m             \u001b[0;32mif\u001b[0m \u001b[0;32mnot\u001b[0m \u001b[0mself\u001b[0m\u001b[0;34m.\u001b[0m\u001b[0mkey_exists\u001b[0m\u001b[0;34m(\u001b[0m\u001b[0mkey\u001b[0m\u001b[0;34m)\u001b[0m\u001b[0;34m:\u001b[0m\u001b[0;34m\u001b[0m\u001b[0;34m\u001b[0m\u001b[0m\n",
            "\u001b[0;32m/usr/local/lib/python3.12/dist-packages/pinecone/openapi_support/endpoint.py\u001b[0m in \u001b[0;36m__call__\u001b[0;34m(self, *args, **kwargs)\u001b[0m\n\u001b[1;32m    100\u001b[0m \u001b[0;34m\u001b[0m\u001b[0m\n\u001b[1;32m    101\u001b[0m         \"\"\"\n\u001b[0;32m--> 102\u001b[0;31m         \u001b[0;32mreturn\u001b[0m \u001b[0mself\u001b[0m\u001b[0;34m.\u001b[0m\u001b[0mcallable\u001b[0m\u001b[0;34m(\u001b[0m\u001b[0mself\u001b[0m\u001b[0;34m,\u001b[0m \u001b[0;34m*\u001b[0m\u001b[0margs\u001b[0m\u001b[0;34m,\u001b[0m \u001b[0;34m**\u001b[0m\u001b[0mkwargs\u001b[0m\u001b[0;34m)\u001b[0m\u001b[0;34m\u001b[0m\u001b[0;34m\u001b[0m\u001b[0m\n\u001b[0m\u001b[1;32m    103\u001b[0m \u001b[0;34m\u001b[0m\u001b[0m\n\u001b[1;32m    104\u001b[0m     \u001b[0;32mdef\u001b[0m \u001b[0mcall_with_http_info\u001b[0m\u001b[0;34m(\u001b[0m\u001b[0mself\u001b[0m\u001b[0;34m,\u001b[0m \u001b[0;34m**\u001b[0m\u001b[0mkwargs\u001b[0m\u001b[0;34m)\u001b[0m\u001b[0;34m:\u001b[0m\u001b[0;34m\u001b[0m\u001b[0;34m\u001b[0m\u001b[0m\n",
            "\u001b[0;32m/usr/local/lib/python3.12/dist-packages/pinecone/core/openapi/db_control/api/manage_indexes_api.py\u001b[0m in \u001b[0;36m__describe_index\u001b[0;34m(self, index_name, **kwargs)\u001b[0m\n\u001b[1;32m    881\u001b[0m             \u001b[0mkwargs\u001b[0m \u001b[0;34m=\u001b[0m \u001b[0mself\u001b[0m\u001b[0;34m.\u001b[0m\u001b[0m_process_openapi_kwargs\u001b[0m\u001b[0;34m(\u001b[0m\u001b[0mkwargs\u001b[0m\u001b[0;34m)\u001b[0m\u001b[0;34m\u001b[0m\u001b[0;34m\u001b[0m\u001b[0m\n\u001b[1;32m    882\u001b[0m             \u001b[0mkwargs\u001b[0m\u001b[0;34m[\u001b[0m\u001b[0;34m\"index_name\"\u001b[0m\u001b[0;34m]\u001b[0m \u001b[0;34m=\u001b[0m \u001b[0mindex_name\u001b[0m\u001b[0;34m\u001b[0m\u001b[0;34m\u001b[0m\u001b[0m\n\u001b[0;32m--> 883\u001b[0;31m             \u001b[0;32mreturn\u001b[0m \u001b[0mself\u001b[0m\u001b[0;34m.\u001b[0m\u001b[0mcall_with_http_info\u001b[0m\u001b[0;34m(\u001b[0m\u001b[0;34m**\u001b[0m\u001b[0mkwargs\u001b[0m\u001b[0;34m)\u001b[0m\u001b[0;34m\u001b[0m\u001b[0;34m\u001b[0m\u001b[0m\n\u001b[0m\u001b[1;32m    884\u001b[0m \u001b[0;34m\u001b[0m\u001b[0m\n\u001b[1;32m    885\u001b[0m         self.describe_index = _Endpoint(\n",
            "\u001b[0;32m/usr/local/lib/python3.12/dist-packages/pinecone/openapi_support/endpoint.py\u001b[0m in \u001b[0;36mcall_with_http_info\u001b[0;34m(self, **kwargs)\u001b[0m\n\u001b[1;32m    132\u001b[0m         \u001b[0mHeaderUtil\u001b[0m\u001b[0;34m.\u001b[0m\u001b[0mprepare_headers\u001b[0m\u001b[0;34m(\u001b[0m\u001b[0mheaders_map\u001b[0m\u001b[0;34m=\u001b[0m\u001b[0mself\u001b[0m\u001b[0;34m.\u001b[0m\u001b[0mheaders_map\u001b[0m\u001b[0;34m,\u001b[0m \u001b[0mparams\u001b[0m\u001b[0;34m=\u001b[0m\u001b[0mparams\u001b[0m\u001b[0;34m)\u001b[0m\u001b[0;34m\u001b[0m\u001b[0;34m\u001b[0m\u001b[0m\n\u001b[1;32m    133\u001b[0m \u001b[0;34m\u001b[0m\u001b[0m\n\u001b[0;32m--> 134\u001b[0;31m         return self.api_client.call_api(\n\u001b[0m\u001b[1;32m    135\u001b[0m             \u001b[0mself\u001b[0m\u001b[0;34m.\u001b[0m\u001b[0msettings\u001b[0m\u001b[0;34m[\u001b[0m\u001b[0;34m\"endpoint_path\"\u001b[0m\u001b[0;34m]\u001b[0m\u001b[0;34m,\u001b[0m\u001b[0;34m\u001b[0m\u001b[0;34m\u001b[0m\u001b[0m\n\u001b[1;32m    136\u001b[0m             \u001b[0mself\u001b[0m\u001b[0;34m.\u001b[0m\u001b[0msettings\u001b[0m\u001b[0;34m[\u001b[0m\u001b[0;34m\"http_method\"\u001b[0m\u001b[0;34m]\u001b[0m\u001b[0;34m,\u001b[0m\u001b[0;34m\u001b[0m\u001b[0;34m\u001b[0m\u001b[0m\n",
            "\u001b[0;32m/usr/local/lib/python3.12/dist-packages/pinecone/openapi_support/api_client.py\u001b[0m in \u001b[0;36mcall_api\u001b[0;34m(self, resource_path, method, path_params, query_params, header_params, body, post_params, files, response_type, auth_settings, async_req, async_threadpool_executor, _return_http_data_only, collection_formats, _preload_content, _request_timeout, _host, _check_type)\u001b[0m\n\u001b[1;32m    304\u001b[0m \u001b[0;34m\u001b[0m\u001b[0m\n\u001b[1;32m    305\u001b[0m         \u001b[0;32mif\u001b[0m \u001b[0;32mnot\u001b[0m \u001b[0masync_req\u001b[0m\u001b[0;34m:\u001b[0m\u001b[0;34m\u001b[0m\u001b[0;34m\u001b[0m\u001b[0m\n\u001b[0;32m--> 306\u001b[0;31m             return self.__call_api(\n\u001b[0m\u001b[1;32m    307\u001b[0m                 \u001b[0mresource_path\u001b[0m\u001b[0;34m,\u001b[0m\u001b[0;34m\u001b[0m\u001b[0;34m\u001b[0m\u001b[0m\n\u001b[1;32m    308\u001b[0m                 \u001b[0mmethod\u001b[0m\u001b[0;34m,\u001b[0m\u001b[0;34m\u001b[0m\u001b[0;34m\u001b[0m\u001b[0m\n",
            "\u001b[0;32m/usr/local/lib/python3.12/dist-packages/pinecone/openapi_support/api_client.py\u001b[0m in \u001b[0;36m__call_api\u001b[0;34m(self, resource_path, method, path_params, query_params, header_params, body, post_params, files, response_type, auth_settings, _return_http_data_only, collection_formats, _preload_content, _request_timeout, _host, _check_type)\u001b[0m\n\u001b[1;32m    180\u001b[0m         \u001b[0;32mexcept\u001b[0m \u001b[0mPineconeApiException\u001b[0m \u001b[0;32mas\u001b[0m \u001b[0me\u001b[0m\u001b[0;34m:\u001b[0m\u001b[0;34m\u001b[0m\u001b[0;34m\u001b[0m\u001b[0m\n\u001b[1;32m    181\u001b[0m             \u001b[0me\u001b[0m\u001b[0;34m.\u001b[0m\u001b[0mbody\u001b[0m \u001b[0;34m=\u001b[0m \u001b[0me\u001b[0m\u001b[0;34m.\u001b[0m\u001b[0mbody\u001b[0m\u001b[0;34m.\u001b[0m\u001b[0mdecode\u001b[0m\u001b[0;34m(\u001b[0m\u001b[0;34m\"utf-8\"\u001b[0m\u001b[0;34m)\u001b[0m\u001b[0;34m\u001b[0m\u001b[0;34m\u001b[0m\u001b[0m\n\u001b[0;32m--> 182\u001b[0;31m             \u001b[0;32mraise\u001b[0m \u001b[0me\u001b[0m\u001b[0;34m\u001b[0m\u001b[0;34m\u001b[0m\u001b[0m\n\u001b[0m\u001b[1;32m    183\u001b[0m \u001b[0;34m\u001b[0m\u001b[0m\n\u001b[1;32m    184\u001b[0m         \u001b[0mself\u001b[0m\u001b[0;34m.\u001b[0m\u001b[0mlast_response\u001b[0m \u001b[0;34m=\u001b[0m \u001b[0mresponse_data\u001b[0m\u001b[0;34m\u001b[0m\u001b[0;34m\u001b[0m\u001b[0m\n",
            "\u001b[0;32m/usr/local/lib/python3.12/dist-packages/pinecone/openapi_support/api_client.py\u001b[0m in \u001b[0;36m__call_api\u001b[0;34m(self, resource_path, method, path_params, query_params, header_params, body, post_params, files, response_type, auth_settings, _return_http_data_only, collection_formats, _preload_content, _request_timeout, _host, _check_type)\u001b[0m\n\u001b[1;32m    168\u001b[0m         \u001b[0;32mtry\u001b[0m\u001b[0;34m:\u001b[0m\u001b[0;34m\u001b[0m\u001b[0;34m\u001b[0m\u001b[0m\n\u001b[1;32m    169\u001b[0m             \u001b[0;31m# perform request and return response\u001b[0m\u001b[0;34m\u001b[0m\u001b[0;34m\u001b[0m\u001b[0m\n\u001b[0;32m--> 170\u001b[0;31m             response_data = self.request(\n\u001b[0m\u001b[1;32m    171\u001b[0m                 \u001b[0mmethod\u001b[0m\u001b[0;34m,\u001b[0m\u001b[0;34m\u001b[0m\u001b[0;34m\u001b[0m\u001b[0m\n\u001b[1;32m    172\u001b[0m                 \u001b[0murl\u001b[0m\u001b[0;34m,\u001b[0m\u001b[0;34m\u001b[0m\u001b[0;34m\u001b[0m\u001b[0m\n",
            "\u001b[0;32m/usr/local/lib/python3.12/dist-packages/pinecone/openapi_support/api_client.py\u001b[0m in \u001b[0;36mrequest\u001b[0;34m(self, method, url, query_params, headers, post_params, body, _preload_content, _request_timeout)\u001b[0m\n\u001b[1;32m    358\u001b[0m         \u001b[0;34m\"\"\"Makes the HTTP request using RESTClient.\"\"\"\u001b[0m\u001b[0;34m\u001b[0m\u001b[0;34m\u001b[0m\u001b[0m\n\u001b[1;32m    359\u001b[0m         \u001b[0;32mif\u001b[0m \u001b[0mmethod\u001b[0m \u001b[0;34m==\u001b[0m \u001b[0;34m\"GET\"\u001b[0m\u001b[0;34m:\u001b[0m\u001b[0;34m\u001b[0m\u001b[0;34m\u001b[0m\u001b[0m\n\u001b[0;32m--> 360\u001b[0;31m             return self.rest_client.GET(\n\u001b[0m\u001b[1;32m    361\u001b[0m                 \u001b[0murl\u001b[0m\u001b[0;34m,\u001b[0m\u001b[0;34m\u001b[0m\u001b[0;34m\u001b[0m\u001b[0m\n\u001b[1;32m    362\u001b[0m                 \u001b[0mquery_params\u001b[0m\u001b[0;34m=\u001b[0m\u001b[0mquery_params\u001b[0m\u001b[0;34m,\u001b[0m\u001b[0;34m\u001b[0m\u001b[0;34m\u001b[0m\u001b[0m\n",
            "\u001b[0;32m/usr/local/lib/python3.12/dist-packages/pinecone/openapi_support/rest_utils.py\u001b[0m in \u001b[0;36mGET\u001b[0;34m(self, url, headers, query_params, _preload_content, _request_timeout)\u001b[0m\n\u001b[1;32m     73\u001b[0m         \u001b[0mself\u001b[0m\u001b[0;34m,\u001b[0m \u001b[0murl\u001b[0m\u001b[0;34m,\u001b[0m \u001b[0mheaders\u001b[0m\u001b[0;34m=\u001b[0m\u001b[0;32mNone\u001b[0m\u001b[0;34m,\u001b[0m \u001b[0mquery_params\u001b[0m\u001b[0;34m=\u001b[0m\u001b[0;32mNone\u001b[0m\u001b[0;34m,\u001b[0m \u001b[0m_preload_content\u001b[0m\u001b[0;34m=\u001b[0m\u001b[0;32mTrue\u001b[0m\u001b[0;34m,\u001b[0m \u001b[0m_request_timeout\u001b[0m\u001b[0;34m=\u001b[0m\u001b[0;32mNone\u001b[0m\u001b[0;34m\u001b[0m\u001b[0;34m\u001b[0m\u001b[0m\n\u001b[1;32m     74\u001b[0m     ):\n\u001b[0;32m---> 75\u001b[0;31m         return self.request(\n\u001b[0m\u001b[1;32m     76\u001b[0m             \u001b[0;34m\"GET\"\u001b[0m\u001b[0;34m,\u001b[0m\u001b[0;34m\u001b[0m\u001b[0;34m\u001b[0m\u001b[0m\n\u001b[1;32m     77\u001b[0m             \u001b[0murl\u001b[0m\u001b[0;34m,\u001b[0m\u001b[0;34m\u001b[0m\u001b[0;34m\u001b[0m\u001b[0m\n",
            "\u001b[0;32m/usr/local/lib/python3.12/dist-packages/pinecone/openapi_support/rest_urllib3.py\u001b[0m in \u001b[0;36mrequest\u001b[0;34m(self, method, url, query_params, headers, body, post_params, _preload_content, _request_timeout)\u001b[0m\n\u001b[1;32m    265\u001b[0m             \u001b[0mlogger\u001b[0m\u001b[0;34m.\u001b[0m\u001b[0mdebug\u001b[0m\u001b[0;34m(\u001b[0m\u001b[0;34m\"response body: %s\"\u001b[0m\u001b[0;34m,\u001b[0m \u001b[0mr\u001b[0m\u001b[0;34m.\u001b[0m\u001b[0mdata\u001b[0m\u001b[0;34m)\u001b[0m\u001b[0;34m\u001b[0m\u001b[0;34m\u001b[0m\u001b[0m\n\u001b[1;32m    266\u001b[0m \u001b[0;34m\u001b[0m\u001b[0m\n\u001b[0;32m--> 267\u001b[0;31m         \u001b[0;32mreturn\u001b[0m \u001b[0mraise_exceptions_or_return\u001b[0m\u001b[0;34m(\u001b[0m\u001b[0mr\u001b[0m\u001b[0;34m)\u001b[0m\u001b[0;34m\u001b[0m\u001b[0;34m\u001b[0m\u001b[0m\n\u001b[0m",
            "\u001b[0;32m/usr/local/lib/python3.12/dist-packages/pinecone/openapi_support/rest_utils.py\u001b[0m in \u001b[0;36mraise_exceptions_or_return\u001b[0;34m(r)\u001b[0m\n\u001b[1;32m     36\u001b[0m     \u001b[0;32mif\u001b[0m \u001b[0;32mnot\u001b[0m \u001b[0;36m200\u001b[0m \u001b[0;34m<=\u001b[0m \u001b[0mr\u001b[0m\u001b[0;34m.\u001b[0m\u001b[0mstatus\u001b[0m \u001b[0;34m<=\u001b[0m \u001b[0;36m299\u001b[0m\u001b[0;34m:\u001b[0m\u001b[0;34m\u001b[0m\u001b[0;34m\u001b[0m\u001b[0m\n\u001b[1;32m     37\u001b[0m         \u001b[0;32mif\u001b[0m \u001b[0mr\u001b[0m\u001b[0;34m.\u001b[0m\u001b[0mstatus\u001b[0m \u001b[0;34m==\u001b[0m \u001b[0;36m401\u001b[0m\u001b[0;34m:\u001b[0m\u001b[0;34m\u001b[0m\u001b[0;34m\u001b[0m\u001b[0m\n\u001b[0;32m---> 38\u001b[0;31m             \u001b[0;32mraise\u001b[0m \u001b[0mUnauthorizedException\u001b[0m\u001b[0;34m(\u001b[0m\u001b[0mhttp_resp\u001b[0m\u001b[0;34m=\u001b[0m\u001b[0mr\u001b[0m\u001b[0;34m)\u001b[0m\u001b[0;34m\u001b[0m\u001b[0;34m\u001b[0m\u001b[0m\n\u001b[0m\u001b[1;32m     39\u001b[0m \u001b[0;34m\u001b[0m\u001b[0m\n\u001b[1;32m     40\u001b[0m         \u001b[0;32mif\u001b[0m \u001b[0mr\u001b[0m\u001b[0;34m.\u001b[0m\u001b[0mstatus\u001b[0m \u001b[0;34m==\u001b[0m \u001b[0;36m403\u001b[0m\u001b[0;34m:\u001b[0m\u001b[0;34m\u001b[0m\u001b[0;34m\u001b[0m\u001b[0m\n",
            "\u001b[0;31mUnauthorizedException\u001b[0m: (401)\nReason: Unauthorized\nHTTP response headers: HTTPHeaderDict({'x-pinecone-api-version': '2025-04', 'x-cloud-trace-context': '00b45498f068da7cbfa46eb4fbb001d5', 'date': 'Thu, 16 Oct 2025 22:17:12 GMT', 'content-type': 'text/html', 'server': 'Google Frontend', 'Content-Length': '15', 'Via': '1.1 google', 'Alt-Svc': 'h3=\":443\"; ma=2592000,h3-29=\":443\"; ma=2592000'})\nHTTP response body: Invalid API Key\n"
          ]
        }
      ]
    },
    {
      "cell_type": "markdown",
      "metadata": {
        "id": "bbd24c5d"
      },
      "source": [
        "## Upsert data retry 2\n",
        "\n",
        "### Subtask:\n",
        "Retry upserting the prepared data into the Pinecone index.\n"
      ]
    },
    {
      "cell_type": "markdown",
      "metadata": {
        "id": "b4156f59"
      },
      "source": [
        "**Reasoning**:\n",
        "Get an Index client for the index named `index_name` and upsert the `records_for_upsert` list into the \"example-namespace\" namespace with a batch size of 100.\n",
        "\n"
      ]
    },
    {
      "cell_type": "code",
      "metadata": {
        "colab": {
          "base_uri": "https://localhost:8080/",
          "height": 443
        },
        "id": "71eb39e4",
        "outputId": "70689bcb-b7a4-484d-e168-64a5620848a7"
      },
      "source": [
        "# Get an Index client for the index we created\n",
        "dense_index = pc.Index(name=index_name)\n",
        "\n",
        "# Upsert records into a namespace\n",
        "upsert_response = dense_index.upsert_records(\n",
        "    namespace=\"example-namespace\",\n",
        "    records=records_for_upsert,\n",
        "    batch_size=100\n",
        ")\n",
        "print(upsert_response)"
      ],
      "execution_count": 16,
      "outputs": [
        {
          "output_type": "error",
          "ename": "UnauthorizedException",
          "evalue": "(401)\nReason: Unauthorized\nHTTP response headers: HTTPHeaderDict({'x-pinecone-api-version': '2025-04', 'x-cloud-trace-context': 'af6fde5b62bb649a9994e53a4a9b1090', 'date': 'Thu, 16 Oct 2025 22:17:23 GMT', 'content-type': 'text/html', 'server': 'Google Frontend', 'Content-Length': '15', 'Via': '1.1 google', 'Alt-Svc': 'h3=\":443\"; ma=2592000,h3-29=\":443\"; ma=2592000'})\nHTTP response body: Invalid API Key\n",
          "traceback": [
            "\u001b[0;31m---------------------------------------------------------------------------\u001b[0m",
            "\u001b[0;31mUnauthorizedException\u001b[0m                     Traceback (most recent call last)",
            "\u001b[0;32m/tmp/ipython-input-226194564.py\u001b[0m in \u001b[0;36m<cell line: 0>\u001b[0;34m()\u001b[0m\n\u001b[1;32m      1\u001b[0m \u001b[0;31m# Get an Index client for the index we created\u001b[0m\u001b[0;34m\u001b[0m\u001b[0;34m\u001b[0m\u001b[0m\n\u001b[0;32m----> 2\u001b[0;31m \u001b[0mdense_index\u001b[0m \u001b[0;34m=\u001b[0m \u001b[0mpc\u001b[0m\u001b[0;34m.\u001b[0m\u001b[0mIndex\u001b[0m\u001b[0;34m(\u001b[0m\u001b[0mname\u001b[0m\u001b[0;34m=\u001b[0m\u001b[0mindex_name\u001b[0m\u001b[0;34m)\u001b[0m\u001b[0;34m\u001b[0m\u001b[0;34m\u001b[0m\u001b[0m\n\u001b[0m\u001b[1;32m      3\u001b[0m \u001b[0;34m\u001b[0m\u001b[0m\n\u001b[1;32m      4\u001b[0m \u001b[0;31m# Upsert records into a namespace\u001b[0m\u001b[0;34m\u001b[0m\u001b[0;34m\u001b[0m\u001b[0m\n\u001b[1;32m      5\u001b[0m upsert_response = dense_index.upsert_records(\n",
            "\u001b[0;32m/usr/local/lib/python3.12/dist-packages/pinecone/pinecone.py\u001b[0m in \u001b[0;36mIndex\u001b[0;34m(self, name, host, **kwargs)\u001b[0m\n\u001b[1;32m    488\u001b[0m         \u001b[0;32melse\u001b[0m\u001b[0;34m:\u001b[0m\u001b[0;34m\u001b[0m\u001b[0;34m\u001b[0m\u001b[0m\n\u001b[1;32m    489\u001b[0m             \u001b[0;31m# Otherwise, get host url from describe_index using the index name\u001b[0m\u001b[0;34m\u001b[0m\u001b[0;34m\u001b[0m\u001b[0m\n\u001b[0;32m--> 490\u001b[0;31m             \u001b[0mindex_host\u001b[0m \u001b[0;34m=\u001b[0m \u001b[0mself\u001b[0m\u001b[0;34m.\u001b[0m\u001b[0mdb\u001b[0m\u001b[0;34m.\u001b[0m\u001b[0mindex\u001b[0m\u001b[0;34m.\u001b[0m\u001b[0m_get_host\u001b[0m\u001b[0;34m(\u001b[0m\u001b[0mname\u001b[0m\u001b[0;34m)\u001b[0m\u001b[0;34m\u001b[0m\u001b[0;34m\u001b[0m\u001b[0m\n\u001b[0m\u001b[1;32m    491\u001b[0m \u001b[0;34m\u001b[0m\u001b[0m\n\u001b[1;32m    492\u001b[0m         return _Index(\n",
            "\u001b[0;32m/usr/local/lib/python3.12/dist-packages/pinecone/db_control/resources/sync/index.py\u001b[0m in \u001b[0;36m_get_host\u001b[0;34m(self, name)\u001b[0m\n\u001b[1;32m    243\u001b[0m     \u001b[0;32mdef\u001b[0m \u001b[0m_get_host\u001b[0m\u001b[0;34m(\u001b[0m\u001b[0mself\u001b[0m\u001b[0;34m,\u001b[0m \u001b[0mname\u001b[0m\u001b[0;34m:\u001b[0m \u001b[0mstr\u001b[0m\u001b[0;34m)\u001b[0m \u001b[0;34m->\u001b[0m \u001b[0mstr\u001b[0m\u001b[0;34m:\u001b[0m\u001b[0;34m\u001b[0m\u001b[0;34m\u001b[0m\u001b[0m\n\u001b[1;32m    244\u001b[0m         \u001b[0;34m\"\"\":meta private:\"\"\"\u001b[0m\u001b[0;34m\u001b[0m\u001b[0;34m\u001b[0m\u001b[0m\n\u001b[0;32m--> 245\u001b[0;31m         return self._index_host_store.get_host(\n\u001b[0m\u001b[1;32m    246\u001b[0m             \u001b[0mapi\u001b[0m\u001b[0;34m=\u001b[0m\u001b[0mself\u001b[0m\u001b[0;34m.\u001b[0m\u001b[0m_index_api\u001b[0m\u001b[0;34m,\u001b[0m \u001b[0mconfig\u001b[0m\u001b[0;34m=\u001b[0m\u001b[0mself\u001b[0m\u001b[0;34m.\u001b[0m\u001b[0mconfig\u001b[0m\u001b[0;34m,\u001b[0m \u001b[0mindex_name\u001b[0m\u001b[0;34m=\u001b[0m\u001b[0mname\u001b[0m\u001b[0;34m\u001b[0m\u001b[0;34m\u001b[0m\u001b[0m\n\u001b[1;32m    247\u001b[0m         )\n",
            "\u001b[0;32m/usr/local/lib/python3.12/dist-packages/pinecone/db_control/index_host_store.py\u001b[0m in \u001b[0;36mget_host\u001b[0;34m(self, api, config, index_name)\u001b[0m\n\u001b[1;32m     45\u001b[0m             \u001b[0;32mreturn\u001b[0m \u001b[0mself\u001b[0m\u001b[0;34m.\u001b[0m\u001b[0m_indexHosts\u001b[0m\u001b[0;34m[\u001b[0m\u001b[0mkey\u001b[0m\u001b[0;34m]\u001b[0m\u001b[0;34m\u001b[0m\u001b[0;34m\u001b[0m\u001b[0m\n\u001b[1;32m     46\u001b[0m         \u001b[0;32melse\u001b[0m\u001b[0;34m:\u001b[0m\u001b[0;34m\u001b[0m\u001b[0;34m\u001b[0m\u001b[0m\n\u001b[0;32m---> 47\u001b[0;31m             \u001b[0mdescription\u001b[0m \u001b[0;34m=\u001b[0m \u001b[0mapi\u001b[0m\u001b[0;34m.\u001b[0m\u001b[0mdescribe_index\u001b[0m\u001b[0;34m(\u001b[0m\u001b[0mindex_name\u001b[0m\u001b[0;34m)\u001b[0m\u001b[0;34m\u001b[0m\u001b[0;34m\u001b[0m\u001b[0m\n\u001b[0m\u001b[1;32m     48\u001b[0m             \u001b[0mself\u001b[0m\u001b[0;34m.\u001b[0m\u001b[0mset_host\u001b[0m\u001b[0;34m(\u001b[0m\u001b[0mconfig\u001b[0m\u001b[0;34m,\u001b[0m \u001b[0mindex_name\u001b[0m\u001b[0;34m,\u001b[0m \u001b[0mdescription\u001b[0m\u001b[0;34m.\u001b[0m\u001b[0mhost\u001b[0m\u001b[0;34m)\u001b[0m\u001b[0;34m\u001b[0m\u001b[0;34m\u001b[0m\u001b[0m\n\u001b[1;32m     49\u001b[0m             \u001b[0;32mif\u001b[0m \u001b[0;32mnot\u001b[0m \u001b[0mself\u001b[0m\u001b[0;34m.\u001b[0m\u001b[0mkey_exists\u001b[0m\u001b[0;34m(\u001b[0m\u001b[0mkey\u001b[0m\u001b[0;34m)\u001b[0m\u001b[0;34m:\u001b[0m\u001b[0;34m\u001b[0m\u001b[0;34m\u001b[0m\u001b[0m\n",
            "\u001b[0;32m/usr/local/lib/python3.12/dist-packages/pinecone/openapi_support/endpoint.py\u001b[0m in \u001b[0;36m__call__\u001b[0;34m(self, *args, **kwargs)\u001b[0m\n\u001b[1;32m    100\u001b[0m \u001b[0;34m\u001b[0m\u001b[0m\n\u001b[1;32m    101\u001b[0m         \"\"\"\n\u001b[0;32m--> 102\u001b[0;31m         \u001b[0;32mreturn\u001b[0m \u001b[0mself\u001b[0m\u001b[0;34m.\u001b[0m\u001b[0mcallable\u001b[0m\u001b[0;34m(\u001b[0m\u001b[0mself\u001b[0m\u001b[0;34m,\u001b[0m \u001b[0;34m*\u001b[0m\u001b[0margs\u001b[0m\u001b[0;34m,\u001b[0m \u001b[0;34m**\u001b[0m\u001b[0mkwargs\u001b[0m\u001b[0;34m)\u001b[0m\u001b[0;34m\u001b[0m\u001b[0;34m\u001b[0m\u001b[0m\n\u001b[0m\u001b[1;32m    103\u001b[0m \u001b[0;34m\u001b[0m\u001b[0m\n\u001b[1;32m    104\u001b[0m     \u001b[0;32mdef\u001b[0m \u001b[0mcall_with_http_info\u001b[0m\u001b[0;34m(\u001b[0m\u001b[0mself\u001b[0m\u001b[0;34m,\u001b[0m \u001b[0;34m**\u001b[0m\u001b[0mkwargs\u001b[0m\u001b[0;34m)\u001b[0m\u001b[0;34m:\u001b[0m\u001b[0;34m\u001b[0m\u001b[0;34m\u001b[0m\u001b[0m\n",
            "\u001b[0;32m/usr/local/lib/python3.12/dist-packages/pinecone/core/openapi/db_control/api/manage_indexes_api.py\u001b[0m in \u001b[0;36m__describe_index\u001b[0;34m(self, index_name, **kwargs)\u001b[0m\n\u001b[1;32m    881\u001b[0m             \u001b[0mkwargs\u001b[0m \u001b[0;34m=\u001b[0m \u001b[0mself\u001b[0m\u001b[0;34m.\u001b[0m\u001b[0m_process_openapi_kwargs\u001b[0m\u001b[0;34m(\u001b[0m\u001b[0mkwargs\u001b[0m\u001b[0;34m)\u001b[0m\u001b[0;34m\u001b[0m\u001b[0;34m\u001b[0m\u001b[0m\n\u001b[1;32m    882\u001b[0m             \u001b[0mkwargs\u001b[0m\u001b[0;34m[\u001b[0m\u001b[0;34m\"index_name\"\u001b[0m\u001b[0;34m]\u001b[0m \u001b[0;34m=\u001b[0m \u001b[0mindex_name\u001b[0m\u001b[0;34m\u001b[0m\u001b[0;34m\u001b[0m\u001b[0m\n\u001b[0;32m--> 883\u001b[0;31m             \u001b[0;32mreturn\u001b[0m \u001b[0mself\u001b[0m\u001b[0;34m.\u001b[0m\u001b[0mcall_with_http_info\u001b[0m\u001b[0;34m(\u001b[0m\u001b[0;34m**\u001b[0m\u001b[0mkwargs\u001b[0m\u001b[0;34m)\u001b[0m\u001b[0;34m\u001b[0m\u001b[0;34m\u001b[0m\u001b[0m\n\u001b[0m\u001b[1;32m    884\u001b[0m \u001b[0;34m\u001b[0m\u001b[0m\n\u001b[1;32m    885\u001b[0m         self.describe_index = _Endpoint(\n",
            "\u001b[0;32m/usr/local/lib/python3.12/dist-packages/pinecone/openapi_support/endpoint.py\u001b[0m in \u001b[0;36mcall_with_http_info\u001b[0;34m(self, **kwargs)\u001b[0m\n\u001b[1;32m    132\u001b[0m         \u001b[0mHeaderUtil\u001b[0m\u001b[0;34m.\u001b[0m\u001b[0mprepare_headers\u001b[0m\u001b[0;34m(\u001b[0m\u001b[0mheaders_map\u001b[0m\u001b[0;34m=\u001b[0m\u001b[0mself\u001b[0m\u001b[0;34m.\u001b[0m\u001b[0mheaders_map\u001b[0m\u001b[0;34m,\u001b[0m \u001b[0mparams\u001b[0m\u001b[0;34m=\u001b[0m\u001b[0mparams\u001b[0m\u001b[0;34m)\u001b[0m\u001b[0;34m\u001b[0m\u001b[0;34m\u001b[0m\u001b[0m\n\u001b[1;32m    133\u001b[0m \u001b[0;34m\u001b[0m\u001b[0m\n\u001b[0;32m--> 134\u001b[0;31m         return self.api_client.call_api(\n\u001b[0m\u001b[1;32m    135\u001b[0m             \u001b[0mself\u001b[0m\u001b[0;34m.\u001b[0m\u001b[0msettings\u001b[0m\u001b[0;34m[\u001b[0m\u001b[0;34m\"endpoint_path\"\u001b[0m\u001b[0;34m]\u001b[0m\u001b[0;34m,\u001b[0m\u001b[0;34m\u001b[0m\u001b[0;34m\u001b[0m\u001b[0m\n\u001b[1;32m    136\u001b[0m             \u001b[0mself\u001b[0m\u001b[0;34m.\u001b[0m\u001b[0msettings\u001b[0m\u001b[0;34m[\u001b[0m\u001b[0;34m\"http_method\"\u001b[0m\u001b[0;34m]\u001b[0m\u001b[0;34m,\u001b[0m\u001b[0;34m\u001b[0m\u001b[0;34m\u001b[0m\u001b[0m\n",
            "\u001b[0;32m/usr/local/lib/python3.12/dist-packages/pinecone/openapi_support/api_client.py\u001b[0m in \u001b[0;36mcall_api\u001b[0;34m(self, resource_path, method, path_params, query_params, header_params, body, post_params, files, response_type, auth_settings, async_req, async_threadpool_executor, _return_http_data_only, collection_formats, _preload_content, _request_timeout, _host, _check_type)\u001b[0m\n\u001b[1;32m    304\u001b[0m \u001b[0;34m\u001b[0m\u001b[0m\n\u001b[1;32m    305\u001b[0m         \u001b[0;32mif\u001b[0m \u001b[0;32mnot\u001b[0m \u001b[0masync_req\u001b[0m\u001b[0;34m:\u001b[0m\u001b[0;34m\u001b[0m\u001b[0;34m\u001b[0m\u001b[0m\n\u001b[0;32m--> 306\u001b[0;31m             return self.__call_api(\n\u001b[0m\u001b[1;32m    307\u001b[0m                 \u001b[0mresource_path\u001b[0m\u001b[0;34m,\u001b[0m\u001b[0;34m\u001b[0m\u001b[0;34m\u001b[0m\u001b[0m\n\u001b[1;32m    308\u001b[0m                 \u001b[0mmethod\u001b[0m\u001b[0;34m,\u001b[0m\u001b[0;34m\u001b[0m\u001b[0;34m\u001b[0m\u001b[0m\n",
            "\u001b[0;32m/usr/local/lib/python3.12/dist-packages/pinecone/openapi_support/api_client.py\u001b[0m in \u001b[0;36m__call_api\u001b[0;34m(self, resource_path, method, path_params, query_params, header_params, body, post_params, files, response_type, auth_settings, _return_http_data_only, collection_formats, _preload_content, _request_timeout, _host, _check_type)\u001b[0m\n\u001b[1;32m    180\u001b[0m         \u001b[0;32mexcept\u001b[0m \u001b[0mPineconeApiException\u001b[0m \u001b[0;32mas\u001b[0m \u001b[0me\u001b[0m\u001b[0;34m:\u001b[0m\u001b[0;34m\u001b[0m\u001b[0;34m\u001b[0m\u001b[0m\n\u001b[1;32m    181\u001b[0m             \u001b[0me\u001b[0m\u001b[0;34m.\u001b[0m\u001b[0mbody\u001b[0m \u001b[0;34m=\u001b[0m \u001b[0me\u001b[0m\u001b[0;34m.\u001b[0m\u001b[0mbody\u001b[0m\u001b[0;34m.\u001b[0m\u001b[0mdecode\u001b[0m\u001b[0;34m(\u001b[0m\u001b[0;34m\"utf-8\"\u001b[0m\u001b[0;34m)\u001b[0m\u001b[0;34m\u001b[0m\u001b[0;34m\u001b[0m\u001b[0m\n\u001b[0;32m--> 182\u001b[0;31m             \u001b[0;32mraise\u001b[0m \u001b[0me\u001b[0m\u001b[0;34m\u001b[0m\u001b[0;34m\u001b[0m\u001b[0m\n\u001b[0m\u001b[1;32m    183\u001b[0m \u001b[0;34m\u001b[0m\u001b[0m\n\u001b[1;32m    184\u001b[0m         \u001b[0mself\u001b[0m\u001b[0;34m.\u001b[0m\u001b[0mlast_response\u001b[0m \u001b[0;34m=\u001b[0m \u001b[0mresponse_data\u001b[0m\u001b[0;34m\u001b[0m\u001b[0;34m\u001b[0m\u001b[0m\n",
            "\u001b[0;32m/usr/local/lib/python3.12/dist-packages/pinecone/openapi_support/api_client.py\u001b[0m in \u001b[0;36m__call_api\u001b[0;34m(self, resource_path, method, path_params, query_params, header_params, body, post_params, files, response_type, auth_settings, _return_http_data_only, collection_formats, _preload_content, _request_timeout, _host, _check_type)\u001b[0m\n\u001b[1;32m    168\u001b[0m         \u001b[0;32mtry\u001b[0m\u001b[0;34m:\u001b[0m\u001b[0;34m\u001b[0m\u001b[0;34m\u001b[0m\u001b[0m\n\u001b[1;32m    169\u001b[0m             \u001b[0;31m# perform request and return response\u001b[0m\u001b[0;34m\u001b[0m\u001b[0;34m\u001b[0m\u001b[0m\n\u001b[0;32m--> 170\u001b[0;31m             response_data = self.request(\n\u001b[0m\u001b[1;32m    171\u001b[0m                 \u001b[0mmethod\u001b[0m\u001b[0;34m,\u001b[0m\u001b[0;34m\u001b[0m\u001b[0;34m\u001b[0m\u001b[0m\n\u001b[1;32m    172\u001b[0m                 \u001b[0murl\u001b[0m\u001b[0;34m,\u001b[0m\u001b[0;34m\u001b[0m\u001b[0;34m\u001b[0m\u001b[0m\n",
            "\u001b[0;32m/usr/local/lib/python3.12/dist-packages/pinecone/openapi_support/api_client.py\u001b[0m in \u001b[0;36mrequest\u001b[0;34m(self, method, url, query_params, headers, post_params, body, _preload_content, _request_timeout)\u001b[0m\n\u001b[1;32m    358\u001b[0m         \u001b[0;34m\"\"\"Makes the HTTP request using RESTClient.\"\"\"\u001b[0m\u001b[0;34m\u001b[0m\u001b[0;34m\u001b[0m\u001b[0m\n\u001b[1;32m    359\u001b[0m         \u001b[0;32mif\u001b[0m \u001b[0mmethod\u001b[0m \u001b[0;34m==\u001b[0m \u001b[0;34m\"GET\"\u001b[0m\u001b[0;34m:\u001b[0m\u001b[0;34m\u001b[0m\u001b[0;34m\u001b[0m\u001b[0m\n\u001b[0;32m--> 360\u001b[0;31m             return self.rest_client.GET(\n\u001b[0m\u001b[1;32m    361\u001b[0m                 \u001b[0murl\u001b[0m\u001b[0;34m,\u001b[0m\u001b[0;34m\u001b[0m\u001b[0;34m\u001b[0m\u001b[0m\n\u001b[1;32m    362\u001b[0m                 \u001b[0mquery_params\u001b[0m\u001b[0;34m=\u001b[0m\u001b[0mquery_params\u001b[0m\u001b[0;34m,\u001b[0m\u001b[0;34m\u001b[0m\u001b[0;34m\u001b[0m\u001b[0m\n",
            "\u001b[0;32m/usr/local/lib/python3.12/dist-packages/pinecone/openapi_support/rest_utils.py\u001b[0m in \u001b[0;36mGET\u001b[0;34m(self, url, headers, query_params, _preload_content, _request_timeout)\u001b[0m\n\u001b[1;32m     73\u001b[0m         \u001b[0mself\u001b[0m\u001b[0;34m,\u001b[0m \u001b[0murl\u001b[0m\u001b[0;34m,\u001b[0m \u001b[0mheaders\u001b[0m\u001b[0;34m=\u001b[0m\u001b[0;32mNone\u001b[0m\u001b[0;34m,\u001b[0m \u001b[0mquery_params\u001b[0m\u001b[0;34m=\u001b[0m\u001b[0;32mNone\u001b[0m\u001b[0;34m,\u001b[0m \u001b[0m_preload_content\u001b[0m\u001b[0;34m=\u001b[0m\u001b[0;32mTrue\u001b[0m\u001b[0;34m,\u001b[0m \u001b[0m_request_timeout\u001b[0m\u001b[0;34m=\u001b[0m\u001b[0;32mNone\u001b[0m\u001b[0;34m\u001b[0m\u001b[0;34m\u001b[0m\u001b[0m\n\u001b[1;32m     74\u001b[0m     ):\n\u001b[0;32m---> 75\u001b[0;31m         return self.request(\n\u001b[0m\u001b[1;32m     76\u001b[0m             \u001b[0;34m\"GET\"\u001b[0m\u001b[0;34m,\u001b[0m\u001b[0;34m\u001b[0m\u001b[0;34m\u001b[0m\u001b[0m\n\u001b[1;32m     77\u001b[0m             \u001b[0murl\u001b[0m\u001b[0;34m,\u001b[0m\u001b[0;34m\u001b[0m\u001b[0;34m\u001b[0m\u001b[0m\n",
            "\u001b[0;32m/usr/local/lib/python3.12/dist-packages/pinecone/openapi_support/rest_urllib3.py\u001b[0m in \u001b[0;36mrequest\u001b[0;34m(self, method, url, query_params, headers, body, post_params, _preload_content, _request_timeout)\u001b[0m\n\u001b[1;32m    265\u001b[0m             \u001b[0mlogger\u001b[0m\u001b[0;34m.\u001b[0m\u001b[0mdebug\u001b[0m\u001b[0;34m(\u001b[0m\u001b[0;34m\"response body: %s\"\u001b[0m\u001b[0;34m,\u001b[0m \u001b[0mr\u001b[0m\u001b[0;34m.\u001b[0m\u001b[0mdata\u001b[0m\u001b[0;34m)\u001b[0m\u001b[0;34m\u001b[0m\u001b[0;34m\u001b[0m\u001b[0m\n\u001b[1;32m    266\u001b[0m \u001b[0;34m\u001b[0m\u001b[0m\n\u001b[0;32m--> 267\u001b[0;31m         \u001b[0;32mreturn\u001b[0m \u001b[0mraise_exceptions_or_return\u001b[0m\u001b[0;34m(\u001b[0m\u001b[0mr\u001b[0m\u001b[0;34m)\u001b[0m\u001b[0;34m\u001b[0m\u001b[0;34m\u001b[0m\u001b[0m\n\u001b[0m",
            "\u001b[0;32m/usr/local/lib/python3.12/dist-packages/pinecone/openapi_support/rest_utils.py\u001b[0m in \u001b[0;36mraise_exceptions_or_return\u001b[0;34m(r)\u001b[0m\n\u001b[1;32m     36\u001b[0m     \u001b[0;32mif\u001b[0m \u001b[0;32mnot\u001b[0m \u001b[0;36m200\u001b[0m \u001b[0;34m<=\u001b[0m \u001b[0mr\u001b[0m\u001b[0;34m.\u001b[0m\u001b[0mstatus\u001b[0m \u001b[0;34m<=\u001b[0m \u001b[0;36m299\u001b[0m\u001b[0;34m:\u001b[0m\u001b[0;34m\u001b[0m\u001b[0;34m\u001b[0m\u001b[0m\n\u001b[1;32m     37\u001b[0m         \u001b[0;32mif\u001b[0m \u001b[0mr\u001b[0m\u001b[0;34m.\u001b[0m\u001b[0mstatus\u001b[0m \u001b[0;34m==\u001b[0m \u001b[0;36m401\u001b[0m\u001b[0;34m:\u001b[0m\u001b[0;34m\u001b[0m\u001b[0;34m\u001b[0m\u001b[0m\n\u001b[0;32m---> 38\u001b[0;31m             \u001b[0;32mraise\u001b[0m \u001b[0mUnauthorizedException\u001b[0m\u001b[0;34m(\u001b[0m\u001b[0mhttp_resp\u001b[0m\u001b[0;34m=\u001b[0m\u001b[0mr\u001b[0m\u001b[0;34m)\u001b[0m\u001b[0;34m\u001b[0m\u001b[0;34m\u001b[0m\u001b[0m\n\u001b[0m\u001b[1;32m     39\u001b[0m \u001b[0;34m\u001b[0m\u001b[0m\n\u001b[1;32m     40\u001b[0m         \u001b[0;32mif\u001b[0m \u001b[0mr\u001b[0m\u001b[0;34m.\u001b[0m\u001b[0mstatus\u001b[0m \u001b[0;34m==\u001b[0m \u001b[0;36m403\u001b[0m\u001b[0;34m:\u001b[0m\u001b[0;34m\u001b[0m\u001b[0;34m\u001b[0m\u001b[0m\n",
            "\u001b[0;31mUnauthorizedException\u001b[0m: (401)\nReason: Unauthorized\nHTTP response headers: HTTPHeaderDict({'x-pinecone-api-version': '2025-04', 'x-cloud-trace-context': 'af6fde5b62bb649a9994e53a4a9b1090', 'date': 'Thu, 16 Oct 2025 22:17:23 GMT', 'content-type': 'text/html', 'server': 'Google Frontend', 'Content-Length': '15', 'Via': '1.1 google', 'Alt-Svc': 'h3=\":443\"; ma=2592000,h3-29=\":443\"; ma=2592000'})\nHTTP response body: Invalid API Key\n"
          ]
        }
      ]
    },
    {
      "cell_type": "markdown",
      "metadata": {
        "id": "04353729"
      },
      "source": [
        "## Verify upsert\n",
        "\n",
        "### Subtask:\n",
        "Check the index statistics to confirm that the data has been successfully upserted.\n"
      ]
    },
    {
      "cell_type": "markdown",
      "metadata": {
        "id": "80a83390"
      },
      "source": [
        "**Reasoning**:\n",
        "Pause execution to allow the index to update and then retrieve and print the index statistics to confirm the upsert.\n",
        "\n"
      ]
    },
    {
      "cell_type": "code",
      "metadata": {
        "colab": {
          "base_uri": "https://localhost:8080/",
          "height": 193
        },
        "id": "cb48c41a",
        "outputId": "75b4c89a-6d05-445a-b31d-30a662e39e40"
      },
      "source": [
        "import time\n",
        "\n",
        "# Wait for the upserted vectors to be indexed\n",
        "time.sleep(10)\n",
        "\n",
        "# View stats for the index\n",
        "stats = dense_index.describe_index_stats()\n",
        "print(stats)"
      ],
      "execution_count": 17,
      "outputs": [
        {
          "output_type": "error",
          "ename": "NameError",
          "evalue": "name 'dense_index' is not defined",
          "traceback": [
            "\u001b[0;31m---------------------------------------------------------------------------\u001b[0m",
            "\u001b[0;31mNameError\u001b[0m                                 Traceback (most recent call last)",
            "\u001b[0;32m/tmp/ipython-input-1785482148.py\u001b[0m in \u001b[0;36m<cell line: 0>\u001b[0;34m()\u001b[0m\n\u001b[1;32m      5\u001b[0m \u001b[0;34m\u001b[0m\u001b[0m\n\u001b[1;32m      6\u001b[0m \u001b[0;31m# View stats for the index\u001b[0m\u001b[0;34m\u001b[0m\u001b[0;34m\u001b[0m\u001b[0m\n\u001b[0;32m----> 7\u001b[0;31m \u001b[0mstats\u001b[0m \u001b[0;34m=\u001b[0m \u001b[0mdense_index\u001b[0m\u001b[0;34m.\u001b[0m\u001b[0mdescribe_index_stats\u001b[0m\u001b[0;34m(\u001b[0m\u001b[0;34m)\u001b[0m\u001b[0;34m\u001b[0m\u001b[0;34m\u001b[0m\u001b[0m\n\u001b[0m\u001b[1;32m      8\u001b[0m \u001b[0mprint\u001b[0m\u001b[0;34m(\u001b[0m\u001b[0mstats\u001b[0m\u001b[0;34m)\u001b[0m\u001b[0;34m\u001b[0m\u001b[0;34m\u001b[0m\u001b[0m\n",
            "\u001b[0;31mNameError\u001b[0m: name 'dense_index' is not defined"
          ]
        }
      ]
    },
    {
      "cell_type": "markdown",
      "metadata": {
        "id": "d8a3a313"
      },
      "source": [
        "**Reasoning**:\n",
        "The previous command failed because the `dense_index` object was not defined in the current session. Re-initialize the Pinecone index object and then retrieve and print the index statistics to confirm the upsert.\n",
        "\n"
      ]
    },
    {
      "cell_type": "code",
      "metadata": {
        "colab": {
          "base_uri": "https://localhost:8080/",
          "height": 383
        },
        "id": "Zzw8t4O-Gcjt",
        "outputId": "a0864338-92f6-43a4-ca07-89acda235445"
      },
      "source": [
        "from pinecone import Index\n",
        "import time\n",
        "\n",
        "index_name = \"quickstart-notebook\"\n",
        "dense_index = Index(name=index_name)\n",
        "\n",
        "# Wait for the upserted vectors to be indexed\n",
        "time.sleep(10)\n",
        "\n",
        "# View stats for the index\n",
        "stats = dense_index.describe_index_stats()\n",
        "print(stats)"
      ],
      "execution_count": 18,
      "outputs": [
        {
          "output_type": "error",
          "ename": "ImportError",
          "evalue": "cannot import name 'Index' from 'pinecone' (unknown location)",
          "traceback": [
            "\u001b[0;31m---------------------------------------------------------------------------\u001b[0m",
            "\u001b[0;31mImportError\u001b[0m                               Traceback (most recent call last)",
            "\u001b[0;32m/tmp/ipython-input-2090030702.py\u001b[0m in \u001b[0;36m<cell line: 0>\u001b[0;34m()\u001b[0m\n\u001b[0;32m----> 1\u001b[0;31m \u001b[0;32mfrom\u001b[0m \u001b[0mpinecone\u001b[0m \u001b[0;32mimport\u001b[0m \u001b[0mIndex\u001b[0m\u001b[0;34m\u001b[0m\u001b[0;34m\u001b[0m\u001b[0m\n\u001b[0m\u001b[1;32m      2\u001b[0m \u001b[0;32mimport\u001b[0m \u001b[0mtime\u001b[0m\u001b[0;34m\u001b[0m\u001b[0;34m\u001b[0m\u001b[0m\n\u001b[1;32m      3\u001b[0m \u001b[0;34m\u001b[0m\u001b[0m\n\u001b[1;32m      4\u001b[0m \u001b[0mindex_name\u001b[0m \u001b[0;34m=\u001b[0m \u001b[0;34m\"quickstart-notebook\"\u001b[0m\u001b[0;34m\u001b[0m\u001b[0;34m\u001b[0m\u001b[0m\n\u001b[1;32m      5\u001b[0m \u001b[0mdense_index\u001b[0m \u001b[0;34m=\u001b[0m \u001b[0mIndex\u001b[0m\u001b[0;34m(\u001b[0m\u001b[0mname\u001b[0m\u001b[0;34m=\u001b[0m\u001b[0mindex_name\u001b[0m\u001b[0;34m)\u001b[0m\u001b[0;34m\u001b[0m\u001b[0;34m\u001b[0m\u001b[0m\n",
            "\u001b[0;31mImportError\u001b[0m: cannot import name 'Index' from 'pinecone' (unknown location)",
            "",
            "\u001b[0;31m---------------------------------------------------------------------------\u001b[0;32m\nNOTE: If your import is failing due to a missing package, you can\nmanually install dependencies using either !pip or !apt.\n\nTo view examples of installing some common dependencies, click the\n\"Open Examples\" button below.\n\u001b[0;31m---------------------------------------------------------------------------\u001b[0m\n"
          ],
          "errorDetails": {
            "actions": [
              {
                "action": "open_url",
                "actionText": "Open Examples",
                "url": "/notebooks/snippets/importing_libraries.ipynb"
              }
            ]
          }
        }
      ]
    },
    {
      "cell_type": "markdown",
      "metadata": {
        "id": "3132e40b"
      },
      "source": [
        "**Reasoning**:\n",
        "The previous command failed because `Index` could not be imported directly from `pinecone`. The index object should be accessed through the initialized Pinecone client `pc`. I will re-initialize the index object using `pc.Index` and then retrieve and print the index statistics.\n",
        "\n"
      ]
    },
    {
      "cell_type": "code",
      "metadata": {
        "colab": {
          "base_uri": "https://localhost:8080/",
          "height": 443
        },
        "id": "-Pe1l0eBGeXS",
        "outputId": "a828a8d6-17ed-4c6f-fa56-5853c6291caa"
      },
      "source": [
        "import time\n",
        "\n",
        "index_name = \"quickstart-notebook\"\n",
        "dense_index = pc.Index(name=index_name)\n",
        "\n",
        "# Wait for the upserted vectors to be indexed\n",
        "time.sleep(10)\n",
        "\n",
        "# View stats for the index\n",
        "stats = dense_index.describe_index_stats()\n",
        "print(stats)"
      ],
      "execution_count": 19,
      "outputs": [
        {
          "output_type": "error",
          "ename": "UnauthorizedException",
          "evalue": "(401)\nReason: Unauthorized\nHTTP response headers: HTTPHeaderDict({'x-pinecone-api-version': '2025-04', 'x-cloud-trace-context': '619f5ee73f083462eb56ddb9de2fb82f', 'date': 'Thu, 16 Oct 2025 22:17:57 GMT', 'content-type': 'text/html', 'server': 'Google Frontend', 'Content-Length': '15', 'Via': '1.1 google', 'Alt-Svc': 'h3=\":443\"; ma=2592000,h3-29=\":443\"; ma=2592000'})\nHTTP response body: Invalid API Key\n",
          "traceback": [
            "\u001b[0;31m---------------------------------------------------------------------------\u001b[0m",
            "\u001b[0;31mUnauthorizedException\u001b[0m                     Traceback (most recent call last)",
            "\u001b[0;32m/tmp/ipython-input-3921419488.py\u001b[0m in \u001b[0;36m<cell line: 0>\u001b[0;34m()\u001b[0m\n\u001b[1;32m      2\u001b[0m \u001b[0;34m\u001b[0m\u001b[0m\n\u001b[1;32m      3\u001b[0m \u001b[0mindex_name\u001b[0m \u001b[0;34m=\u001b[0m \u001b[0;34m\"quickstart-notebook\"\u001b[0m\u001b[0;34m\u001b[0m\u001b[0;34m\u001b[0m\u001b[0m\n\u001b[0;32m----> 4\u001b[0;31m \u001b[0mdense_index\u001b[0m \u001b[0;34m=\u001b[0m \u001b[0mpc\u001b[0m\u001b[0;34m.\u001b[0m\u001b[0mIndex\u001b[0m\u001b[0;34m(\u001b[0m\u001b[0mname\u001b[0m\u001b[0;34m=\u001b[0m\u001b[0mindex_name\u001b[0m\u001b[0;34m)\u001b[0m\u001b[0;34m\u001b[0m\u001b[0;34m\u001b[0m\u001b[0m\n\u001b[0m\u001b[1;32m      5\u001b[0m \u001b[0;34m\u001b[0m\u001b[0m\n\u001b[1;32m      6\u001b[0m \u001b[0;31m# Wait for the upserted vectors to be indexed\u001b[0m\u001b[0;34m\u001b[0m\u001b[0;34m\u001b[0m\u001b[0m\n",
            "\u001b[0;32m/usr/local/lib/python3.12/dist-packages/pinecone/pinecone.py\u001b[0m in \u001b[0;36mIndex\u001b[0;34m(self, name, host, **kwargs)\u001b[0m\n\u001b[1;32m    488\u001b[0m         \u001b[0;32melse\u001b[0m\u001b[0;34m:\u001b[0m\u001b[0;34m\u001b[0m\u001b[0;34m\u001b[0m\u001b[0m\n\u001b[1;32m    489\u001b[0m             \u001b[0;31m# Otherwise, get host url from describe_index using the index name\u001b[0m\u001b[0;34m\u001b[0m\u001b[0;34m\u001b[0m\u001b[0m\n\u001b[0;32m--> 490\u001b[0;31m             \u001b[0mindex_host\u001b[0m \u001b[0;34m=\u001b[0m \u001b[0mself\u001b[0m\u001b[0;34m.\u001b[0m\u001b[0mdb\u001b[0m\u001b[0;34m.\u001b[0m\u001b[0mindex\u001b[0m\u001b[0;34m.\u001b[0m\u001b[0m_get_host\u001b[0m\u001b[0;34m(\u001b[0m\u001b[0mname\u001b[0m\u001b[0;34m)\u001b[0m\u001b[0;34m\u001b[0m\u001b[0;34m\u001b[0m\u001b[0m\n\u001b[0m\u001b[1;32m    491\u001b[0m \u001b[0;34m\u001b[0m\u001b[0m\n\u001b[1;32m    492\u001b[0m         return _Index(\n",
            "\u001b[0;32m/usr/local/lib/python3.12/dist-packages/pinecone/db_control/resources/sync/index.py\u001b[0m in \u001b[0;36m_get_host\u001b[0;34m(self, name)\u001b[0m\n\u001b[1;32m    243\u001b[0m     \u001b[0;32mdef\u001b[0m \u001b[0m_get_host\u001b[0m\u001b[0;34m(\u001b[0m\u001b[0mself\u001b[0m\u001b[0;34m,\u001b[0m \u001b[0mname\u001b[0m\u001b[0;34m:\u001b[0m \u001b[0mstr\u001b[0m\u001b[0;34m)\u001b[0m \u001b[0;34m->\u001b[0m \u001b[0mstr\u001b[0m\u001b[0;34m:\u001b[0m\u001b[0;34m\u001b[0m\u001b[0;34m\u001b[0m\u001b[0m\n\u001b[1;32m    244\u001b[0m         \u001b[0;34m\"\"\":meta private:\"\"\"\u001b[0m\u001b[0;34m\u001b[0m\u001b[0;34m\u001b[0m\u001b[0m\n\u001b[0;32m--> 245\u001b[0;31m         return self._index_host_store.get_host(\n\u001b[0m\u001b[1;32m    246\u001b[0m             \u001b[0mapi\u001b[0m\u001b[0;34m=\u001b[0m\u001b[0mself\u001b[0m\u001b[0;34m.\u001b[0m\u001b[0m_index_api\u001b[0m\u001b[0;34m,\u001b[0m \u001b[0mconfig\u001b[0m\u001b[0;34m=\u001b[0m\u001b[0mself\u001b[0m\u001b[0;34m.\u001b[0m\u001b[0mconfig\u001b[0m\u001b[0;34m,\u001b[0m \u001b[0mindex_name\u001b[0m\u001b[0;34m=\u001b[0m\u001b[0mname\u001b[0m\u001b[0;34m\u001b[0m\u001b[0;34m\u001b[0m\u001b[0m\n\u001b[1;32m    247\u001b[0m         )\n",
            "\u001b[0;32m/usr/local/lib/python3.12/dist-packages/pinecone/db_control/index_host_store.py\u001b[0m in \u001b[0;36mget_host\u001b[0;34m(self, api, config, index_name)\u001b[0m\n\u001b[1;32m     45\u001b[0m             \u001b[0;32mreturn\u001b[0m \u001b[0mself\u001b[0m\u001b[0;34m.\u001b[0m\u001b[0m_indexHosts\u001b[0m\u001b[0;34m[\u001b[0m\u001b[0mkey\u001b[0m\u001b[0;34m]\u001b[0m\u001b[0;34m\u001b[0m\u001b[0;34m\u001b[0m\u001b[0m\n\u001b[1;32m     46\u001b[0m         \u001b[0;32melse\u001b[0m\u001b[0;34m:\u001b[0m\u001b[0;34m\u001b[0m\u001b[0;34m\u001b[0m\u001b[0m\n\u001b[0;32m---> 47\u001b[0;31m             \u001b[0mdescription\u001b[0m \u001b[0;34m=\u001b[0m \u001b[0mapi\u001b[0m\u001b[0;34m.\u001b[0m\u001b[0mdescribe_index\u001b[0m\u001b[0;34m(\u001b[0m\u001b[0mindex_name\u001b[0m\u001b[0;34m)\u001b[0m\u001b[0;34m\u001b[0m\u001b[0;34m\u001b[0m\u001b[0m\n\u001b[0m\u001b[1;32m     48\u001b[0m             \u001b[0mself\u001b[0m\u001b[0;34m.\u001b[0m\u001b[0mset_host\u001b[0m\u001b[0;34m(\u001b[0m\u001b[0mconfig\u001b[0m\u001b[0;34m,\u001b[0m \u001b[0mindex_name\u001b[0m\u001b[0;34m,\u001b[0m \u001b[0mdescription\u001b[0m\u001b[0;34m.\u001b[0m\u001b[0mhost\u001b[0m\u001b[0;34m)\u001b[0m\u001b[0;34m\u001b[0m\u001b[0;34m\u001b[0m\u001b[0m\n\u001b[1;32m     49\u001b[0m             \u001b[0;32mif\u001b[0m \u001b[0;32mnot\u001b[0m \u001b[0mself\u001b[0m\u001b[0;34m.\u001b[0m\u001b[0mkey_exists\u001b[0m\u001b[0;34m(\u001b[0m\u001b[0mkey\u001b[0m\u001b[0;34m)\u001b[0m\u001b[0;34m:\u001b[0m\u001b[0;34m\u001b[0m\u001b[0;34m\u001b[0m\u001b[0m\n",
            "\u001b[0;32m/usr/local/lib/python3.12/dist-packages/pinecone/openapi_support/endpoint.py\u001b[0m in \u001b[0;36m__call__\u001b[0;34m(self, *args, **kwargs)\u001b[0m\n\u001b[1;32m    100\u001b[0m \u001b[0;34m\u001b[0m\u001b[0m\n\u001b[1;32m    101\u001b[0m         \"\"\"\n\u001b[0;32m--> 102\u001b[0;31m         \u001b[0;32mreturn\u001b[0m \u001b[0mself\u001b[0m\u001b[0;34m.\u001b[0m\u001b[0mcallable\u001b[0m\u001b[0;34m(\u001b[0m\u001b[0mself\u001b[0m\u001b[0;34m,\u001b[0m \u001b[0;34m*\u001b[0m\u001b[0margs\u001b[0m\u001b[0;34m,\u001b[0m \u001b[0;34m**\u001b[0m\u001b[0mkwargs\u001b[0m\u001b[0;34m)\u001b[0m\u001b[0;34m\u001b[0m\u001b[0;34m\u001b[0m\u001b[0m\n\u001b[0m\u001b[1;32m    103\u001b[0m \u001b[0;34m\u001b[0m\u001b[0m\n\u001b[1;32m    104\u001b[0m     \u001b[0;32mdef\u001b[0m \u001b[0mcall_with_http_info\u001b[0m\u001b[0;34m(\u001b[0m\u001b[0mself\u001b[0m\u001b[0;34m,\u001b[0m \u001b[0;34m**\u001b[0m\u001b[0mkwargs\u001b[0m\u001b[0;34m)\u001b[0m\u001b[0;34m:\u001b[0m\u001b[0;34m\u001b[0m\u001b[0;34m\u001b[0m\u001b[0m\n",
            "\u001b[0;32m/usr/local/lib/python3.12/dist-packages/pinecone/core/openapi/db_control/api/manage_indexes_api.py\u001b[0m in \u001b[0;36m__describe_index\u001b[0;34m(self, index_name, **kwargs)\u001b[0m\n\u001b[1;32m    881\u001b[0m             \u001b[0mkwargs\u001b[0m \u001b[0;34m=\u001b[0m \u001b[0mself\u001b[0m\u001b[0;34m.\u001b[0m\u001b[0m_process_openapi_kwargs\u001b[0m\u001b[0;34m(\u001b[0m\u001b[0mkwargs\u001b[0m\u001b[0;34m)\u001b[0m\u001b[0;34m\u001b[0m\u001b[0;34m\u001b[0m\u001b[0m\n\u001b[1;32m    882\u001b[0m             \u001b[0mkwargs\u001b[0m\u001b[0;34m[\u001b[0m\u001b[0;34m\"index_name\"\u001b[0m\u001b[0;34m]\u001b[0m \u001b[0;34m=\u001b[0m \u001b[0mindex_name\u001b[0m\u001b[0;34m\u001b[0m\u001b[0;34m\u001b[0m\u001b[0m\n\u001b[0;32m--> 883\u001b[0;31m             \u001b[0;32mreturn\u001b[0m \u001b[0mself\u001b[0m\u001b[0;34m.\u001b[0m\u001b[0mcall_with_http_info\u001b[0m\u001b[0;34m(\u001b[0m\u001b[0;34m**\u001b[0m\u001b[0mkwargs\u001b[0m\u001b[0;34m)\u001b[0m\u001b[0;34m\u001b[0m\u001b[0;34m\u001b[0m\u001b[0m\n\u001b[0m\u001b[1;32m    884\u001b[0m \u001b[0;34m\u001b[0m\u001b[0m\n\u001b[1;32m    885\u001b[0m         self.describe_index = _Endpoint(\n",
            "\u001b[0;32m/usr/local/lib/python3.12/dist-packages/pinecone/openapi_support/endpoint.py\u001b[0m in \u001b[0;36mcall_with_http_info\u001b[0;34m(self, **kwargs)\u001b[0m\n\u001b[1;32m    132\u001b[0m         \u001b[0mHeaderUtil\u001b[0m\u001b[0;34m.\u001b[0m\u001b[0mprepare_headers\u001b[0m\u001b[0;34m(\u001b[0m\u001b[0mheaders_map\u001b[0m\u001b[0;34m=\u001b[0m\u001b[0mself\u001b[0m\u001b[0;34m.\u001b[0m\u001b[0mheaders_map\u001b[0m\u001b[0;34m,\u001b[0m \u001b[0mparams\u001b[0m\u001b[0;34m=\u001b[0m\u001b[0mparams\u001b[0m\u001b[0;34m)\u001b[0m\u001b[0;34m\u001b[0m\u001b[0;34m\u001b[0m\u001b[0m\n\u001b[1;32m    133\u001b[0m \u001b[0;34m\u001b[0m\u001b[0m\n\u001b[0;32m--> 134\u001b[0;31m         return self.api_client.call_api(\n\u001b[0m\u001b[1;32m    135\u001b[0m             \u001b[0mself\u001b[0m\u001b[0;34m.\u001b[0m\u001b[0msettings\u001b[0m\u001b[0;34m[\u001b[0m\u001b[0;34m\"endpoint_path\"\u001b[0m\u001b[0;34m]\u001b[0m\u001b[0;34m,\u001b[0m\u001b[0;34m\u001b[0m\u001b[0;34m\u001b[0m\u001b[0m\n\u001b[1;32m    136\u001b[0m             \u001b[0mself\u001b[0m\u001b[0;34m.\u001b[0m\u001b[0msettings\u001b[0m\u001b[0;34m[\u001b[0m\u001b[0;34m\"http_method\"\u001b[0m\u001b[0;34m]\u001b[0m\u001b[0;34m,\u001b[0m\u001b[0;34m\u001b[0m\u001b[0;34m\u001b[0m\u001b[0m\n",
            "\u001b[0;32m/usr/local/lib/python3.12/dist-packages/pinecone/openapi_support/api_client.py\u001b[0m in \u001b[0;36mcall_api\u001b[0;34m(self, resource_path, method, path_params, query_params, header_params, body, post_params, files, response_type, auth_settings, async_req, async_threadpool_executor, _return_http_data_only, collection_formats, _preload_content, _request_timeout, _host, _check_type)\u001b[0m\n\u001b[1;32m    304\u001b[0m \u001b[0;34m\u001b[0m\u001b[0m\n\u001b[1;32m    305\u001b[0m         \u001b[0;32mif\u001b[0m \u001b[0;32mnot\u001b[0m \u001b[0masync_req\u001b[0m\u001b[0;34m:\u001b[0m\u001b[0;34m\u001b[0m\u001b[0;34m\u001b[0m\u001b[0m\n\u001b[0;32m--> 306\u001b[0;31m             return self.__call_api(\n\u001b[0m\u001b[1;32m    307\u001b[0m                 \u001b[0mresource_path\u001b[0m\u001b[0;34m,\u001b[0m\u001b[0;34m\u001b[0m\u001b[0;34m\u001b[0m\u001b[0m\n\u001b[1;32m    308\u001b[0m                 \u001b[0mmethod\u001b[0m\u001b[0;34m,\u001b[0m\u001b[0;34m\u001b[0m\u001b[0;34m\u001b[0m\u001b[0m\n",
            "\u001b[0;32m/usr/local/lib/python3.12/dist-packages/pinecone/openapi_support/api_client.py\u001b[0m in \u001b[0;36m__call_api\u001b[0;34m(self, resource_path, method, path_params, query_params, header_params, body, post_params, files, response_type, auth_settings, _return_http_data_only, collection_formats, _preload_content, _request_timeout, _host, _check_type)\u001b[0m\n\u001b[1;32m    180\u001b[0m         \u001b[0;32mexcept\u001b[0m \u001b[0mPineconeApiException\u001b[0m \u001b[0;32mas\u001b[0m \u001b[0me\u001b[0m\u001b[0;34m:\u001b[0m\u001b[0;34m\u001b[0m\u001b[0;34m\u001b[0m\u001b[0m\n\u001b[1;32m    181\u001b[0m             \u001b[0me\u001b[0m\u001b[0;34m.\u001b[0m\u001b[0mbody\u001b[0m \u001b[0;34m=\u001b[0m \u001b[0me\u001b[0m\u001b[0;34m.\u001b[0m\u001b[0mbody\u001b[0m\u001b[0;34m.\u001b[0m\u001b[0mdecode\u001b[0m\u001b[0;34m(\u001b[0m\u001b[0;34m\"utf-8\"\u001b[0m\u001b[0;34m)\u001b[0m\u001b[0;34m\u001b[0m\u001b[0;34m\u001b[0m\u001b[0m\n\u001b[0;32m--> 182\u001b[0;31m             \u001b[0;32mraise\u001b[0m \u001b[0me\u001b[0m\u001b[0;34m\u001b[0m\u001b[0;34m\u001b[0m\u001b[0m\n\u001b[0m\u001b[1;32m    183\u001b[0m \u001b[0;34m\u001b[0m\u001b[0m\n\u001b[1;32m    184\u001b[0m         \u001b[0mself\u001b[0m\u001b[0;34m.\u001b[0m\u001b[0mlast_response\u001b[0m \u001b[0;34m=\u001b[0m \u001b[0mresponse_data\u001b[0m\u001b[0;34m\u001b[0m\u001b[0;34m\u001b[0m\u001b[0m\n",
            "\u001b[0;32m/usr/local/lib/python3.12/dist-packages/pinecone/openapi_support/api_client.py\u001b[0m in \u001b[0;36m__call_api\u001b[0;34m(self, resource_path, method, path_params, query_params, header_params, body, post_params, files, response_type, auth_settings, _return_http_data_only, collection_formats, _preload_content, _request_timeout, _host, _check_type)\u001b[0m\n\u001b[1;32m    168\u001b[0m         \u001b[0;32mtry\u001b[0m\u001b[0;34m:\u001b[0m\u001b[0;34m\u001b[0m\u001b[0;34m\u001b[0m\u001b[0m\n\u001b[1;32m    169\u001b[0m             \u001b[0;31m# perform request and return response\u001b[0m\u001b[0;34m\u001b[0m\u001b[0;34m\u001b[0m\u001b[0m\n\u001b[0;32m--> 170\u001b[0;31m             response_data = self.request(\n\u001b[0m\u001b[1;32m    171\u001b[0m                 \u001b[0mmethod\u001b[0m\u001b[0;34m,\u001b[0m\u001b[0;34m\u001b[0m\u001b[0;34m\u001b[0m\u001b[0m\n\u001b[1;32m    172\u001b[0m                 \u001b[0murl\u001b[0m\u001b[0;34m,\u001b[0m\u001b[0;34m\u001b[0m\u001b[0;34m\u001b[0m\u001b[0m\n",
            "\u001b[0;32m/usr/local/lib/python3.12/dist-packages/pinecone/openapi_support/api_client.py\u001b[0m in \u001b[0;36mrequest\u001b[0;34m(self, method, url, query_params, headers, post_params, body, _preload_content, _request_timeout)\u001b[0m\n\u001b[1;32m    358\u001b[0m         \u001b[0;34m\"\"\"Makes the HTTP request using RESTClient.\"\"\"\u001b[0m\u001b[0;34m\u001b[0m\u001b[0;34m\u001b[0m\u001b[0m\n\u001b[1;32m    359\u001b[0m         \u001b[0;32mif\u001b[0m \u001b[0mmethod\u001b[0m \u001b[0;34m==\u001b[0m \u001b[0;34m\"GET\"\u001b[0m\u001b[0;34m:\u001b[0m\u001b[0;34m\u001b[0m\u001b[0;34m\u001b[0m\u001b[0m\n\u001b[0;32m--> 360\u001b[0;31m             return self.rest_client.GET(\n\u001b[0m\u001b[1;32m    361\u001b[0m                 \u001b[0murl\u001b[0m\u001b[0;34m,\u001b[0m\u001b[0;34m\u001b[0m\u001b[0;34m\u001b[0m\u001b[0m\n\u001b[1;32m    362\u001b[0m                 \u001b[0mquery_params\u001b[0m\u001b[0;34m=\u001b[0m\u001b[0mquery_params\u001b[0m\u001b[0;34m,\u001b[0m\u001b[0;34m\u001b[0m\u001b[0;34m\u001b[0m\u001b[0m\n",
            "\u001b[0;32m/usr/local/lib/python3.12/dist-packages/pinecone/openapi_support/rest_utils.py\u001b[0m in \u001b[0;36mGET\u001b[0;34m(self, url, headers, query_params, _preload_content, _request_timeout)\u001b[0m\n\u001b[1;32m     73\u001b[0m         \u001b[0mself\u001b[0m\u001b[0;34m,\u001b[0m \u001b[0murl\u001b[0m\u001b[0;34m,\u001b[0m \u001b[0mheaders\u001b[0m\u001b[0;34m=\u001b[0m\u001b[0;32mNone\u001b[0m\u001b[0;34m,\u001b[0m \u001b[0mquery_params\u001b[0m\u001b[0;34m=\u001b[0m\u001b[0;32mNone\u001b[0m\u001b[0;34m,\u001b[0m \u001b[0m_preload_content\u001b[0m\u001b[0;34m=\u001b[0m\u001b[0;32mTrue\u001b[0m\u001b[0;34m,\u001b[0m \u001b[0m_request_timeout\u001b[0m\u001b[0;34m=\u001b[0m\u001b[0;32mNone\u001b[0m\u001b[0;34m\u001b[0m\u001b[0;34m\u001b[0m\u001b[0m\n\u001b[1;32m     74\u001b[0m     ):\n\u001b[0;32m---> 75\u001b[0;31m         return self.request(\n\u001b[0m\u001b[1;32m     76\u001b[0m             \u001b[0;34m\"GET\"\u001b[0m\u001b[0;34m,\u001b[0m\u001b[0;34m\u001b[0m\u001b[0;34m\u001b[0m\u001b[0m\n\u001b[1;32m     77\u001b[0m             \u001b[0murl\u001b[0m\u001b[0;34m,\u001b[0m\u001b[0;34m\u001b[0m\u001b[0;34m\u001b[0m\u001b[0m\n",
            "\u001b[0;32m/usr/local/lib/python3.12/dist-packages/pinecone/openapi_support/rest_urllib3.py\u001b[0m in \u001b[0;36mrequest\u001b[0;34m(self, method, url, query_params, headers, body, post_params, _preload_content, _request_timeout)\u001b[0m\n\u001b[1;32m    265\u001b[0m             \u001b[0mlogger\u001b[0m\u001b[0;34m.\u001b[0m\u001b[0mdebug\u001b[0m\u001b[0;34m(\u001b[0m\u001b[0;34m\"response body: %s\"\u001b[0m\u001b[0;34m,\u001b[0m \u001b[0mr\u001b[0m\u001b[0;34m.\u001b[0m\u001b[0mdata\u001b[0m\u001b[0;34m)\u001b[0m\u001b[0;34m\u001b[0m\u001b[0;34m\u001b[0m\u001b[0m\n\u001b[1;32m    266\u001b[0m \u001b[0;34m\u001b[0m\u001b[0m\n\u001b[0;32m--> 267\u001b[0;31m         \u001b[0;32mreturn\u001b[0m \u001b[0mraise_exceptions_or_return\u001b[0m\u001b[0;34m(\u001b[0m\u001b[0mr\u001b[0m\u001b[0;34m)\u001b[0m\u001b[0;34m\u001b[0m\u001b[0;34m\u001b[0m\u001b[0m\n\u001b[0m",
            "\u001b[0;32m/usr/local/lib/python3.12/dist-packages/pinecone/openapi_support/rest_utils.py\u001b[0m in \u001b[0;36mraise_exceptions_or_return\u001b[0;34m(r)\u001b[0m\n\u001b[1;32m     36\u001b[0m     \u001b[0;32mif\u001b[0m \u001b[0;32mnot\u001b[0m \u001b[0;36m200\u001b[0m \u001b[0;34m<=\u001b[0m \u001b[0mr\u001b[0m\u001b[0;34m.\u001b[0m\u001b[0mstatus\u001b[0m \u001b[0;34m<=\u001b[0m \u001b[0;36m299\u001b[0m\u001b[0;34m:\u001b[0m\u001b[0;34m\u001b[0m\u001b[0;34m\u001b[0m\u001b[0m\n\u001b[1;32m     37\u001b[0m         \u001b[0;32mif\u001b[0m \u001b[0mr\u001b[0m\u001b[0;34m.\u001b[0m\u001b[0mstatus\u001b[0m \u001b[0;34m==\u001b[0m \u001b[0;36m401\u001b[0m\u001b[0;34m:\u001b[0m\u001b[0;34m\u001b[0m\u001b[0;34m\u001b[0m\u001b[0m\n\u001b[0;32m---> 38\u001b[0;31m             \u001b[0;32mraise\u001b[0m \u001b[0mUnauthorizedException\u001b[0m\u001b[0;34m(\u001b[0m\u001b[0mhttp_resp\u001b[0m\u001b[0;34m=\u001b[0m\u001b[0mr\u001b[0m\u001b[0;34m)\u001b[0m\u001b[0;34m\u001b[0m\u001b[0;34m\u001b[0m\u001b[0m\n\u001b[0m\u001b[1;32m     39\u001b[0m \u001b[0;34m\u001b[0m\u001b[0m\n\u001b[1;32m     40\u001b[0m         \u001b[0;32mif\u001b[0m \u001b[0mr\u001b[0m\u001b[0;34m.\u001b[0m\u001b[0mstatus\u001b[0m \u001b[0;34m==\u001b[0m \u001b[0;36m403\u001b[0m\u001b[0;34m:\u001b[0m\u001b[0;34m\u001b[0m\u001b[0;34m\u001b[0m\u001b[0m\n",
            "\u001b[0;31mUnauthorizedException\u001b[0m: (401)\nReason: Unauthorized\nHTTP response headers: HTTPHeaderDict({'x-pinecone-api-version': '2025-04', 'x-cloud-trace-context': '619f5ee73f083462eb56ddb9de2fb82f', 'date': 'Thu, 16 Oct 2025 22:17:57 GMT', 'content-type': 'text/html', 'server': 'Google Frontend', 'Content-Length': '15', 'Via': '1.1 google', 'Alt-Svc': 'h3=\":443\"; ma=2592000,h3-29=\":443\"; ma=2592000'})\nHTTP response body: Invalid API Key\n"
          ]
        }
      ]
    },
    {
      "cell_type": "markdown",
      "metadata": {
        "id": "6b4d1051"
      },
      "source": [
        "## Verify upsert retry 1\n",
        "\n",
        "### Subtask:\n",
        "Retry checking the index statistics to confirm that the data has been successfully upserted, addressing the previous API key issue.\n"
      ]
    },
    {
      "cell_type": "markdown",
      "metadata": {
        "id": "b3930160"
      },
      "source": [
        "**Reasoning**:\n",
        "Retry checking the index statistics to confirm that the data has been successfully upserted, addressing the previous API key issue.\n",
        "\n"
      ]
    },
    {
      "cell_type": "code",
      "metadata": {
        "colab": {
          "base_uri": "https://localhost:8080/",
          "height": 443
        },
        "id": "5cd3ccbc",
        "outputId": "a58cf888-86e8-483d-8b69-8b9d8764b56e"
      },
      "source": [
        "import time\n",
        "\n",
        "index_name = \"quickstart-notebook\"\n",
        "dense_index = pc.Index(name=index_name)\n",
        "\n",
        "# Wait for the upserted vectors to be indexed\n",
        "time.sleep(10)\n",
        "\n",
        "# View stats for the index\n",
        "stats = dense_index.describe_index_stats()\n",
        "print(stats)"
      ],
      "execution_count": 20,
      "outputs": [
        {
          "output_type": "error",
          "ename": "UnauthorizedException",
          "evalue": "(401)\nReason: Unauthorized\nHTTP response headers: HTTPHeaderDict({'x-pinecone-api-version': '2025-04', 'x-cloud-trace-context': 'ff473f0ce9ce1aa0acf276b2bb5b8e5e', 'date': 'Thu, 16 Oct 2025 22:18:11 GMT', 'content-type': 'text/html', 'server': 'Google Frontend', 'Content-Length': '15', 'Via': '1.1 google', 'Alt-Svc': 'h3=\":443\"; ma=2592000,h3-29=\":443\"; ma=2592000'})\nHTTP response body: Invalid API Key\n",
          "traceback": [
            "\u001b[0;31m---------------------------------------------------------------------------\u001b[0m",
            "\u001b[0;31mUnauthorizedException\u001b[0m                     Traceback (most recent call last)",
            "\u001b[0;32m/tmp/ipython-input-3921419488.py\u001b[0m in \u001b[0;36m<cell line: 0>\u001b[0;34m()\u001b[0m\n\u001b[1;32m      2\u001b[0m \u001b[0;34m\u001b[0m\u001b[0m\n\u001b[1;32m      3\u001b[0m \u001b[0mindex_name\u001b[0m \u001b[0;34m=\u001b[0m \u001b[0;34m\"quickstart-notebook\"\u001b[0m\u001b[0;34m\u001b[0m\u001b[0;34m\u001b[0m\u001b[0m\n\u001b[0;32m----> 4\u001b[0;31m \u001b[0mdense_index\u001b[0m \u001b[0;34m=\u001b[0m \u001b[0mpc\u001b[0m\u001b[0;34m.\u001b[0m\u001b[0mIndex\u001b[0m\u001b[0;34m(\u001b[0m\u001b[0mname\u001b[0m\u001b[0;34m=\u001b[0m\u001b[0mindex_name\u001b[0m\u001b[0;34m)\u001b[0m\u001b[0;34m\u001b[0m\u001b[0;34m\u001b[0m\u001b[0m\n\u001b[0m\u001b[1;32m      5\u001b[0m \u001b[0;34m\u001b[0m\u001b[0m\n\u001b[1;32m      6\u001b[0m \u001b[0;31m# Wait for the upserted vectors to be indexed\u001b[0m\u001b[0;34m\u001b[0m\u001b[0;34m\u001b[0m\u001b[0m\n",
            "\u001b[0;32m/usr/local/lib/python3.12/dist-packages/pinecone/pinecone.py\u001b[0m in \u001b[0;36mIndex\u001b[0;34m(self, name, host, **kwargs)\u001b[0m\n\u001b[1;32m    488\u001b[0m         \u001b[0;32melse\u001b[0m\u001b[0;34m:\u001b[0m\u001b[0;34m\u001b[0m\u001b[0;34m\u001b[0m\u001b[0m\n\u001b[1;32m    489\u001b[0m             \u001b[0;31m# Otherwise, get host url from describe_index using the index name\u001b[0m\u001b[0;34m\u001b[0m\u001b[0;34m\u001b[0m\u001b[0m\n\u001b[0;32m--> 490\u001b[0;31m             \u001b[0mindex_host\u001b[0m \u001b[0;34m=\u001b[0m \u001b[0mself\u001b[0m\u001b[0;34m.\u001b[0m\u001b[0mdb\u001b[0m\u001b[0;34m.\u001b[0m\u001b[0mindex\u001b[0m\u001b[0;34m.\u001b[0m\u001b[0m_get_host\u001b[0m\u001b[0;34m(\u001b[0m\u001b[0mname\u001b[0m\u001b[0;34m)\u001b[0m\u001b[0;34m\u001b[0m\u001b[0;34m\u001b[0m\u001b[0m\n\u001b[0m\u001b[1;32m    491\u001b[0m \u001b[0;34m\u001b[0m\u001b[0m\n\u001b[1;32m    492\u001b[0m         return _Index(\n",
            "\u001b[0;32m/usr/local/lib/python3.12/dist-packages/pinecone/db_control/resources/sync/index.py\u001b[0m in \u001b[0;36m_get_host\u001b[0;34m(self, name)\u001b[0m\n\u001b[1;32m    243\u001b[0m     \u001b[0;32mdef\u001b[0m \u001b[0m_get_host\u001b[0m\u001b[0;34m(\u001b[0m\u001b[0mself\u001b[0m\u001b[0;34m,\u001b[0m \u001b[0mname\u001b[0m\u001b[0;34m:\u001b[0m \u001b[0mstr\u001b[0m\u001b[0;34m)\u001b[0m \u001b[0;34m->\u001b[0m \u001b[0mstr\u001b[0m\u001b[0;34m:\u001b[0m\u001b[0;34m\u001b[0m\u001b[0;34m\u001b[0m\u001b[0m\n\u001b[1;32m    244\u001b[0m         \u001b[0;34m\"\"\":meta private:\"\"\"\u001b[0m\u001b[0;34m\u001b[0m\u001b[0;34m\u001b[0m\u001b[0m\n\u001b[0;32m--> 245\u001b[0;31m         return self._index_host_store.get_host(\n\u001b[0m\u001b[1;32m    246\u001b[0m             \u001b[0mapi\u001b[0m\u001b[0;34m=\u001b[0m\u001b[0mself\u001b[0m\u001b[0;34m.\u001b[0m\u001b[0m_index_api\u001b[0m\u001b[0;34m,\u001b[0m \u001b[0mconfig\u001b[0m\u001b[0;34m=\u001b[0m\u001b[0mself\u001b[0m\u001b[0;34m.\u001b[0m\u001b[0mconfig\u001b[0m\u001b[0;34m,\u001b[0m \u001b[0mindex_name\u001b[0m\u001b[0;34m=\u001b[0m\u001b[0mname\u001b[0m\u001b[0;34m\u001b[0m\u001b[0;34m\u001b[0m\u001b[0m\n\u001b[1;32m    247\u001b[0m         )\n",
            "\u001b[0;32m/usr/local/lib/python3.12/dist-packages/pinecone/db_control/index_host_store.py\u001b[0m in \u001b[0;36mget_host\u001b[0;34m(self, api, config, index_name)\u001b[0m\n\u001b[1;32m     45\u001b[0m             \u001b[0;32mreturn\u001b[0m \u001b[0mself\u001b[0m\u001b[0;34m.\u001b[0m\u001b[0m_indexHosts\u001b[0m\u001b[0;34m[\u001b[0m\u001b[0mkey\u001b[0m\u001b[0;34m]\u001b[0m\u001b[0;34m\u001b[0m\u001b[0;34m\u001b[0m\u001b[0m\n\u001b[1;32m     46\u001b[0m         \u001b[0;32melse\u001b[0m\u001b[0;34m:\u001b[0m\u001b[0;34m\u001b[0m\u001b[0;34m\u001b[0m\u001b[0m\n\u001b[0;32m---> 47\u001b[0;31m             \u001b[0mdescription\u001b[0m \u001b[0;34m=\u001b[0m \u001b[0mapi\u001b[0m\u001b[0;34m.\u001b[0m\u001b[0mdescribe_index\u001b[0m\u001b[0;34m(\u001b[0m\u001b[0mindex_name\u001b[0m\u001b[0;34m)\u001b[0m\u001b[0;34m\u001b[0m\u001b[0;34m\u001b[0m\u001b[0m\n\u001b[0m\u001b[1;32m     48\u001b[0m             \u001b[0mself\u001b[0m\u001b[0;34m.\u001b[0m\u001b[0mset_host\u001b[0m\u001b[0;34m(\u001b[0m\u001b[0mconfig\u001b[0m\u001b[0;34m,\u001b[0m \u001b[0mindex_name\u001b[0m\u001b[0;34m,\u001b[0m \u001b[0mdescription\u001b[0m\u001b[0;34m.\u001b[0m\u001b[0mhost\u001b[0m\u001b[0;34m)\u001b[0m\u001b[0;34m\u001b[0m\u001b[0;34m\u001b[0m\u001b[0m\n\u001b[1;32m     49\u001b[0m             \u001b[0;32mif\u001b[0m \u001b[0;32mnot\u001b[0m \u001b[0mself\u001b[0m\u001b[0;34m.\u001b[0m\u001b[0mkey_exists\u001b[0m\u001b[0;34m(\u001b[0m\u001b[0mkey\u001b[0m\u001b[0;34m)\u001b[0m\u001b[0;34m:\u001b[0m\u001b[0;34m\u001b[0m\u001b[0;34m\u001b[0m\u001b[0m\n",
            "\u001b[0;32m/usr/local/lib/python3.12/dist-packages/pinecone/openapi_support/endpoint.py\u001b[0m in \u001b[0;36m__call__\u001b[0;34m(self, *args, **kwargs)\u001b[0m\n\u001b[1;32m    100\u001b[0m \u001b[0;34m\u001b[0m\u001b[0m\n\u001b[1;32m    101\u001b[0m         \"\"\"\n\u001b[0;32m--> 102\u001b[0;31m         \u001b[0;32mreturn\u001b[0m \u001b[0mself\u001b[0m\u001b[0;34m.\u001b[0m\u001b[0mcallable\u001b[0m\u001b[0;34m(\u001b[0m\u001b[0mself\u001b[0m\u001b[0;34m,\u001b[0m \u001b[0;34m*\u001b[0m\u001b[0margs\u001b[0m\u001b[0;34m,\u001b[0m \u001b[0;34m**\u001b[0m\u001b[0mkwargs\u001b[0m\u001b[0;34m)\u001b[0m\u001b[0;34m\u001b[0m\u001b[0;34m\u001b[0m\u001b[0m\n\u001b[0m\u001b[1;32m    103\u001b[0m \u001b[0;34m\u001b[0m\u001b[0m\n\u001b[1;32m    104\u001b[0m     \u001b[0;32mdef\u001b[0m \u001b[0mcall_with_http_info\u001b[0m\u001b[0;34m(\u001b[0m\u001b[0mself\u001b[0m\u001b[0;34m,\u001b[0m \u001b[0;34m**\u001b[0m\u001b[0mkwargs\u001b[0m\u001b[0;34m)\u001b[0m\u001b[0;34m:\u001b[0m\u001b[0;34m\u001b[0m\u001b[0;34m\u001b[0m\u001b[0m\n",
            "\u001b[0;32m/usr/local/lib/python3.12/dist-packages/pinecone/core/openapi/db_control/api/manage_indexes_api.py\u001b[0m in \u001b[0;36m__describe_index\u001b[0;34m(self, index_name, **kwargs)\u001b[0m\n\u001b[1;32m    881\u001b[0m             \u001b[0mkwargs\u001b[0m \u001b[0;34m=\u001b[0m \u001b[0mself\u001b[0m\u001b[0;34m.\u001b[0m\u001b[0m_process_openapi_kwargs\u001b[0m\u001b[0;34m(\u001b[0m\u001b[0mkwargs\u001b[0m\u001b[0;34m)\u001b[0m\u001b[0;34m\u001b[0m\u001b[0;34m\u001b[0m\u001b[0m\n\u001b[1;32m    882\u001b[0m             \u001b[0mkwargs\u001b[0m\u001b[0;34m[\u001b[0m\u001b[0;34m\"index_name\"\u001b[0m\u001b[0;34m]\u001b[0m \u001b[0;34m=\u001b[0m \u001b[0mindex_name\u001b[0m\u001b[0;34m\u001b[0m\u001b[0;34m\u001b[0m\u001b[0m\n\u001b[0;32m--> 883\u001b[0;31m             \u001b[0;32mreturn\u001b[0m \u001b[0mself\u001b[0m\u001b[0;34m.\u001b[0m\u001b[0mcall_with_http_info\u001b[0m\u001b[0;34m(\u001b[0m\u001b[0;34m**\u001b[0m\u001b[0mkwargs\u001b[0m\u001b[0;34m)\u001b[0m\u001b[0;34m\u001b[0m\u001b[0;34m\u001b[0m\u001b[0m\n\u001b[0m\u001b[1;32m    884\u001b[0m \u001b[0;34m\u001b[0m\u001b[0m\n\u001b[1;32m    885\u001b[0m         self.describe_index = _Endpoint(\n",
            "\u001b[0;32m/usr/local/lib/python3.12/dist-packages/pinecone/openapi_support/endpoint.py\u001b[0m in \u001b[0;36mcall_with_http_info\u001b[0;34m(self, **kwargs)\u001b[0m\n\u001b[1;32m    132\u001b[0m         \u001b[0mHeaderUtil\u001b[0m\u001b[0;34m.\u001b[0m\u001b[0mprepare_headers\u001b[0m\u001b[0;34m(\u001b[0m\u001b[0mheaders_map\u001b[0m\u001b[0;34m=\u001b[0m\u001b[0mself\u001b[0m\u001b[0;34m.\u001b[0m\u001b[0mheaders_map\u001b[0m\u001b[0;34m,\u001b[0m \u001b[0mparams\u001b[0m\u001b[0;34m=\u001b[0m\u001b[0mparams\u001b[0m\u001b[0;34m)\u001b[0m\u001b[0;34m\u001b[0m\u001b[0;34m\u001b[0m\u001b[0m\n\u001b[1;32m    133\u001b[0m \u001b[0;34m\u001b[0m\u001b[0m\n\u001b[0;32m--> 134\u001b[0;31m         return self.api_client.call_api(\n\u001b[0m\u001b[1;32m    135\u001b[0m             \u001b[0mself\u001b[0m\u001b[0;34m.\u001b[0m\u001b[0msettings\u001b[0m\u001b[0;34m[\u001b[0m\u001b[0;34m\"endpoint_path\"\u001b[0m\u001b[0;34m]\u001b[0m\u001b[0;34m,\u001b[0m\u001b[0;34m\u001b[0m\u001b[0;34m\u001b[0m\u001b[0m\n\u001b[1;32m    136\u001b[0m             \u001b[0mself\u001b[0m\u001b[0;34m.\u001b[0m\u001b[0msettings\u001b[0m\u001b[0;34m[\u001b[0m\u001b[0;34m\"http_method\"\u001b[0m\u001b[0;34m]\u001b[0m\u001b[0;34m,\u001b[0m\u001b[0;34m\u001b[0m\u001b[0;34m\u001b[0m\u001b[0m\n",
            "\u001b[0;32m/usr/local/lib/python3.12/dist-packages/pinecone/openapi_support/api_client.py\u001b[0m in \u001b[0;36mcall_api\u001b[0;34m(self, resource_path, method, path_params, query_params, header_params, body, post_params, files, response_type, auth_settings, async_req, async_threadpool_executor, _return_http_data_only, collection_formats, _preload_content, _request_timeout, _host, _check_type)\u001b[0m\n\u001b[1;32m    304\u001b[0m \u001b[0;34m\u001b[0m\u001b[0m\n\u001b[1;32m    305\u001b[0m         \u001b[0;32mif\u001b[0m \u001b[0;32mnot\u001b[0m \u001b[0masync_req\u001b[0m\u001b[0;34m:\u001b[0m\u001b[0;34m\u001b[0m\u001b[0;34m\u001b[0m\u001b[0m\n\u001b[0;32m--> 306\u001b[0;31m             return self.__call_api(\n\u001b[0m\u001b[1;32m    307\u001b[0m                 \u001b[0mresource_path\u001b[0m\u001b[0;34m,\u001b[0m\u001b[0;34m\u001b[0m\u001b[0;34m\u001b[0m\u001b[0m\n\u001b[1;32m    308\u001b[0m                 \u001b[0mmethod\u001b[0m\u001b[0;34m,\u001b[0m\u001b[0;34m\u001b[0m\u001b[0;34m\u001b[0m\u001b[0m\n",
            "\u001b[0;32m/usr/local/lib/python3.12/dist-packages/pinecone/openapi_support/api_client.py\u001b[0m in \u001b[0;36m__call_api\u001b[0;34m(self, resource_path, method, path_params, query_params, header_params, body, post_params, files, response_type, auth_settings, _return_http_data_only, collection_formats, _preload_content, _request_timeout, _host, _check_type)\u001b[0m\n\u001b[1;32m    180\u001b[0m         \u001b[0;32mexcept\u001b[0m \u001b[0mPineconeApiException\u001b[0m \u001b[0;32mas\u001b[0m \u001b[0me\u001b[0m\u001b[0;34m:\u001b[0m\u001b[0;34m\u001b[0m\u001b[0;34m\u001b[0m\u001b[0m\n\u001b[1;32m    181\u001b[0m             \u001b[0me\u001b[0m\u001b[0;34m.\u001b[0m\u001b[0mbody\u001b[0m \u001b[0;34m=\u001b[0m \u001b[0me\u001b[0m\u001b[0;34m.\u001b[0m\u001b[0mbody\u001b[0m\u001b[0;34m.\u001b[0m\u001b[0mdecode\u001b[0m\u001b[0;34m(\u001b[0m\u001b[0;34m\"utf-8\"\u001b[0m\u001b[0;34m)\u001b[0m\u001b[0;34m\u001b[0m\u001b[0;34m\u001b[0m\u001b[0m\n\u001b[0;32m--> 182\u001b[0;31m             \u001b[0;32mraise\u001b[0m \u001b[0me\u001b[0m\u001b[0;34m\u001b[0m\u001b[0;34m\u001b[0m\u001b[0m\n\u001b[0m\u001b[1;32m    183\u001b[0m \u001b[0;34m\u001b[0m\u001b[0m\n\u001b[1;32m    184\u001b[0m         \u001b[0mself\u001b[0m\u001b[0;34m.\u001b[0m\u001b[0mlast_response\u001b[0m \u001b[0;34m=\u001b[0m \u001b[0mresponse_data\u001b[0m\u001b[0;34m\u001b[0m\u001b[0;34m\u001b[0m\u001b[0m\n",
            "\u001b[0;32m/usr/local/lib/python3.12/dist-packages/pinecone/openapi_support/api_client.py\u001b[0m in \u001b[0;36m__call_api\u001b[0;34m(self, resource_path, method, path_params, query_params, header_params, body, post_params, files, response_type, auth_settings, _return_http_data_only, collection_formats, _preload_content, _request_timeout, _host, _check_type)\u001b[0m\n\u001b[1;32m    168\u001b[0m         \u001b[0;32mtry\u001b[0m\u001b[0;34m:\u001b[0m\u001b[0;34m\u001b[0m\u001b[0;34m\u001b[0m\u001b[0m\n\u001b[1;32m    169\u001b[0m             \u001b[0;31m# perform request and return response\u001b[0m\u001b[0;34m\u001b[0m\u001b[0;34m\u001b[0m\u001b[0m\n\u001b[0;32m--> 170\u001b[0;31m             response_data = self.request(\n\u001b[0m\u001b[1;32m    171\u001b[0m                 \u001b[0mmethod\u001b[0m\u001b[0;34m,\u001b[0m\u001b[0;34m\u001b[0m\u001b[0;34m\u001b[0m\u001b[0m\n\u001b[1;32m    172\u001b[0m                 \u001b[0murl\u001b[0m\u001b[0;34m,\u001b[0m\u001b[0;34m\u001b[0m\u001b[0;34m\u001b[0m\u001b[0m\n",
            "\u001b[0;32m/usr/local/lib/python3.12/dist-packages/pinecone/openapi_support/api_client.py\u001b[0m in \u001b[0;36mrequest\u001b[0;34m(self, method, url, query_params, headers, post_params, body, _preload_content, _request_timeout)\u001b[0m\n\u001b[1;32m    358\u001b[0m         \u001b[0;34m\"\"\"Makes the HTTP request using RESTClient.\"\"\"\u001b[0m\u001b[0;34m\u001b[0m\u001b[0;34m\u001b[0m\u001b[0m\n\u001b[1;32m    359\u001b[0m         \u001b[0;32mif\u001b[0m \u001b[0mmethod\u001b[0m \u001b[0;34m==\u001b[0m \u001b[0;34m\"GET\"\u001b[0m\u001b[0;34m:\u001b[0m\u001b[0;34m\u001b[0m\u001b[0;34m\u001b[0m\u001b[0m\n\u001b[0;32m--> 360\u001b[0;31m             return self.rest_client.GET(\n\u001b[0m\u001b[1;32m    361\u001b[0m                 \u001b[0murl\u001b[0m\u001b[0;34m,\u001b[0m\u001b[0;34m\u001b[0m\u001b[0;34m\u001b[0m\u001b[0m\n\u001b[1;32m    362\u001b[0m                 \u001b[0mquery_params\u001b[0m\u001b[0;34m=\u001b[0m\u001b[0mquery_params\u001b[0m\u001b[0;34m,\u001b[0m\u001b[0;34m\u001b[0m\u001b[0;34m\u001b[0m\u001b[0m\n",
            "\u001b[0;32m/usr/local/lib/python3.12/dist-packages/pinecone/openapi_support/rest_utils.py\u001b[0m in \u001b[0;36mGET\u001b[0;34m(self, url, headers, query_params, _preload_content, _request_timeout)\u001b[0m\n\u001b[1;32m     73\u001b[0m         \u001b[0mself\u001b[0m\u001b[0;34m,\u001b[0m \u001b[0murl\u001b[0m\u001b[0;34m,\u001b[0m \u001b[0mheaders\u001b[0m\u001b[0;34m=\u001b[0m\u001b[0;32mNone\u001b[0m\u001b[0;34m,\u001b[0m \u001b[0mquery_params\u001b[0m\u001b[0;34m=\u001b[0m\u001b[0;32mNone\u001b[0m\u001b[0;34m,\u001b[0m \u001b[0m_preload_content\u001b[0m\u001b[0;34m=\u001b[0m\u001b[0;32mTrue\u001b[0m\u001b[0;34m,\u001b[0m \u001b[0m_request_timeout\u001b[0m\u001b[0;34m=\u001b[0m\u001b[0;32mNone\u001b[0m\u001b[0;34m\u001b[0m\u001b[0;34m\u001b[0m\u001b[0m\n\u001b[1;32m     74\u001b[0m     ):\n\u001b[0;32m---> 75\u001b[0;31m         return self.request(\n\u001b[0m\u001b[1;32m     76\u001b[0m             \u001b[0;34m\"GET\"\u001b[0m\u001b[0;34m,\u001b[0m\u001b[0;34m\u001b[0m\u001b[0;34m\u001b[0m\u001b[0m\n\u001b[1;32m     77\u001b[0m             \u001b[0murl\u001b[0m\u001b[0;34m,\u001b[0m\u001b[0;34m\u001b[0m\u001b[0;34m\u001b[0m\u001b[0m\n",
            "\u001b[0;32m/usr/local/lib/python3.12/dist-packages/pinecone/openapi_support/rest_urllib3.py\u001b[0m in \u001b[0;36mrequest\u001b[0;34m(self, method, url, query_params, headers, body, post_params, _preload_content, _request_timeout)\u001b[0m\n\u001b[1;32m    265\u001b[0m             \u001b[0mlogger\u001b[0m\u001b[0;34m.\u001b[0m\u001b[0mdebug\u001b[0m\u001b[0;34m(\u001b[0m\u001b[0;34m\"response body: %s\"\u001b[0m\u001b[0;34m,\u001b[0m \u001b[0mr\u001b[0m\u001b[0;34m.\u001b[0m\u001b[0mdata\u001b[0m\u001b[0;34m)\u001b[0m\u001b[0;34m\u001b[0m\u001b[0;34m\u001b[0m\u001b[0m\n\u001b[1;32m    266\u001b[0m \u001b[0;34m\u001b[0m\u001b[0m\n\u001b[0;32m--> 267\u001b[0;31m         \u001b[0;32mreturn\u001b[0m \u001b[0mraise_exceptions_or_return\u001b[0m\u001b[0;34m(\u001b[0m\u001b[0mr\u001b[0m\u001b[0;34m)\u001b[0m\u001b[0;34m\u001b[0m\u001b[0;34m\u001b[0m\u001b[0m\n\u001b[0m",
            "\u001b[0;32m/usr/local/lib/python3.12/dist-packages/pinecone/openapi_support/rest_utils.py\u001b[0m in \u001b[0;36mraise_exceptions_or_return\u001b[0;34m(r)\u001b[0m\n\u001b[1;32m     36\u001b[0m     \u001b[0;32mif\u001b[0m \u001b[0;32mnot\u001b[0m \u001b[0;36m200\u001b[0m \u001b[0;34m<=\u001b[0m \u001b[0mr\u001b[0m\u001b[0;34m.\u001b[0m\u001b[0mstatus\u001b[0m \u001b[0;34m<=\u001b[0m \u001b[0;36m299\u001b[0m\u001b[0;34m:\u001b[0m\u001b[0;34m\u001b[0m\u001b[0;34m\u001b[0m\u001b[0m\n\u001b[1;32m     37\u001b[0m         \u001b[0;32mif\u001b[0m \u001b[0mr\u001b[0m\u001b[0;34m.\u001b[0m\u001b[0mstatus\u001b[0m \u001b[0;34m==\u001b[0m \u001b[0;36m401\u001b[0m\u001b[0;34m:\u001b[0m\u001b[0;34m\u001b[0m\u001b[0;34m\u001b[0m\u001b[0m\n\u001b[0;32m---> 38\u001b[0;31m             \u001b[0;32mraise\u001b[0m \u001b[0mUnauthorizedException\u001b[0m\u001b[0;34m(\u001b[0m\u001b[0mhttp_resp\u001b[0m\u001b[0;34m=\u001b[0m\u001b[0mr\u001b[0m\u001b[0;34m)\u001b[0m\u001b[0;34m\u001b[0m\u001b[0;34m\u001b[0m\u001b[0m\n\u001b[0m\u001b[1;32m     39\u001b[0m \u001b[0;34m\u001b[0m\u001b[0m\n\u001b[1;32m     40\u001b[0m         \u001b[0;32mif\u001b[0m \u001b[0mr\u001b[0m\u001b[0;34m.\u001b[0m\u001b[0mstatus\u001b[0m \u001b[0;34m==\u001b[0m \u001b[0;36m403\u001b[0m\u001b[0;34m:\u001b[0m\u001b[0;34m\u001b[0m\u001b[0;34m\u001b[0m\u001b[0m\n",
            "\u001b[0;31mUnauthorizedException\u001b[0m: (401)\nReason: Unauthorized\nHTTP response headers: HTTPHeaderDict({'x-pinecone-api-version': '2025-04', 'x-cloud-trace-context': 'ff473f0ce9ce1aa0acf276b2bb5b8e5e', 'date': 'Thu, 16 Oct 2025 22:18:11 GMT', 'content-type': 'text/html', 'server': 'Google Frontend', 'Content-Length': '15', 'Via': '1.1 google', 'Alt-Svc': 'h3=\":443\"; ma=2592000,h3-29=\":443\"; ma=2592000'})\nHTTP response body: Invalid API Key\n"
          ]
        }
      ]
    },
    {
      "cell_type": "markdown",
      "metadata": {
        "id": "0c368333"
      },
      "source": [
        "## Verify upsert retry 2\n",
        "\n",
        "### Subtask:\n",
        "Retry checking the index statistics to confirm that the data has been successfully upserted, addressing the previous API key issue.\n"
      ]
    },
    {
      "cell_type": "markdown",
      "metadata": {
        "id": "62f9f41b"
      },
      "source": [
        "**Reasoning**:\n",
        "Retry checking the index statistics to confirm that the data has been successfully upserted, addressing the previous API key issue.\n",
        "\n"
      ]
    },
    {
      "cell_type": "code",
      "metadata": {
        "colab": {
          "base_uri": "https://localhost:8080/",
          "height": 443
        },
        "id": "be042388",
        "outputId": "95a72f19-b17d-4273-b46c-b4db93f0fbc3"
      },
      "source": [
        "import time\n",
        "\n",
        "index_name = \"quickstart-notebook\"\n",
        "dense_index = pc.Index(name=index_name)\n",
        "\n",
        "# Wait for the upserted vectors to be indexed\n",
        "time.sleep(10)\n",
        "\n",
        "# View stats for the index\n",
        "stats = dense_index.describe_index_stats()\n",
        "print(stats)"
      ],
      "execution_count": 21,
      "outputs": [
        {
          "output_type": "error",
          "ename": "UnauthorizedException",
          "evalue": "(401)\nReason: Unauthorized\nHTTP response headers: HTTPHeaderDict({'x-pinecone-api-version': '2025-04', 'x-cloud-trace-context': 'f03c6db4fa9bb67eabea9c6949d7cd42', 'date': 'Thu, 16 Oct 2025 22:18:24 GMT', 'content-type': 'text/html', 'server': 'Google Frontend', 'Content-Length': '15', 'Via': '1.1 google', 'Alt-Svc': 'h3=\":443\"; ma=2592000,h3-29=\":443\"; ma=2592000'})\nHTTP response body: Invalid API Key\n",
          "traceback": [
            "\u001b[0;31m---------------------------------------------------------------------------\u001b[0m",
            "\u001b[0;31mUnauthorizedException\u001b[0m                     Traceback (most recent call last)",
            "\u001b[0;32m/tmp/ipython-input-3921419488.py\u001b[0m in \u001b[0;36m<cell line: 0>\u001b[0;34m()\u001b[0m\n\u001b[1;32m      2\u001b[0m \u001b[0;34m\u001b[0m\u001b[0m\n\u001b[1;32m      3\u001b[0m \u001b[0mindex_name\u001b[0m \u001b[0;34m=\u001b[0m \u001b[0;34m\"quickstart-notebook\"\u001b[0m\u001b[0;34m\u001b[0m\u001b[0;34m\u001b[0m\u001b[0m\n\u001b[0;32m----> 4\u001b[0;31m \u001b[0mdense_index\u001b[0m \u001b[0;34m=\u001b[0m \u001b[0mpc\u001b[0m\u001b[0;34m.\u001b[0m\u001b[0mIndex\u001b[0m\u001b[0;34m(\u001b[0m\u001b[0mname\u001b[0m\u001b[0;34m=\u001b[0m\u001b[0mindex_name\u001b[0m\u001b[0;34m)\u001b[0m\u001b[0;34m\u001b[0m\u001b[0;34m\u001b[0m\u001b[0m\n\u001b[0m\u001b[1;32m      5\u001b[0m \u001b[0;34m\u001b[0m\u001b[0m\n\u001b[1;32m      6\u001b[0m \u001b[0;31m# Wait for the upserted vectors to be indexed\u001b[0m\u001b[0;34m\u001b[0m\u001b[0;34m\u001b[0m\u001b[0m\n",
            "\u001b[0;32m/usr/local/lib/python3.12/dist-packages/pinecone/pinecone.py\u001b[0m in \u001b[0;36mIndex\u001b[0;34m(self, name, host, **kwargs)\u001b[0m\n\u001b[1;32m    488\u001b[0m         \u001b[0;32melse\u001b[0m\u001b[0;34m:\u001b[0m\u001b[0;34m\u001b[0m\u001b[0;34m\u001b[0m\u001b[0m\n\u001b[1;32m    489\u001b[0m             \u001b[0;31m# Otherwise, get host url from describe_index using the index name\u001b[0m\u001b[0;34m\u001b[0m\u001b[0;34m\u001b[0m\u001b[0m\n\u001b[0;32m--> 490\u001b[0;31m             \u001b[0mindex_host\u001b[0m \u001b[0;34m=\u001b[0m \u001b[0mself\u001b[0m\u001b[0;34m.\u001b[0m\u001b[0mdb\u001b[0m\u001b[0;34m.\u001b[0m\u001b[0mindex\u001b[0m\u001b[0;34m.\u001b[0m\u001b[0m_get_host\u001b[0m\u001b[0;34m(\u001b[0m\u001b[0mname\u001b[0m\u001b[0;34m)\u001b[0m\u001b[0;34m\u001b[0m\u001b[0;34m\u001b[0m\u001b[0m\n\u001b[0m\u001b[1;32m    491\u001b[0m \u001b[0;34m\u001b[0m\u001b[0m\n\u001b[1;32m    492\u001b[0m         return _Index(\n",
            "\u001b[0;32m/usr/local/lib/python3.12/dist-packages/pinecone/db_control/resources/sync/index.py\u001b[0m in \u001b[0;36m_get_host\u001b[0;34m(self, name)\u001b[0m\n\u001b[1;32m    243\u001b[0m     \u001b[0;32mdef\u001b[0m \u001b[0m_get_host\u001b[0m\u001b[0;34m(\u001b[0m\u001b[0mself\u001b[0m\u001b[0;34m,\u001b[0m \u001b[0mname\u001b[0m\u001b[0;34m:\u001b[0m \u001b[0mstr\u001b[0m\u001b[0;34m)\u001b[0m \u001b[0;34m->\u001b[0m \u001b[0mstr\u001b[0m\u001b[0;34m:\u001b[0m\u001b[0;34m\u001b[0m\u001b[0;34m\u001b[0m\u001b[0m\n\u001b[1;32m    244\u001b[0m         \u001b[0;34m\"\"\":meta private:\"\"\"\u001b[0m\u001b[0;34m\u001b[0m\u001b[0;34m\u001b[0m\u001b[0m\n\u001b[0;32m--> 245\u001b[0;31m         return self._index_host_store.get_host(\n\u001b[0m\u001b[1;32m    246\u001b[0m             \u001b[0mapi\u001b[0m\u001b[0;34m=\u001b[0m\u001b[0mself\u001b[0m\u001b[0;34m.\u001b[0m\u001b[0m_index_api\u001b[0m\u001b[0;34m,\u001b[0m \u001b[0mconfig\u001b[0m\u001b[0;34m=\u001b[0m\u001b[0mself\u001b[0m\u001b[0;34m.\u001b[0m\u001b[0mconfig\u001b[0m\u001b[0;34m,\u001b[0m \u001b[0mindex_name\u001b[0m\u001b[0;34m=\u001b[0m\u001b[0mname\u001b[0m\u001b[0;34m\u001b[0m\u001b[0;34m\u001b[0m\u001b[0m\n\u001b[1;32m    247\u001b[0m         )\n",
            "\u001b[0;32m/usr/local/lib/python3.12/dist-packages/pinecone/db_control/index_host_store.py\u001b[0m in \u001b[0;36mget_host\u001b[0;34m(self, api, config, index_name)\u001b[0m\n\u001b[1;32m     45\u001b[0m             \u001b[0;32mreturn\u001b[0m \u001b[0mself\u001b[0m\u001b[0;34m.\u001b[0m\u001b[0m_indexHosts\u001b[0m\u001b[0;34m[\u001b[0m\u001b[0mkey\u001b[0m\u001b[0;34m]\u001b[0m\u001b[0;34m\u001b[0m\u001b[0;34m\u001b[0m\u001b[0m\n\u001b[1;32m     46\u001b[0m         \u001b[0;32melse\u001b[0m\u001b[0;34m:\u001b[0m\u001b[0;34m\u001b[0m\u001b[0;34m\u001b[0m\u001b[0m\n\u001b[0;32m---> 47\u001b[0;31m             \u001b[0mdescription\u001b[0m \u001b[0;34m=\u001b[0m \u001b[0mapi\u001b[0m\u001b[0;34m.\u001b[0m\u001b[0mdescribe_index\u001b[0m\u001b[0;34m(\u001b[0m\u001b[0mindex_name\u001b[0m\u001b[0;34m)\u001b[0m\u001b[0;34m\u001b[0m\u001b[0;34m\u001b[0m\u001b[0m\n\u001b[0m\u001b[1;32m     48\u001b[0m             \u001b[0mself\u001b[0m\u001b[0;34m.\u001b[0m\u001b[0mset_host\u001b[0m\u001b[0;34m(\u001b[0m\u001b[0mconfig\u001b[0m\u001b[0;34m,\u001b[0m \u001b[0mindex_name\u001b[0m\u001b[0;34m,\u001b[0m \u001b[0mdescription\u001b[0m\u001b[0;34m.\u001b[0m\u001b[0mhost\u001b[0m\u001b[0;34m)\u001b[0m\u001b[0;34m\u001b[0m\u001b[0;34m\u001b[0m\u001b[0m\n\u001b[1;32m     49\u001b[0m             \u001b[0;32mif\u001b[0m \u001b[0;32mnot\u001b[0m \u001b[0mself\u001b[0m\u001b[0;34m.\u001b[0m\u001b[0mkey_exists\u001b[0m\u001b[0;34m(\u001b[0m\u001b[0mkey\u001b[0m\u001b[0;34m)\u001b[0m\u001b[0;34m:\u001b[0m\u001b[0;34m\u001b[0m\u001b[0;34m\u001b[0m\u001b[0m\n",
            "\u001b[0;32m/usr/local/lib/python3.12/dist-packages/pinecone/openapi_support/endpoint.py\u001b[0m in \u001b[0;36m__call__\u001b[0;34m(self, *args, **kwargs)\u001b[0m\n\u001b[1;32m    100\u001b[0m \u001b[0;34m\u001b[0m\u001b[0m\n\u001b[1;32m    101\u001b[0m         \"\"\"\n\u001b[0;32m--> 102\u001b[0;31m         \u001b[0;32mreturn\u001b[0m \u001b[0mself\u001b[0m\u001b[0;34m.\u001b[0m\u001b[0mcallable\u001b[0m\u001b[0;34m(\u001b[0m\u001b[0mself\u001b[0m\u001b[0;34m,\u001b[0m \u001b[0;34m*\u001b[0m\u001b[0margs\u001b[0m\u001b[0;34m,\u001b[0m \u001b[0;34m**\u001b[0m\u001b[0mkwargs\u001b[0m\u001b[0;34m)\u001b[0m\u001b[0;34m\u001b[0m\u001b[0;34m\u001b[0m\u001b[0m\n\u001b[0m\u001b[1;32m    103\u001b[0m \u001b[0;34m\u001b[0m\u001b[0m\n\u001b[1;32m    104\u001b[0m     \u001b[0;32mdef\u001b[0m \u001b[0mcall_with_http_info\u001b[0m\u001b[0;34m(\u001b[0m\u001b[0mself\u001b[0m\u001b[0;34m,\u001b[0m \u001b[0;34m**\u001b[0m\u001b[0mkwargs\u001b[0m\u001b[0;34m)\u001b[0m\u001b[0;34m:\u001b[0m\u001b[0;34m\u001b[0m\u001b[0;34m\u001b[0m\u001b[0m\n",
            "\u001b[0;32m/usr/local/lib/python3.12/dist-packages/pinecone/core/openapi/db_control/api/manage_indexes_api.py\u001b[0m in \u001b[0;36m__describe_index\u001b[0;34m(self, index_name, **kwargs)\u001b[0m\n\u001b[1;32m    881\u001b[0m             \u001b[0mkwargs\u001b[0m \u001b[0;34m=\u001b[0m \u001b[0mself\u001b[0m\u001b[0;34m.\u001b[0m\u001b[0m_process_openapi_kwargs\u001b[0m\u001b[0;34m(\u001b[0m\u001b[0mkwargs\u001b[0m\u001b[0;34m)\u001b[0m\u001b[0;34m\u001b[0m\u001b[0;34m\u001b[0m\u001b[0m\n\u001b[1;32m    882\u001b[0m             \u001b[0mkwargs\u001b[0m\u001b[0;34m[\u001b[0m\u001b[0;34m\"index_name\"\u001b[0m\u001b[0;34m]\u001b[0m \u001b[0;34m=\u001b[0m \u001b[0mindex_name\u001b[0m\u001b[0;34m\u001b[0m\u001b[0;34m\u001b[0m\u001b[0m\n\u001b[0;32m--> 883\u001b[0;31m             \u001b[0;32mreturn\u001b[0m \u001b[0mself\u001b[0m\u001b[0;34m.\u001b[0m\u001b[0mcall_with_http_info\u001b[0m\u001b[0;34m(\u001b[0m\u001b[0;34m**\u001b[0m\u001b[0mkwargs\u001b[0m\u001b[0;34m)\u001b[0m\u001b[0;34m\u001b[0m\u001b[0;34m\u001b[0m\u001b[0m\n\u001b[0m\u001b[1;32m    884\u001b[0m \u001b[0;34m\u001b[0m\u001b[0m\n\u001b[1;32m    885\u001b[0m         self.describe_index = _Endpoint(\n",
            "\u001b[0;32m/usr/local/lib/python3.12/dist-packages/pinecone/openapi_support/endpoint.py\u001b[0m in \u001b[0;36mcall_with_http_info\u001b[0;34m(self, **kwargs)\u001b[0m\n\u001b[1;32m    132\u001b[0m         \u001b[0mHeaderUtil\u001b[0m\u001b[0;34m.\u001b[0m\u001b[0mprepare_headers\u001b[0m\u001b[0;34m(\u001b[0m\u001b[0mheaders_map\u001b[0m\u001b[0;34m=\u001b[0m\u001b[0mself\u001b[0m\u001b[0;34m.\u001b[0m\u001b[0mheaders_map\u001b[0m\u001b[0;34m,\u001b[0m \u001b[0mparams\u001b[0m\u001b[0;34m=\u001b[0m\u001b[0mparams\u001b[0m\u001b[0;34m)\u001b[0m\u001b[0;34m\u001b[0m\u001b[0;34m\u001b[0m\u001b[0m\n\u001b[1;32m    133\u001b[0m \u001b[0;34m\u001b[0m\u001b[0m\n\u001b[0;32m--> 134\u001b[0;31m         return self.api_client.call_api(\n\u001b[0m\u001b[1;32m    135\u001b[0m             \u001b[0mself\u001b[0m\u001b[0;34m.\u001b[0m\u001b[0msettings\u001b[0m\u001b[0;34m[\u001b[0m\u001b[0;34m\"endpoint_path\"\u001b[0m\u001b[0;34m]\u001b[0m\u001b[0;34m,\u001b[0m\u001b[0;34m\u001b[0m\u001b[0;34m\u001b[0m\u001b[0m\n\u001b[1;32m    136\u001b[0m             \u001b[0mself\u001b[0m\u001b[0;34m.\u001b[0m\u001b[0msettings\u001b[0m\u001b[0;34m[\u001b[0m\u001b[0;34m\"http_method\"\u001b[0m\u001b[0;34m]\u001b[0m\u001b[0;34m,\u001b[0m\u001b[0;34m\u001b[0m\u001b[0;34m\u001b[0m\u001b[0m\n",
            "\u001b[0;32m/usr/local/lib/python3.12/dist-packages/pinecone/openapi_support/api_client.py\u001b[0m in \u001b[0;36mcall_api\u001b[0;34m(self, resource_path, method, path_params, query_params, header_params, body, post_params, files, response_type, auth_settings, async_req, async_threadpool_executor, _return_http_data_only, collection_formats, _preload_content, _request_timeout, _host, _check_type)\u001b[0m\n\u001b[1;32m    304\u001b[0m \u001b[0;34m\u001b[0m\u001b[0m\n\u001b[1;32m    305\u001b[0m         \u001b[0;32mif\u001b[0m \u001b[0;32mnot\u001b[0m \u001b[0masync_req\u001b[0m\u001b[0;34m:\u001b[0m\u001b[0;34m\u001b[0m\u001b[0;34m\u001b[0m\u001b[0m\n\u001b[0;32m--> 306\u001b[0;31m             return self.__call_api(\n\u001b[0m\u001b[1;32m    307\u001b[0m                 \u001b[0mresource_path\u001b[0m\u001b[0;34m,\u001b[0m\u001b[0;34m\u001b[0m\u001b[0;34m\u001b[0m\u001b[0m\n\u001b[1;32m    308\u001b[0m                 \u001b[0mmethod\u001b[0m\u001b[0;34m,\u001b[0m\u001b[0;34m\u001b[0m\u001b[0;34m\u001b[0m\u001b[0m\n",
            "\u001b[0;32m/usr/local/lib/python3.12/dist-packages/pinecone/openapi_support/api_client.py\u001b[0m in \u001b[0;36m__call_api\u001b[0;34m(self, resource_path, method, path_params, query_params, header_params, body, post_params, files, response_type, auth_settings, _return_http_data_only, collection_formats, _preload_content, _request_timeout, _host, _check_type)\u001b[0m\n\u001b[1;32m    180\u001b[0m         \u001b[0;32mexcept\u001b[0m \u001b[0mPineconeApiException\u001b[0m \u001b[0;32mas\u001b[0m \u001b[0me\u001b[0m\u001b[0;34m:\u001b[0m\u001b[0;34m\u001b[0m\u001b[0;34m\u001b[0m\u001b[0m\n\u001b[1;32m    181\u001b[0m             \u001b[0me\u001b[0m\u001b[0;34m.\u001b[0m\u001b[0mbody\u001b[0m \u001b[0;34m=\u001b[0m \u001b[0me\u001b[0m\u001b[0;34m.\u001b[0m\u001b[0mbody\u001b[0m\u001b[0;34m.\u001b[0m\u001b[0mdecode\u001b[0m\u001b[0;34m(\u001b[0m\u001b[0;34m\"utf-8\"\u001b[0m\u001b[0;34m)\u001b[0m\u001b[0;34m\u001b[0m\u001b[0;34m\u001b[0m\u001b[0m\n\u001b[0;32m--> 182\u001b[0;31m             \u001b[0;32mraise\u001b[0m \u001b[0me\u001b[0m\u001b[0;34m\u001b[0m\u001b[0;34m\u001b[0m\u001b[0m\n\u001b[0m\u001b[1;32m    183\u001b[0m \u001b[0;34m\u001b[0m\u001b[0m\n\u001b[1;32m    184\u001b[0m         \u001b[0mself\u001b[0m\u001b[0;34m.\u001b[0m\u001b[0mlast_response\u001b[0m \u001b[0;34m=\u001b[0m \u001b[0mresponse_data\u001b[0m\u001b[0;34m\u001b[0m\u001b[0;34m\u001b[0m\u001b[0m\n",
            "\u001b[0;32m/usr/local/lib/python3.12/dist-packages/pinecone/openapi_support/api_client.py\u001b[0m in \u001b[0;36m__call_api\u001b[0;34m(self, resource_path, method, path_params, query_params, header_params, body, post_params, files, response_type, auth_settings, _return_http_data_only, collection_formats, _preload_content, _request_timeout, _host, _check_type)\u001b[0m\n\u001b[1;32m    168\u001b[0m         \u001b[0;32mtry\u001b[0m\u001b[0;34m:\u001b[0m\u001b[0;34m\u001b[0m\u001b[0;34m\u001b[0m\u001b[0m\n\u001b[1;32m    169\u001b[0m             \u001b[0;31m# perform request and return response\u001b[0m\u001b[0;34m\u001b[0m\u001b[0;34m\u001b[0m\u001b[0m\n\u001b[0;32m--> 170\u001b[0;31m             response_data = self.request(\n\u001b[0m\u001b[1;32m    171\u001b[0m                 \u001b[0mmethod\u001b[0m\u001b[0;34m,\u001b[0m\u001b[0;34m\u001b[0m\u001b[0;34m\u001b[0m\u001b[0m\n\u001b[1;32m    172\u001b[0m                 \u001b[0murl\u001b[0m\u001b[0;34m,\u001b[0m\u001b[0;34m\u001b[0m\u001b[0;34m\u001b[0m\u001b[0m\n",
            "\u001b[0;32m/usr/local/lib/python3.12/dist-packages/pinecone/openapi_support/api_client.py\u001b[0m in \u001b[0;36mrequest\u001b[0;34m(self, method, url, query_params, headers, post_params, body, _preload_content, _request_timeout)\u001b[0m\n\u001b[1;32m    358\u001b[0m         \u001b[0;34m\"\"\"Makes the HTTP request using RESTClient.\"\"\"\u001b[0m\u001b[0;34m\u001b[0m\u001b[0;34m\u001b[0m\u001b[0m\n\u001b[1;32m    359\u001b[0m         \u001b[0;32mif\u001b[0m \u001b[0mmethod\u001b[0m \u001b[0;34m==\u001b[0m \u001b[0;34m\"GET\"\u001b[0m\u001b[0;34m:\u001b[0m\u001b[0;34m\u001b[0m\u001b[0;34m\u001b[0m\u001b[0m\n\u001b[0;32m--> 360\u001b[0;31m             return self.rest_client.GET(\n\u001b[0m\u001b[1;32m    361\u001b[0m                 \u001b[0murl\u001b[0m\u001b[0;34m,\u001b[0m\u001b[0;34m\u001b[0m\u001b[0;34m\u001b[0m\u001b[0m\n\u001b[1;32m    362\u001b[0m                 \u001b[0mquery_params\u001b[0m\u001b[0;34m=\u001b[0m\u001b[0mquery_params\u001b[0m\u001b[0;34m,\u001b[0m\u001b[0;34m\u001b[0m\u001b[0;34m\u001b[0m\u001b[0m\n",
            "\u001b[0;32m/usr/local/lib/python3.12/dist-packages/pinecone/openapi_support/rest_utils.py\u001b[0m in \u001b[0;36mGET\u001b[0;34m(self, url, headers, query_params, _preload_content, _request_timeout)\u001b[0m\n\u001b[1;32m     73\u001b[0m         \u001b[0mself\u001b[0m\u001b[0;34m,\u001b[0m \u001b[0murl\u001b[0m\u001b[0;34m,\u001b[0m \u001b[0mheaders\u001b[0m\u001b[0;34m=\u001b[0m\u001b[0;32mNone\u001b[0m\u001b[0;34m,\u001b[0m \u001b[0mquery_params\u001b[0m\u001b[0;34m=\u001b[0m\u001b[0;32mNone\u001b[0m\u001b[0;34m,\u001b[0m \u001b[0m_preload_content\u001b[0m\u001b[0;34m=\u001b[0m\u001b[0;32mTrue\u001b[0m\u001b[0;34m,\u001b[0m \u001b[0m_request_timeout\u001b[0m\u001b[0;34m=\u001b[0m\u001b[0;32mNone\u001b[0m\u001b[0;34m\u001b[0m\u001b[0;34m\u001b[0m\u001b[0m\n\u001b[1;32m     74\u001b[0m     ):\n\u001b[0;32m---> 75\u001b[0;31m         return self.request(\n\u001b[0m\u001b[1;32m     76\u001b[0m             \u001b[0;34m\"GET\"\u001b[0m\u001b[0;34m,\u001b[0m\u001b[0;34m\u001b[0m\u001b[0;34m\u001b[0m\u001b[0m\n\u001b[1;32m     77\u001b[0m             \u001b[0murl\u001b[0m\u001b[0;34m,\u001b[0m\u001b[0;34m\u001b[0m\u001b[0;34m\u001b[0m\u001b[0m\n",
            "\u001b[0;32m/usr/local/lib/python3.12/dist-packages/pinecone/openapi_support/rest_urllib3.py\u001b[0m in \u001b[0;36mrequest\u001b[0;34m(self, method, url, query_params, headers, body, post_params, _preload_content, _request_timeout)\u001b[0m\n\u001b[1;32m    265\u001b[0m             \u001b[0mlogger\u001b[0m\u001b[0;34m.\u001b[0m\u001b[0mdebug\u001b[0m\u001b[0;34m(\u001b[0m\u001b[0;34m\"response body: %s\"\u001b[0m\u001b[0;34m,\u001b[0m \u001b[0mr\u001b[0m\u001b[0;34m.\u001b[0m\u001b[0mdata\u001b[0m\u001b[0;34m)\u001b[0m\u001b[0;34m\u001b[0m\u001b[0;34m\u001b[0m\u001b[0m\n\u001b[1;32m    266\u001b[0m \u001b[0;34m\u001b[0m\u001b[0m\n\u001b[0;32m--> 267\u001b[0;31m         \u001b[0;32mreturn\u001b[0m \u001b[0mraise_exceptions_or_return\u001b[0m\u001b[0;34m(\u001b[0m\u001b[0mr\u001b[0m\u001b[0;34m)\u001b[0m\u001b[0;34m\u001b[0m\u001b[0;34m\u001b[0m\u001b[0m\n\u001b[0m",
            "\u001b[0;32m/usr/local/lib/python3.12/dist-packages/pinecone/openapi_support/rest_utils.py\u001b[0m in \u001b[0;36mraise_exceptions_or_return\u001b[0;34m(r)\u001b[0m\n\u001b[1;32m     36\u001b[0m     \u001b[0;32mif\u001b[0m \u001b[0;32mnot\u001b[0m \u001b[0;36m200\u001b[0m \u001b[0;34m<=\u001b[0m \u001b[0mr\u001b[0m\u001b[0;34m.\u001b[0m\u001b[0mstatus\u001b[0m \u001b[0;34m<=\u001b[0m \u001b[0;36m299\u001b[0m\u001b[0;34m:\u001b[0m\u001b[0;34m\u001b[0m\u001b[0;34m\u001b[0m\u001b[0m\n\u001b[1;32m     37\u001b[0m         \u001b[0;32mif\u001b[0m \u001b[0mr\u001b[0m\u001b[0;34m.\u001b[0m\u001b[0mstatus\u001b[0m \u001b[0;34m==\u001b[0m \u001b[0;36m401\u001b[0m\u001b[0;34m:\u001b[0m\u001b[0;34m\u001b[0m\u001b[0;34m\u001b[0m\u001b[0m\n\u001b[0;32m---> 38\u001b[0;31m             \u001b[0;32mraise\u001b[0m \u001b[0mUnauthorizedException\u001b[0m\u001b[0;34m(\u001b[0m\u001b[0mhttp_resp\u001b[0m\u001b[0;34m=\u001b[0m\u001b[0mr\u001b[0m\u001b[0;34m)\u001b[0m\u001b[0;34m\u001b[0m\u001b[0;34m\u001b[0m\u001b[0m\n\u001b[0m\u001b[1;32m     39\u001b[0m \u001b[0;34m\u001b[0m\u001b[0m\n\u001b[1;32m     40\u001b[0m         \u001b[0;32mif\u001b[0m \u001b[0mr\u001b[0m\u001b[0;34m.\u001b[0m\u001b[0mstatus\u001b[0m \u001b[0;34m==\u001b[0m \u001b[0;36m403\u001b[0m\u001b[0;34m:\u001b[0m\u001b[0;34m\u001b[0m\u001b[0;34m\u001b[0m\u001b[0m\n",
            "\u001b[0;31mUnauthorizedException\u001b[0m: (401)\nReason: Unauthorized\nHTTP response headers: HTTPHeaderDict({'x-pinecone-api-version': '2025-04', 'x-cloud-trace-context': 'f03c6db4fa9bb67eabea9c6949d7cd42', 'date': 'Thu, 16 Oct 2025 22:18:24 GMT', 'content-type': 'text/html', 'server': 'Google Frontend', 'Content-Length': '15', 'Via': '1.1 google', 'Alt-Svc': 'h3=\":443\"; ma=2592000,h3-29=\":443\"; ma=2592000'})\nHTTP response body: Invalid API Key\n"
          ]
        }
      ]
    },
    {
      "cell_type": "markdown",
      "metadata": {
        "id": "9691f47a"
      },
      "source": [
        "## Summary:\n",
        "\n",
        "### Data Analysis Key Findings\n",
        "\n",
        "*   Data from \"Abilities.xlsx\" and \"Skills.xlsx\" were successfully loaded into pandas DataFrames.\n",
        "*   The data from the two DataFrames were successfully combined into a single DataFrame `df_combined` using `pd.concat()`.\n",
        "*   The combined data was transformed into a list of dictionaries, `records_for_upsert`, formatted for Pinecone upsert, with a unique `_id` for each record.\n",
        "*   Multiple attempts to upsert the prepared data into the Pinecone index and verify the upsert via index statistics failed consistently with an `UnauthorizedException` due to an invalid Pinecone API key.\n",
        "\n",
        "### Insights or Next Steps\n",
        "\n",
        "*   The primary blocker for completing the task is the invalid Pinecone API key. The next step should focus on obtaining and correctly configuring a valid API key for Pinecone access.\n",
        "*   Once a valid API key is configured, retry the upsert and verification steps to confirm that the data is successfully indexed in Pinecone.\n"
      ]
    },
    {
      "cell_type": "code",
      "metadata": {
        "colab": {
          "base_uri": "https://localhost:8080/",
          "height": 327
        },
        "id": "496e7bb1",
        "outputId": "503fad84-21a6-47e8-f7ee-3bf32e947aa2"
      },
      "source": [
        "display(df_abilities.head())"
      ],
      "execution_count": 22,
      "outputs": [
        {
          "output_type": "display_data",
          "data": {
            "text/plain": [
              "  O*NET-SOC Code             Title Element ID           Element Name Scale ID  \\\n",
              "0     11-1011.00  Chief Executives  1.A.1.a.1     Oral Comprehension       IM   \n",
              "1     11-1011.00  Chief Executives  1.A.1.a.1     Oral Comprehension       LV   \n",
              "2     11-1011.00  Chief Executives  1.A.1.a.2  Written Comprehension       IM   \n",
              "3     11-1011.00  Chief Executives  1.A.1.a.2  Written Comprehension       LV   \n",
              "4     11-1011.00  Chief Executives  1.A.1.a.3        Oral Expression       IM   \n",
              "\n",
              "   Scale Name  Data Value  N  Standard Error  Lower CI Bound  Upper CI Bound  \\\n",
              "0  Importance        4.62  8          0.1830          4.2664          4.9836   \n",
              "1       Level        4.88  8          0.1250          4.6300          5.1200   \n",
              "2  Importance        4.25  8          0.1637          3.9292          4.5708   \n",
              "3       Level        4.88  8          0.1250          4.6300          5.1200   \n",
              "4  Importance        4.50  8          0.1890          4.1296          4.8704   \n",
              "\n",
              "  Recommend Suppress Not Relevant     Date Domain Source  \n",
              "0                  N          NaN  08/2023       Analyst  \n",
              "1                  N            N  08/2023       Analyst  \n",
              "2                  N          NaN  08/2023       Analyst  \n",
              "3                  N            N  08/2023       Analyst  \n",
              "4                  N          NaN  08/2023       Analyst  "
            ],
            "text/html": [
              "\n",
              "  <div id=\"df-44f1d63c-ab32-4719-8593-c8bf36fa05e6\" class=\"colab-df-container\">\n",
              "    <div>\n",
              "<style scoped>\n",
              "    .dataframe tbody tr th:only-of-type {\n",
              "        vertical-align: middle;\n",
              "    }\n",
              "\n",
              "    .dataframe tbody tr th {\n",
              "        vertical-align: top;\n",
              "    }\n",
              "\n",
              "    .dataframe thead th {\n",
              "        text-align: right;\n",
              "    }\n",
              "</style>\n",
              "<table border=\"1\" class=\"dataframe\">\n",
              "  <thead>\n",
              "    <tr style=\"text-align: right;\">\n",
              "      <th></th>\n",
              "      <th>O*NET-SOC Code</th>\n",
              "      <th>Title</th>\n",
              "      <th>Element ID</th>\n",
              "      <th>Element Name</th>\n",
              "      <th>Scale ID</th>\n",
              "      <th>Scale Name</th>\n",
              "      <th>Data Value</th>\n",
              "      <th>N</th>\n",
              "      <th>Standard Error</th>\n",
              "      <th>Lower CI Bound</th>\n",
              "      <th>Upper CI Bound</th>\n",
              "      <th>Recommend Suppress</th>\n",
              "      <th>Not Relevant</th>\n",
              "      <th>Date</th>\n",
              "      <th>Domain Source</th>\n",
              "    </tr>\n",
              "  </thead>\n",
              "  <tbody>\n",
              "    <tr>\n",
              "      <th>0</th>\n",
              "      <td>11-1011.00</td>\n",
              "      <td>Chief Executives</td>\n",
              "      <td>1.A.1.a.1</td>\n",
              "      <td>Oral Comprehension</td>\n",
              "      <td>IM</td>\n",
              "      <td>Importance</td>\n",
              "      <td>4.62</td>\n",
              "      <td>8</td>\n",
              "      <td>0.1830</td>\n",
              "      <td>4.2664</td>\n",
              "      <td>4.9836</td>\n",
              "      <td>N</td>\n",
              "      <td>NaN</td>\n",
              "      <td>08/2023</td>\n",
              "      <td>Analyst</td>\n",
              "    </tr>\n",
              "    <tr>\n",
              "      <th>1</th>\n",
              "      <td>11-1011.00</td>\n",
              "      <td>Chief Executives</td>\n",
              "      <td>1.A.1.a.1</td>\n",
              "      <td>Oral Comprehension</td>\n",
              "      <td>LV</td>\n",
              "      <td>Level</td>\n",
              "      <td>4.88</td>\n",
              "      <td>8</td>\n",
              "      <td>0.1250</td>\n",
              "      <td>4.6300</td>\n",
              "      <td>5.1200</td>\n",
              "      <td>N</td>\n",
              "      <td>N</td>\n",
              "      <td>08/2023</td>\n",
              "      <td>Analyst</td>\n",
              "    </tr>\n",
              "    <tr>\n",
              "      <th>2</th>\n",
              "      <td>11-1011.00</td>\n",
              "      <td>Chief Executives</td>\n",
              "      <td>1.A.1.a.2</td>\n",
              "      <td>Written Comprehension</td>\n",
              "      <td>IM</td>\n",
              "      <td>Importance</td>\n",
              "      <td>4.25</td>\n",
              "      <td>8</td>\n",
              "      <td>0.1637</td>\n",
              "      <td>3.9292</td>\n",
              "      <td>4.5708</td>\n",
              "      <td>N</td>\n",
              "      <td>NaN</td>\n",
              "      <td>08/2023</td>\n",
              "      <td>Analyst</td>\n",
              "    </tr>\n",
              "    <tr>\n",
              "      <th>3</th>\n",
              "      <td>11-1011.00</td>\n",
              "      <td>Chief Executives</td>\n",
              "      <td>1.A.1.a.2</td>\n",
              "      <td>Written Comprehension</td>\n",
              "      <td>LV</td>\n",
              "      <td>Level</td>\n",
              "      <td>4.88</td>\n",
              "      <td>8</td>\n",
              "      <td>0.1250</td>\n",
              "      <td>4.6300</td>\n",
              "      <td>5.1200</td>\n",
              "      <td>N</td>\n",
              "      <td>N</td>\n",
              "      <td>08/2023</td>\n",
              "      <td>Analyst</td>\n",
              "    </tr>\n",
              "    <tr>\n",
              "      <th>4</th>\n",
              "      <td>11-1011.00</td>\n",
              "      <td>Chief Executives</td>\n",
              "      <td>1.A.1.a.3</td>\n",
              "      <td>Oral Expression</td>\n",
              "      <td>IM</td>\n",
              "      <td>Importance</td>\n",
              "      <td>4.50</td>\n",
              "      <td>8</td>\n",
              "      <td>0.1890</td>\n",
              "      <td>4.1296</td>\n",
              "      <td>4.8704</td>\n",
              "      <td>N</td>\n",
              "      <td>NaN</td>\n",
              "      <td>08/2023</td>\n",
              "      <td>Analyst</td>\n",
              "    </tr>\n",
              "  </tbody>\n",
              "</table>\n",
              "</div>\n",
              "    <div class=\"colab-df-buttons\">\n",
              "\n",
              "  <div class=\"colab-df-container\">\n",
              "    <button class=\"colab-df-convert\" onclick=\"convertToInteractive('df-44f1d63c-ab32-4719-8593-c8bf36fa05e6')\"\n",
              "            title=\"Convert this dataframe to an interactive table.\"\n",
              "            style=\"display:none;\">\n",
              "\n",
              "  <svg xmlns=\"http://www.w3.org/2000/svg\" height=\"24px\" viewBox=\"0 -960 960 960\">\n",
              "    <path d=\"M120-120v-720h720v720H120Zm60-500h600v-160H180v160Zm220 220h160v-160H400v160Zm0 220h160v-160H400v160ZM180-400h160v-160H180v160Zm440 0h160v-160H620v160ZM180-180h160v-160H180v160Zm440 0h160v-160H620v160Z\"/>\n",
              "  </svg>\n",
              "    </button>\n",
              "\n",
              "  <style>\n",
              "    .colab-df-container {\n",
              "      display:flex;\n",
              "      gap: 12px;\n",
              "    }\n",
              "\n",
              "    .colab-df-convert {\n",
              "      background-color: #E8F0FE;\n",
              "      border: none;\n",
              "      border-radius: 50%;\n",
              "      cursor: pointer;\n",
              "      display: none;\n",
              "      fill: #1967D2;\n",
              "      height: 32px;\n",
              "      padding: 0 0 0 0;\n",
              "      width: 32px;\n",
              "    }\n",
              "\n",
              "    .colab-df-convert:hover {\n",
              "      background-color: #E2EBFA;\n",
              "      box-shadow: 0px 1px 2px rgba(60, 64, 67, 0.3), 0px 1px 3px 1px rgba(60, 64, 67, 0.15);\n",
              "      fill: #174EA6;\n",
              "    }\n",
              "\n",
              "    .colab-df-buttons div {\n",
              "      margin-bottom: 4px;\n",
              "    }\n",
              "\n",
              "    [theme=dark] .colab-df-convert {\n",
              "      background-color: #3B4455;\n",
              "      fill: #D2E3FC;\n",
              "    }\n",
              "\n",
              "    [theme=dark] .colab-df-convert:hover {\n",
              "      background-color: #434B5C;\n",
              "      box-shadow: 0px 1px 3px 1px rgba(0, 0, 0, 0.15);\n",
              "      filter: drop-shadow(0px 1px 2px rgba(0, 0, 0, 0.3));\n",
              "      fill: #FFFFFF;\n",
              "    }\n",
              "  </style>\n",
              "\n",
              "    <script>\n",
              "      const buttonEl =\n",
              "        document.querySelector('#df-44f1d63c-ab32-4719-8593-c8bf36fa05e6 button.colab-df-convert');\n",
              "      buttonEl.style.display =\n",
              "        google.colab.kernel.accessAllowed ? 'block' : 'none';\n",
              "\n",
              "      async function convertToInteractive(key) {\n",
              "        const element = document.querySelector('#df-44f1d63c-ab32-4719-8593-c8bf36fa05e6');\n",
              "        const dataTable =\n",
              "          await google.colab.kernel.invokeFunction('convertToInteractive',\n",
              "                                                    [key], {});\n",
              "        if (!dataTable) return;\n",
              "\n",
              "        const docLinkHtml = 'Like what you see? Visit the ' +\n",
              "          '<a target=\"_blank\" href=https://colab.research.google.com/notebooks/data_table.ipynb>data table notebook</a>'\n",
              "          + ' to learn more about interactive tables.';\n",
              "        element.innerHTML = '';\n",
              "        dataTable['output_type'] = 'display_data';\n",
              "        await google.colab.output.renderOutput(dataTable, element);\n",
              "        const docLink = document.createElement('div');\n",
              "        docLink.innerHTML = docLinkHtml;\n",
              "        element.appendChild(docLink);\n",
              "      }\n",
              "    </script>\n",
              "  </div>\n",
              "\n",
              "\n",
              "    <div id=\"df-1a51fd31-1106-4f69-b872-364f20df31a9\">\n",
              "      <button class=\"colab-df-quickchart\" onclick=\"quickchart('df-1a51fd31-1106-4f69-b872-364f20df31a9')\"\n",
              "                title=\"Suggest charts\"\n",
              "                style=\"display:none;\">\n",
              "\n",
              "<svg xmlns=\"http://www.w3.org/2000/svg\" height=\"24px\"viewBox=\"0 0 24 24\"\n",
              "     width=\"24px\">\n",
              "    <g>\n",
              "        <path d=\"M19 3H5c-1.1 0-2 .9-2 2v14c0 1.1.9 2 2 2h14c1.1 0 2-.9 2-2V5c0-1.1-.9-2-2-2zM9 17H7v-7h2v7zm4 0h-2V7h2v10zm4 0h-2v-4h2v4z\"/>\n",
              "    </g>\n",
              "</svg>\n",
              "      </button>\n",
              "\n",
              "<style>\n",
              "  .colab-df-quickchart {\n",
              "      --bg-color: #E8F0FE;\n",
              "      --fill-color: #1967D2;\n",
              "      --hover-bg-color: #E2EBFA;\n",
              "      --hover-fill-color: #174EA6;\n",
              "      --disabled-fill-color: #AAA;\n",
              "      --disabled-bg-color: #DDD;\n",
              "  }\n",
              "\n",
              "  [theme=dark] .colab-df-quickchart {\n",
              "      --bg-color: #3B4455;\n",
              "      --fill-color: #D2E3FC;\n",
              "      --hover-bg-color: #434B5C;\n",
              "      --hover-fill-color: #FFFFFF;\n",
              "      --disabled-bg-color: #3B4455;\n",
              "      --disabled-fill-color: #666;\n",
              "  }\n",
              "\n",
              "  .colab-df-quickchart {\n",
              "    background-color: var(--bg-color);\n",
              "    border: none;\n",
              "    border-radius: 50%;\n",
              "    cursor: pointer;\n",
              "    display: none;\n",
              "    fill: var(--fill-color);\n",
              "    height: 32px;\n",
              "    padding: 0;\n",
              "    width: 32px;\n",
              "  }\n",
              "\n",
              "  .colab-df-quickchart:hover {\n",
              "    background-color: var(--hover-bg-color);\n",
              "    box-shadow: 0 1px 2px rgba(60, 64, 67, 0.3), 0 1px 3px 1px rgba(60, 64, 67, 0.15);\n",
              "    fill: var(--button-hover-fill-color);\n",
              "  }\n",
              "\n",
              "  .colab-df-quickchart-complete:disabled,\n",
              "  .colab-df-quickchart-complete:disabled:hover {\n",
              "    background-color: var(--disabled-bg-color);\n",
              "    fill: var(--disabled-fill-color);\n",
              "    box-shadow: none;\n",
              "  }\n",
              "\n",
              "  .colab-df-spinner {\n",
              "    border: 2px solid var(--fill-color);\n",
              "    border-color: transparent;\n",
              "    border-bottom-color: var(--fill-color);\n",
              "    animation:\n",
              "      spin 1s steps(1) infinite;\n",
              "  }\n",
              "\n",
              "  @keyframes spin {\n",
              "    0% {\n",
              "      border-color: transparent;\n",
              "      border-bottom-color: var(--fill-color);\n",
              "      border-left-color: var(--fill-color);\n",
              "    }\n",
              "    20% {\n",
              "      border-color: transparent;\n",
              "      border-left-color: var(--fill-color);\n",
              "      border-top-color: var(--fill-color);\n",
              "    }\n",
              "    30% {\n",
              "      border-color: transparent;\n",
              "      border-left-color: var(--fill-color);\n",
              "      border-top-color: var(--fill-color);\n",
              "      border-right-color: var(--fill-color);\n",
              "    }\n",
              "    40% {\n",
              "      border-color: transparent;\n",
              "      border-right-color: var(--fill-color);\n",
              "      border-top-color: var(--fill-color);\n",
              "    }\n",
              "    60% {\n",
              "      border-color: transparent;\n",
              "      border-right-color: var(--fill-color);\n",
              "    }\n",
              "    80% {\n",
              "      border-color: transparent;\n",
              "      border-right-color: var(--fill-color);\n",
              "      border-bottom-color: var(--fill-color);\n",
              "    }\n",
              "    90% {\n",
              "      border-color: transparent;\n",
              "      border-bottom-color: var(--fill-color);\n",
              "    }\n",
              "  }\n",
              "</style>\n",
              "\n",
              "      <script>\n",
              "        async function quickchart(key) {\n",
              "          const quickchartButtonEl =\n",
              "            document.querySelector('#' + key + ' button');\n",
              "          quickchartButtonEl.disabled = true;  // To prevent multiple clicks.\n",
              "          quickchartButtonEl.classList.add('colab-df-spinner');\n",
              "          try {\n",
              "            const charts = await google.colab.kernel.invokeFunction(\n",
              "                'suggestCharts', [key], {});\n",
              "          } catch (error) {\n",
              "            console.error('Error during call to suggestCharts:', error);\n",
              "          }\n",
              "          quickchartButtonEl.classList.remove('colab-df-spinner');\n",
              "          quickchartButtonEl.classList.add('colab-df-quickchart-complete');\n",
              "        }\n",
              "        (() => {\n",
              "          let quickchartButtonEl =\n",
              "            document.querySelector('#df-1a51fd31-1106-4f69-b872-364f20df31a9 button');\n",
              "          quickchartButtonEl.style.display =\n",
              "            google.colab.kernel.accessAllowed ? 'block' : 'none';\n",
              "        })();\n",
              "      </script>\n",
              "    </div>\n",
              "\n",
              "    </div>\n",
              "  </div>\n"
            ],
            "application/vnd.google.colaboratory.intrinsic+json": {
              "type": "dataframe",
              "summary": "{\n  \"name\": \"display(df_abilities\",\n  \"rows\": 5,\n  \"fields\": [\n    {\n      \"column\": \"O*NET-SOC Code\",\n      \"properties\": {\n        \"dtype\": \"category\",\n        \"num_unique_values\": 1,\n        \"samples\": [\n          \"11-1011.00\"\n        ],\n        \"semantic_type\": \"\",\n        \"description\": \"\"\n      }\n    },\n    {\n      \"column\": \"Title\",\n      \"properties\": {\n        \"dtype\": \"category\",\n        \"num_unique_values\": 1,\n        \"samples\": [\n          \"Chief Executives\"\n        ],\n        \"semantic_type\": \"\",\n        \"description\": \"\"\n      }\n    },\n    {\n      \"column\": \"Element ID\",\n      \"properties\": {\n        \"dtype\": \"string\",\n        \"num_unique_values\": 3,\n        \"samples\": [\n          \"1.A.1.a.1\"\n        ],\n        \"semantic_type\": \"\",\n        \"description\": \"\"\n      }\n    },\n    {\n      \"column\": \"Element Name\",\n      \"properties\": {\n        \"dtype\": \"string\",\n        \"num_unique_values\": 3,\n        \"samples\": [\n          \"Oral Comprehension\"\n        ],\n        \"semantic_type\": \"\",\n        \"description\": \"\"\n      }\n    },\n    {\n      \"column\": \"Scale ID\",\n      \"properties\": {\n        \"dtype\": \"category\",\n        \"num_unique_values\": 2,\n        \"samples\": [\n          \"LV\"\n        ],\n        \"semantic_type\": \"\",\n        \"description\": \"\"\n      }\n    },\n    {\n      \"column\": \"Scale Name\",\n      \"properties\": {\n        \"dtype\": \"category\",\n        \"num_unique_values\": 2,\n        \"samples\": [\n          \"Level\"\n        ],\n        \"semantic_type\": \"\",\n        \"description\": \"\"\n      }\n    },\n    {\n      \"column\": \"Data Value\",\n      \"properties\": {\n        \"dtype\": \"number\",\n        \"std\": 0.2675443888404314,\n        \"min\": 4.25,\n        \"max\": 4.88,\n        \"num_unique_values\": 4,\n        \"samples\": [\n          4.88\n        ],\n        \"semantic_type\": \"\",\n        \"description\": \"\"\n      }\n    },\n    {\n      \"column\": \"N\",\n      \"properties\": {\n        \"dtype\": \"number\",\n        \"std\": 0,\n        \"min\": 8,\n        \"max\": 8,\n        \"num_unique_values\": 1,\n        \"samples\": [\n          8\n        ],\n        \"semantic_type\": \"\",\n        \"description\": \"\"\n      }\n    },\n    {\n      \"column\": \"Standard Error\",\n      \"properties\": {\n        \"dtype\": \"number\",\n        \"std\": 0.03079282383932984,\n        \"min\": 0.125,\n        \"max\": 0.189,\n        \"num_unique_values\": 4,\n        \"samples\": [\n          0.125\n        ],\n        \"semantic_type\": \"\",\n        \"description\": \"\"\n      }\n    },\n    {\n      \"column\": \"Lower CI Bound\",\n      \"properties\": {\n        \"dtype\": \"number\",\n        \"std\": 0.3098410689369632,\n        \"min\": 3.9292,\n        \"max\": 4.63,\n        \"num_unique_values\": 4,\n        \"samples\": [\n          4.63\n        ],\n        \"semantic_type\": \"\",\n        \"description\": \"\"\n      }\n    },\n    {\n      \"column\": \"Upper CI Bound\",\n      \"properties\": {\n        \"dtype\": \"number\",\n        \"std\": 0.22781898077201554,\n        \"min\": 4.5708,\n        \"max\": 5.12,\n        \"num_unique_values\": 4,\n        \"samples\": [\n          5.12\n        ],\n        \"semantic_type\": \"\",\n        \"description\": \"\"\n      }\n    },\n    {\n      \"column\": \"Recommend Suppress\",\n      \"properties\": {\n        \"dtype\": \"category\",\n        \"num_unique_values\": 1,\n        \"samples\": [\n          \"N\"\n        ],\n        \"semantic_type\": \"\",\n        \"description\": \"\"\n      }\n    },\n    {\n      \"column\": \"Not Relevant\",\n      \"properties\": {\n        \"dtype\": \"category\",\n        \"num_unique_values\": 1,\n        \"samples\": [\n          \"N\"\n        ],\n        \"semantic_type\": \"\",\n        \"description\": \"\"\n      }\n    },\n    {\n      \"column\": \"Date\",\n      \"properties\": {\n        \"dtype\": \"object\",\n        \"num_unique_values\": 1,\n        \"samples\": [\n          \"08/2023\"\n        ],\n        \"semantic_type\": \"\",\n        \"description\": \"\"\n      }\n    },\n    {\n      \"column\": \"Domain Source\",\n      \"properties\": {\n        \"dtype\": \"category\",\n        \"num_unique_values\": 1,\n        \"samples\": [\n          \"Analyst\"\n        ],\n        \"semantic_type\": \"\",\n        \"description\": \"\"\n      }\n    }\n  ]\n}"
            }
          },
          "metadata": {}
        }
      ]
    },
    {
      "cell_type": "code",
      "metadata": {
        "colab": {
          "base_uri": "https://localhost:8080/",
          "height": 327
        },
        "id": "43dfe224",
        "outputId": "26b2223f-627d-4575-b4e1-25fb14775aac"
      },
      "source": [
        "display(df_skills.head())"
      ],
      "execution_count": 23,
      "outputs": [
        {
          "output_type": "display_data",
          "data": {
            "text/plain": [
              "  O*NET-SOC Code             Title Element ID           Element Name Scale ID  \\\n",
              "0     11-1011.00  Chief Executives    2.A.1.a  Reading Comprehension       IM   \n",
              "1     11-1011.00  Chief Executives    2.A.1.a  Reading Comprehension       LV   \n",
              "2     11-1011.00  Chief Executives    2.A.1.b       Active Listening       IM   \n",
              "3     11-1011.00  Chief Executives    2.A.1.b       Active Listening       LV   \n",
              "4     11-1011.00  Chief Executives    2.A.1.c                Writing       IM   \n",
              "\n",
              "   Scale Name  Data Value  N  Standard Error  Lower CI Bound  Upper CI Bound  \\\n",
              "0  Importance        4.12  8          0.1250          3.8800          4.3700   \n",
              "1       Level        4.62  8          0.1830          4.2664          4.9836   \n",
              "2  Importance        4.00  8          0.0000          4.0000          4.0000   \n",
              "3       Level        4.75  8          0.1637          4.4292          5.0708   \n",
              "4  Importance        4.12  8          0.1250          3.8800          4.3700   \n",
              "\n",
              "  Recommend Suppress Not Relevant     Date Domain Source  \n",
              "0                  N          NaN  08/2023       Analyst  \n",
              "1                  N            N  08/2023       Analyst  \n",
              "2                  N          NaN  08/2023       Analyst  \n",
              "3                  N            N  08/2023       Analyst  \n",
              "4                  N          NaN  08/2023       Analyst  "
            ],
            "text/html": [
              "\n",
              "  <div id=\"df-a629f8d4-198b-41f2-b721-96736d707fe0\" class=\"colab-df-container\">\n",
              "    <div>\n",
              "<style scoped>\n",
              "    .dataframe tbody tr th:only-of-type {\n",
              "        vertical-align: middle;\n",
              "    }\n",
              "\n",
              "    .dataframe tbody tr th {\n",
              "        vertical-align: top;\n",
              "    }\n",
              "\n",
              "    .dataframe thead th {\n",
              "        text-align: right;\n",
              "    }\n",
              "</style>\n",
              "<table border=\"1\" class=\"dataframe\">\n",
              "  <thead>\n",
              "    <tr style=\"text-align: right;\">\n",
              "      <th></th>\n",
              "      <th>O*NET-SOC Code</th>\n",
              "      <th>Title</th>\n",
              "      <th>Element ID</th>\n",
              "      <th>Element Name</th>\n",
              "      <th>Scale ID</th>\n",
              "      <th>Scale Name</th>\n",
              "      <th>Data Value</th>\n",
              "      <th>N</th>\n",
              "      <th>Standard Error</th>\n",
              "      <th>Lower CI Bound</th>\n",
              "      <th>Upper CI Bound</th>\n",
              "      <th>Recommend Suppress</th>\n",
              "      <th>Not Relevant</th>\n",
              "      <th>Date</th>\n",
              "      <th>Domain Source</th>\n",
              "    </tr>\n",
              "  </thead>\n",
              "  <tbody>\n",
              "    <tr>\n",
              "      <th>0</th>\n",
              "      <td>11-1011.00</td>\n",
              "      <td>Chief Executives</td>\n",
              "      <td>2.A.1.a</td>\n",
              "      <td>Reading Comprehension</td>\n",
              "      <td>IM</td>\n",
              "      <td>Importance</td>\n",
              "      <td>4.12</td>\n",
              "      <td>8</td>\n",
              "      <td>0.1250</td>\n",
              "      <td>3.8800</td>\n",
              "      <td>4.3700</td>\n",
              "      <td>N</td>\n",
              "      <td>NaN</td>\n",
              "      <td>08/2023</td>\n",
              "      <td>Analyst</td>\n",
              "    </tr>\n",
              "    <tr>\n",
              "      <th>1</th>\n",
              "      <td>11-1011.00</td>\n",
              "      <td>Chief Executives</td>\n",
              "      <td>2.A.1.a</td>\n",
              "      <td>Reading Comprehension</td>\n",
              "      <td>LV</td>\n",
              "      <td>Level</td>\n",
              "      <td>4.62</td>\n",
              "      <td>8</td>\n",
              "      <td>0.1830</td>\n",
              "      <td>4.2664</td>\n",
              "      <td>4.9836</td>\n",
              "      <td>N</td>\n",
              "      <td>N</td>\n",
              "      <td>08/2023</td>\n",
              "      <td>Analyst</td>\n",
              "    </tr>\n",
              "    <tr>\n",
              "      <th>2</th>\n",
              "      <td>11-1011.00</td>\n",
              "      <td>Chief Executives</td>\n",
              "      <td>2.A.1.b</td>\n",
              "      <td>Active Listening</td>\n",
              "      <td>IM</td>\n",
              "      <td>Importance</td>\n",
              "      <td>4.00</td>\n",
              "      <td>8</td>\n",
              "      <td>0.0000</td>\n",
              "      <td>4.0000</td>\n",
              "      <td>4.0000</td>\n",
              "      <td>N</td>\n",
              "      <td>NaN</td>\n",
              "      <td>08/2023</td>\n",
              "      <td>Analyst</td>\n",
              "    </tr>\n",
              "    <tr>\n",
              "      <th>3</th>\n",
              "      <td>11-1011.00</td>\n",
              "      <td>Chief Executives</td>\n",
              "      <td>2.A.1.b</td>\n",
              "      <td>Active Listening</td>\n",
              "      <td>LV</td>\n",
              "      <td>Level</td>\n",
              "      <td>4.75</td>\n",
              "      <td>8</td>\n",
              "      <td>0.1637</td>\n",
              "      <td>4.4292</td>\n",
              "      <td>5.0708</td>\n",
              "      <td>N</td>\n",
              "      <td>N</td>\n",
              "      <td>08/2023</td>\n",
              "      <td>Analyst</td>\n",
              "    </tr>\n",
              "    <tr>\n",
              "      <th>4</th>\n",
              "      <td>11-1011.00</td>\n",
              "      <td>Chief Executives</td>\n",
              "      <td>2.A.1.c</td>\n",
              "      <td>Writing</td>\n",
              "      <td>IM</td>\n",
              "      <td>Importance</td>\n",
              "      <td>4.12</td>\n",
              "      <td>8</td>\n",
              "      <td>0.1250</td>\n",
              "      <td>3.8800</td>\n",
              "      <td>4.3700</td>\n",
              "      <td>N</td>\n",
              "      <td>NaN</td>\n",
              "      <td>08/2023</td>\n",
              "      <td>Analyst</td>\n",
              "    </tr>\n",
              "  </tbody>\n",
              "</table>\n",
              "</div>\n",
              "    <div class=\"colab-df-buttons\">\n",
              "\n",
              "  <div class=\"colab-df-container\">\n",
              "    <button class=\"colab-df-convert\" onclick=\"convertToInteractive('df-a629f8d4-198b-41f2-b721-96736d707fe0')\"\n",
              "            title=\"Convert this dataframe to an interactive table.\"\n",
              "            style=\"display:none;\">\n",
              "\n",
              "  <svg xmlns=\"http://www.w3.org/2000/svg\" height=\"24px\" viewBox=\"0 -960 960 960\">\n",
              "    <path d=\"M120-120v-720h720v720H120Zm60-500h600v-160H180v160Zm220 220h160v-160H400v160Zm0 220h160v-160H400v160ZM180-400h160v-160H180v160Zm440 0h160v-160H620v160ZM180-180h160v-160H180v160Zm440 0h160v-160H620v160Z\"/>\n",
              "  </svg>\n",
              "    </button>\n",
              "\n",
              "  <style>\n",
              "    .colab-df-container {\n",
              "      display:flex;\n",
              "      gap: 12px;\n",
              "    }\n",
              "\n",
              "    .colab-df-convert {\n",
              "      background-color: #E8F0FE;\n",
              "      border: none;\n",
              "      border-radius: 50%;\n",
              "      cursor: pointer;\n",
              "      display: none;\n",
              "      fill: #1967D2;\n",
              "      height: 32px;\n",
              "      padding: 0 0 0 0;\n",
              "      width: 32px;\n",
              "    }\n",
              "\n",
              "    .colab-df-convert:hover {\n",
              "      background-color: #E2EBFA;\n",
              "      box-shadow: 0px 1px 2px rgba(60, 64, 67, 0.3), 0px 1px 3px 1px rgba(60, 64, 67, 0.15);\n",
              "      fill: #174EA6;\n",
              "    }\n",
              "\n",
              "    .colab-df-buttons div {\n",
              "      margin-bottom: 4px;\n",
              "    }\n",
              "\n",
              "    [theme=dark] .colab-df-convert {\n",
              "      background-color: #3B4455;\n",
              "      fill: #D2E3FC;\n",
              "    }\n",
              "\n",
              "    [theme=dark] .colab-df-convert:hover {\n",
              "      background-color: #434B5C;\n",
              "      box-shadow: 0px 1px 3px 1px rgba(0, 0, 0, 0.15);\n",
              "      filter: drop-shadow(0px 1px 2px rgba(0, 0, 0, 0.3));\n",
              "      fill: #FFFFFF;\n",
              "    }\n",
              "  </style>\n",
              "\n",
              "    <script>\n",
              "      const buttonEl =\n",
              "        document.querySelector('#df-a629f8d4-198b-41f2-b721-96736d707fe0 button.colab-df-convert');\n",
              "      buttonEl.style.display =\n",
              "        google.colab.kernel.accessAllowed ? 'block' : 'none';\n",
              "\n",
              "      async function convertToInteractive(key) {\n",
              "        const element = document.querySelector('#df-a629f8d4-198b-41f2-b721-96736d707fe0');\n",
              "        const dataTable =\n",
              "          await google.colab.kernel.invokeFunction('convertToInteractive',\n",
              "                                                    [key], {});\n",
              "        if (!dataTable) return;\n",
              "\n",
              "        const docLinkHtml = 'Like what you see? Visit the ' +\n",
              "          '<a target=\"_blank\" href=https://colab.research.google.com/notebooks/data_table.ipynb>data table notebook</a>'\n",
              "          + ' to learn more about interactive tables.';\n",
              "        element.innerHTML = '';\n",
              "        dataTable['output_type'] = 'display_data';\n",
              "        await google.colab.output.renderOutput(dataTable, element);\n",
              "        const docLink = document.createElement('div');\n",
              "        docLink.innerHTML = docLinkHtml;\n",
              "        element.appendChild(docLink);\n",
              "      }\n",
              "    </script>\n",
              "  </div>\n",
              "\n",
              "\n",
              "    <div id=\"df-fe6887cb-249a-4d98-9c64-78592a6b111e\">\n",
              "      <button class=\"colab-df-quickchart\" onclick=\"quickchart('df-fe6887cb-249a-4d98-9c64-78592a6b111e')\"\n",
              "                title=\"Suggest charts\"\n",
              "                style=\"display:none;\">\n",
              "\n",
              "<svg xmlns=\"http://www.w3.org/2000/svg\" height=\"24px\"viewBox=\"0 0 24 24\"\n",
              "     width=\"24px\">\n",
              "    <g>\n",
              "        <path d=\"M19 3H5c-1.1 0-2 .9-2 2v14c0 1.1.9 2 2 2h14c1.1 0 2-.9 2-2V5c0-1.1-.9-2-2-2zM9 17H7v-7h2v7zm4 0h-2V7h2v10zm4 0h-2v-4h2v4z\"/>\n",
              "    </g>\n",
              "</svg>\n",
              "      </button>\n",
              "\n",
              "<style>\n",
              "  .colab-df-quickchart {\n",
              "      --bg-color: #E8F0FE;\n",
              "      --fill-color: #1967D2;\n",
              "      --hover-bg-color: #E2EBFA;\n",
              "      --hover-fill-color: #174EA6;\n",
              "      --disabled-fill-color: #AAA;\n",
              "      --disabled-bg-color: #DDD;\n",
              "  }\n",
              "\n",
              "  [theme=dark] .colab-df-quickchart {\n",
              "      --bg-color: #3B4455;\n",
              "      --fill-color: #D2E3FC;\n",
              "      --hover-bg-color: #434B5C;\n",
              "      --hover-fill-color: #FFFFFF;\n",
              "      --disabled-bg-color: #3B4455;\n",
              "      --disabled-fill-color: #666;\n",
              "  }\n",
              "\n",
              "  .colab-df-quickchart {\n",
              "    background-color: var(--bg-color);\n",
              "    border: none;\n",
              "    border-radius: 50%;\n",
              "    cursor: pointer;\n",
              "    display: none;\n",
              "    fill: var(--fill-color);\n",
              "    height: 32px;\n",
              "    padding: 0;\n",
              "    width: 32px;\n",
              "  }\n",
              "\n",
              "  .colab-df-quickchart:hover {\n",
              "    background-color: var(--hover-bg-color);\n",
              "    box-shadow: 0 1px 2px rgba(60, 64, 67, 0.3), 0 1px 3px 1px rgba(60, 64, 67, 0.15);\n",
              "    fill: var(--button-hover-fill-color);\n",
              "  }\n",
              "\n",
              "  .colab-df-quickchart-complete:disabled,\n",
              "  .colab-df-quickchart-complete:disabled:hover {\n",
              "    background-color: var(--disabled-bg-color);\n",
              "    fill: var(--disabled-fill-color);\n",
              "    box-shadow: none;\n",
              "  }\n",
              "\n",
              "  .colab-df-spinner {\n",
              "    border: 2px solid var(--fill-color);\n",
              "    border-color: transparent;\n",
              "    border-bottom-color: var(--fill-color);\n",
              "    animation:\n",
              "      spin 1s steps(1) infinite;\n",
              "  }\n",
              "\n",
              "  @keyframes spin {\n",
              "    0% {\n",
              "      border-color: transparent;\n",
              "      border-bottom-color: var(--fill-color);\n",
              "      border-left-color: var(--fill-color);\n",
              "    }\n",
              "    20% {\n",
              "      border-color: transparent;\n",
              "      border-left-color: var(--fill-color);\n",
              "      border-top-color: var(--fill-color);\n",
              "    }\n",
              "    30% {\n",
              "      border-color: transparent;\n",
              "      border-left-color: var(--fill-color);\n",
              "      border-top-color: var(--fill-color);\n",
              "      border-right-color: var(--fill-color);\n",
              "    }\n",
              "    40% {\n",
              "      border-color: transparent;\n",
              "      border-right-color: var(--fill-color);\n",
              "      border-top-color: var(--fill-color);\n",
              "    }\n",
              "    60% {\n",
              "      border-color: transparent;\n",
              "      border-right-color: var(--fill-color);\n",
              "    }\n",
              "    80% {\n",
              "      border-color: transparent;\n",
              "      border-right-color: var(--fill-color);\n",
              "      border-bottom-color: var(--fill-color);\n",
              "    }\n",
              "    90% {\n",
              "      border-color: transparent;\n",
              "      border-bottom-color: var(--fill-color);\n",
              "    }\n",
              "  }\n",
              "</style>\n",
              "\n",
              "      <script>\n",
              "        async function quickchart(key) {\n",
              "          const quickchartButtonEl =\n",
              "            document.querySelector('#' + key + ' button');\n",
              "          quickchartButtonEl.disabled = true;  // To prevent multiple clicks.\n",
              "          quickchartButtonEl.classList.add('colab-df-spinner');\n",
              "          try {\n",
              "            const charts = await google.colab.kernel.invokeFunction(\n",
              "                'suggestCharts', [key], {});\n",
              "          } catch (error) {\n",
              "            console.error('Error during call to suggestCharts:', error);\n",
              "          }\n",
              "          quickchartButtonEl.classList.remove('colab-df-spinner');\n",
              "          quickchartButtonEl.classList.add('colab-df-quickchart-complete');\n",
              "        }\n",
              "        (() => {\n",
              "          let quickchartButtonEl =\n",
              "            document.querySelector('#df-fe6887cb-249a-4d98-9c64-78592a6b111e button');\n",
              "          quickchartButtonEl.style.display =\n",
              "            google.colab.kernel.accessAllowed ? 'block' : 'none';\n",
              "        })();\n",
              "      </script>\n",
              "    </div>\n",
              "\n",
              "    </div>\n",
              "  </div>\n"
            ],
            "application/vnd.google.colaboratory.intrinsic+json": {
              "type": "dataframe",
              "summary": "{\n  \"name\": \"display(df_skills\",\n  \"rows\": 5,\n  \"fields\": [\n    {\n      \"column\": \"O*NET-SOC Code\",\n      \"properties\": {\n        \"dtype\": \"category\",\n        \"num_unique_values\": 1,\n        \"samples\": [\n          \"11-1011.00\"\n        ],\n        \"semantic_type\": \"\",\n        \"description\": \"\"\n      }\n    },\n    {\n      \"column\": \"Title\",\n      \"properties\": {\n        \"dtype\": \"category\",\n        \"num_unique_values\": 1,\n        \"samples\": [\n          \"Chief Executives\"\n        ],\n        \"semantic_type\": \"\",\n        \"description\": \"\"\n      }\n    },\n    {\n      \"column\": \"Element ID\",\n      \"properties\": {\n        \"dtype\": \"string\",\n        \"num_unique_values\": 3,\n        \"samples\": [\n          \"2.A.1.a\"\n        ],\n        \"semantic_type\": \"\",\n        \"description\": \"\"\n      }\n    },\n    {\n      \"column\": \"Element Name\",\n      \"properties\": {\n        \"dtype\": \"string\",\n        \"num_unique_values\": 3,\n        \"samples\": [\n          \"Reading Comprehension\"\n        ],\n        \"semantic_type\": \"\",\n        \"description\": \"\"\n      }\n    },\n    {\n      \"column\": \"Scale ID\",\n      \"properties\": {\n        \"dtype\": \"category\",\n        \"num_unique_values\": 2,\n        \"samples\": [\n          \"LV\"\n        ],\n        \"semantic_type\": \"\",\n        \"description\": \"\"\n      }\n    },\n    {\n      \"column\": \"Scale Name\",\n      \"properties\": {\n        \"dtype\": \"category\",\n        \"num_unique_values\": 2,\n        \"samples\": [\n          \"Level\"\n        ],\n        \"semantic_type\": \"\",\n        \"description\": \"\"\n      }\n    },\n    {\n      \"column\": \"Data Value\",\n      \"properties\": {\n        \"dtype\": \"number\",\n        \"std\": 0.33811240734406656,\n        \"min\": 4.0,\n        \"max\": 4.75,\n        \"num_unique_values\": 4,\n        \"samples\": [\n          4.62\n        ],\n        \"semantic_type\": \"\",\n        \"description\": \"\"\n      }\n    },\n    {\n      \"column\": \"N\",\n      \"properties\": {\n        \"dtype\": \"number\",\n        \"std\": 0,\n        \"min\": 8,\n        \"max\": 8,\n        \"num_unique_values\": 1,\n        \"samples\": [\n          8\n        ],\n        \"semantic_type\": \"\",\n        \"description\": \"\"\n      }\n    },\n    {\n      \"column\": \"Standard Error\",\n      \"properties\": {\n        \"dtype\": \"number\",\n        \"std\": 0.07128553850536588,\n        \"min\": 0.0,\n        \"max\": 0.183,\n        \"num_unique_values\": 4,\n        \"samples\": [\n          0.183\n        ],\n        \"semantic_type\": \"\",\n        \"description\": \"\"\n      }\n    },\n    {\n      \"column\": \"Lower CI Bound\",\n      \"properties\": {\n        \"dtype\": \"number\",\n        \"std\": 0.2462048577912304,\n        \"min\": 3.88,\n        \"max\": 4.4292,\n        \"num_unique_values\": 4,\n        \"samples\": [\n          4.2664\n        ],\n        \"semantic_type\": \"\",\n        \"description\": \"\"\n      }\n    },\n    {\n      \"column\": \"Upper CI Bound\",\n      \"properties\": {\n        \"dtype\": \"number\",\n        \"std\": 0.45446323503667496,\n        \"min\": 4.0,\n        \"max\": 5.0708,\n        \"num_unique_values\": 4,\n        \"samples\": [\n          4.9836\n        ],\n        \"semantic_type\": \"\",\n        \"description\": \"\"\n      }\n    },\n    {\n      \"column\": \"Recommend Suppress\",\n      \"properties\": {\n        \"dtype\": \"category\",\n        \"num_unique_values\": 1,\n        \"samples\": [\n          \"N\"\n        ],\n        \"semantic_type\": \"\",\n        \"description\": \"\"\n      }\n    },\n    {\n      \"column\": \"Not Relevant\",\n      \"properties\": {\n        \"dtype\": \"category\",\n        \"num_unique_values\": 1,\n        \"samples\": [\n          \"N\"\n        ],\n        \"semantic_type\": \"\",\n        \"description\": \"\"\n      }\n    },\n    {\n      \"column\": \"Date\",\n      \"properties\": {\n        \"dtype\": \"object\",\n        \"num_unique_values\": 1,\n        \"samples\": [\n          \"08/2023\"\n        ],\n        \"semantic_type\": \"\",\n        \"description\": \"\"\n      }\n    },\n    {\n      \"column\": \"Domain Source\",\n      \"properties\": {\n        \"dtype\": \"category\",\n        \"num_unique_values\": 1,\n        \"samples\": [\n          \"Analyst\"\n        ],\n        \"semantic_type\": \"\",\n        \"description\": \"\"\n      }\n    }\n  ]\n}"
            }
          },
          "metadata": {}
        }
      ]
    },
    {
      "cell_type": "code",
      "metadata": {
        "colab": {
          "base_uri": "https://localhost:8080/"
        },
        "id": "91995261",
        "outputId": "0272d7cd-8dbd-4bd7-c800-7f413714c802"
      },
      "source": [
        "print(df_combined['Title'])"
      ],
      "execution_count": 24,
      "outputs": [
        {
          "output_type": "stream",
          "name": "stdout",
          "text": [
            "0                          Chief Executives\n",
            "1                          Chief Executives\n",
            "2                          Chief Executives\n",
            "3                          Chief Executives\n",
            "4                          Chief Executives\n",
            "                        ...                \n",
            "155551    Tank Car, Truck, and Ship Loaders\n",
            "155552    Tank Car, Truck, and Ship Loaders\n",
            "155553    Tank Car, Truck, and Ship Loaders\n",
            "155554    Tank Car, Truck, and Ship Loaders\n",
            "155555    Tank Car, Truck, and Ship Loaders\n",
            "Name: Title, Length: 155556, dtype: object\n"
          ]
        }
      ]
    },
    {
      "cell_type": "code",
      "metadata": {
        "colab": {
          "base_uri": "https://localhost:8080/"
        },
        "id": "27cf2ad9",
        "outputId": "17856236-f6b1-4403-8feb-a5e06d4b48f8"
      },
      "source": [
        "unique_titles = df_combined['Title'].unique()\n",
        "print(unique_titles)"
      ],
      "execution_count": 25,
      "outputs": [
        {
          "output_type": "stream",
          "name": "stdout",
          "text": [
            "['Chief Executives' 'Chief Sustainability Officers'\n",
            " 'General and Operations Managers' 'Advertising and Promotions Managers'\n",
            " 'Marketing Managers' 'Sales Managers' 'Fundraising Managers'\n",
            " 'Administrative Services Managers' 'Facilities Managers'\n",
            " 'Security Managers' 'Computer and Information Systems Managers'\n",
            " 'Financial Managers' 'Treasurers and Controllers'\n",
            " 'Investment Fund Managers' 'Industrial Production Managers'\n",
            " 'Quality Control Systems Managers' 'Geothermal Production Managers'\n",
            " 'Biofuels Production Managers' 'Biomass Power Plant Managers'\n",
            " 'Hydroelectric Production Managers' 'Purchasing Managers'\n",
            " 'Transportation, Storage, and Distribution Managers'\n",
            " 'Supply Chain Managers' 'Compensation and Benefits Managers'\n",
            " 'Human Resources Managers' 'Training and Development Managers'\n",
            " 'Farmers, Ranchers, and Other Agricultural Managers'\n",
            " 'Construction Managers'\n",
            " 'Education and Childcare Administrators, Preschool and Daycare'\n",
            " 'Education Administrators, Kindergarten through Secondary'\n",
            " 'Education Administrators, Postsecondary'\n",
            " 'Architectural and Engineering Managers'\n",
            " 'Biofuels/Biodiesel Technology and Product Development Managers'\n",
            " 'Food Service Managers' 'Gambling Managers'\n",
            " 'Entertainment and Recreation Managers, Except Gambling'\n",
            " 'Lodging Managers' 'Medical and Health Services Managers'\n",
            " 'Natural Sciences Managers' 'Clinical Research Coordinators'\n",
            " 'Water Resource Specialists' 'Postmasters and Mail Superintendents'\n",
            " 'Property, Real Estate, and Community Association Managers'\n",
            " 'Social and Community Service Managers' 'Emergency Management Directors'\n",
            " 'Funeral Home Managers' 'Fitness and Wellness Coordinators'\n",
            " 'Spa Managers' 'Regulatory Affairs Managers' 'Compliance Managers'\n",
            " 'Loss Prevention Managers' 'Wind Energy Operations Managers'\n",
            " 'Wind Energy Development Managers'\n",
            " 'Brownfield Redevelopment Specialists and Site Managers'\n",
            " 'Agents and Business Managers of Artists, Performers, and Athletes'\n",
            " 'Buyers and Purchasing Agents, Farm Products'\n",
            " 'Wholesale and Retail Buyers, Except Farm Products'\n",
            " 'Purchasing Agents, Except Wholesale, Retail, and Farm Products'\n",
            " 'Claims Adjusters, Examiners, and Investigators'\n",
            " 'Insurance Appraisers, Auto Damage' 'Compliance Officers'\n",
            " 'Environmental Compliance Inspectors'\n",
            " 'Equal Opportunity Representatives and Officers'\n",
            " 'Government Property Inspectors and Investigators' 'Coroners'\n",
            " 'Regulatory Affairs Specialists' 'Customs Brokers' 'Cost Estimators'\n",
            " 'Human Resources Specialists' 'Farm Labor Contractors'\n",
            " 'Labor Relations Specialists' 'Logisticians' 'Logistics Engineers'\n",
            " 'Logistics Analysts' 'Management Analysts'\n",
            " 'Meeting, Convention, and Event Planners' 'Fundraisers'\n",
            " 'Compensation, Benefits, and Job Analysis Specialists'\n",
            " 'Training and Development Specialists'\n",
            " 'Market Research Analysts and Marketing Specialists'\n",
            " 'Search Marketing Strategists' 'Business Continuity Planners'\n",
            " 'Sustainability Specialists' 'Online Merchants'\n",
            " 'Security Management Specialists' 'Accountants and Auditors'\n",
            " 'Appraisers of Personal and Business Property'\n",
            " 'Appraisers and Assessors of Real Estate' 'Budget Analysts'\n",
            " 'Credit Analysts' 'Personal Financial Advisors' 'Insurance Underwriters'\n",
            " 'Financial Examiners' 'Credit Counselors' 'Loan Officers'\n",
            " 'Tax Examiners and Collectors, and Revenue Agents' 'Tax Preparers'\n",
            " 'Financial Quantitative Analysts'\n",
            " 'Fraud Examiners, Investigators and Analysts' 'Computer Systems Analysts'\n",
            " 'Health Informatics Specialists' 'Information Security Analysts'\n",
            " 'Computer and Information Research Scientists'\n",
            " 'Computer Network Support Specialists'\n",
            " 'Computer User Support Specialists' 'Computer Network Architects'\n",
            " 'Telecommunications Engineering Specialists' 'Database Administrators'\n",
            " 'Database Architects' 'Data Warehousing Specialists'\n",
            " 'Network and Computer Systems Administrators' 'Computer Programmers'\n",
            " 'Software Developers' 'Software Quality Assurance Analysts and Testers'\n",
            " 'Web Developers' 'Video Game Designers' 'Web Administrators'\n",
            " 'Geographic Information Systems Technologists and Technicians'\n",
            " 'Document Management Specialists' 'Information Security Engineers'\n",
            " 'Computer Systems Engineers/Architects'\n",
            " 'Information Technology Project Managers' 'Actuaries' 'Mathematicians'\n",
            " 'Operations Research Analysts' 'Statisticians' 'Biostatisticians'\n",
            " 'Business Intelligence Analysts' 'Clinical Data Managers'\n",
            " 'Bioinformatics Technicians' 'Architects, Except Landscape and Naval'\n",
            " 'Landscape Architects' 'Cartographers and Photogrammetrists' 'Surveyors'\n",
            " 'Geodetic Surveyors' 'Aerospace Engineers' 'Agricultural Engineers'\n",
            " 'Bioengineers and Biomedical Engineers' 'Chemical Engineers'\n",
            " 'Civil Engineers' 'Transportation Engineers' 'Water/Wastewater Engineers'\n",
            " 'Computer Hardware Engineers' 'Electrical Engineers'\n",
            " 'Electronics Engineers, Except Computer'\n",
            " 'Radio Frequency Identification Device Specialists'\n",
            " 'Environmental Engineers'\n",
            " 'Health and Safety Engineers, Except Mining Safety Engineers and Inspectors'\n",
            " 'Fire-Prevention and Protection Engineers' 'Industrial Engineers'\n",
            " 'Human Factors Engineers and Ergonomists' 'Validation Engineers'\n",
            " 'Manufacturing Engineers' 'Marine Engineers and Naval Architects'\n",
            " 'Materials Engineers' 'Mechanical Engineers' 'Fuel Cell Engineers'\n",
            " 'Automotive Engineers'\n",
            " 'Mining and Geological Engineers, Including Mining Safety Engineers'\n",
            " 'Nuclear Engineers' 'Petroleum Engineers'\n",
            " 'Energy Engineers, Except Wind and Solar' 'Mechatronics Engineers'\n",
            " 'Microsystems Engineers' 'Photonics Engineers' 'Robotics Engineers'\n",
            " 'Nanosystems Engineers' 'Wind Energy Engineers'\n",
            " 'Solar Energy Systems Engineers' 'Architectural and Civil Drafters'\n",
            " 'Electrical and Electronics Drafters' 'Mechanical Drafters'\n",
            " 'Aerospace Engineering and Operations Technologists and Technicians'\n",
            " 'Civil Engineering Technologists and Technicians'\n",
            " 'Electrical and Electronic Engineering Technologists and Technicians'\n",
            " 'Electro-Mechanical and Mechatronics Technologists and Technicians'\n",
            " 'Robotics Technicians'\n",
            " 'Environmental Engineering Technologists and Technicians'\n",
            " 'Industrial Engineering Technologists and Technicians'\n",
            " 'Nanotechnology Engineering Technologists and Technicians'\n",
            " 'Mechanical Engineering Technologists and Technicians'\n",
            " 'Automotive Engineering Technicians'\n",
            " 'Non-Destructive Testing Specialists' 'Photonics Technicians'\n",
            " 'Surveying and Mapping Technicians' 'Animal Scientists'\n",
            " 'Food Scientists and Technologists' 'Soil and Plant Scientists'\n",
            " 'Biochemists and Biophysicists' 'Microbiologists'\n",
            " 'Zoologists and Wildlife Biologists' 'Bioinformatics Scientists'\n",
            " 'Molecular and Cellular Biologists' 'Geneticists' 'Biologists'\n",
            " 'Conservation Scientists' 'Range Managers' 'Park Naturalists' 'Foresters'\n",
            " 'Epidemiologists' 'Medical Scientists, Except Epidemiologists'\n",
            " 'Astronomers' 'Physicists' 'Atmospheric and Space Scientists' 'Chemists'\n",
            " 'Materials Scientists'\n",
            " 'Environmental Scientists and Specialists, Including Health'\n",
            " 'Climate Change Policy Analysts' 'Environmental Restoration Planners'\n",
            " 'Industrial Ecologists'\n",
            " 'Geoscientists, Except Hydrologists and Geographers' 'Hydrologists'\n",
            " 'Remote Sensing Scientists and Technologists' 'Economists'\n",
            " 'Environmental Economists' 'Survey Researchers'\n",
            " 'Industrial-Organizational Psychologists'\n",
            " 'Clinical and Counseling Psychologists' 'School Psychologists'\n",
            " 'Neuropsychologists' 'Clinical Neuropsychologists' 'Sociologists'\n",
            " 'Urban and Regional Planners' 'Anthropologists and Archeologists'\n",
            " 'Geographers' 'Historians' 'Political Scientists'\n",
            " 'Transportation Planners' 'Agricultural Technicians'\n",
            " 'Precision Agriculture Technicians' 'Food Science Technicians'\n",
            " 'Biological Technicians' 'Chemical Technicians'\n",
            " 'Environmental Science and Protection Technicians, Including Health'\n",
            " 'Geological Technicians, Except Hydrologic Technicians'\n",
            " 'Nuclear Technicians' 'Nuclear Monitoring Technicians'\n",
            " 'Social Science Research Assistants'\n",
            " 'Forest and Conservation Technicians' 'Forensic Science Technicians'\n",
            " 'Quality Control Analysts' 'Remote Sensing Technicians'\n",
            " 'Occupational Health and Safety Specialists'\n",
            " 'Occupational Health and Safety Technicians'\n",
            " 'Substance Abuse and Behavioral Disorder Counselors'\n",
            " 'Educational, Guidance, and Career Counselors and Advisors'\n",
            " 'Marriage and Family Therapists' 'Mental Health Counselors'\n",
            " 'Rehabilitation Counselors' 'Child, Family, and School Social Workers'\n",
            " 'Healthcare Social Workers'\n",
            " 'Mental Health and Substance Abuse Social Workers'\n",
            " 'Health Education Specialists'\n",
            " 'Probation Officers and Correctional Treatment Specialists'\n",
            " 'Social and Human Service Assistants' 'Community Health Workers' 'Clergy'\n",
            " 'Directors, Religious Activities and Education' 'Lawyers'\n",
            " 'Judicial Law Clerks'\n",
            " 'Administrative Law Judges, Adjudicators, and Hearing Officers'\n",
            " 'Arbitrators, Mediators, and Conciliators'\n",
            " 'Judges, Magistrate Judges, and Magistrates'\n",
            " 'Paralegals and Legal Assistants'\n",
            " 'Title Examiners, Abstractors, and Searchers'\n",
            " 'Business Teachers, Postsecondary'\n",
            " 'Computer Science Teachers, Postsecondary'\n",
            " 'Mathematical Science Teachers, Postsecondary'\n",
            " 'Architecture Teachers, Postsecondary'\n",
            " 'Engineering Teachers, Postsecondary'\n",
            " 'Agricultural Sciences Teachers, Postsecondary'\n",
            " 'Biological Science Teachers, Postsecondary'\n",
            " 'Forestry and Conservation Science Teachers, Postsecondary'\n",
            " 'Atmospheric, Earth, Marine, and Space Sciences Teachers, Postsecondary'\n",
            " 'Chemistry Teachers, Postsecondary'\n",
            " 'Environmental Science Teachers, Postsecondary'\n",
            " 'Physics Teachers, Postsecondary'\n",
            " 'Anthropology and Archeology Teachers, Postsecondary'\n",
            " 'Area, Ethnic, and Cultural Studies Teachers, Postsecondary'\n",
            " 'Economics Teachers, Postsecondary' 'Geography Teachers, Postsecondary'\n",
            " 'Political Science Teachers, Postsecondary'\n",
            " 'Psychology Teachers, Postsecondary' 'Sociology Teachers, Postsecondary'\n",
            " 'Health Specialties Teachers, Postsecondary'\n",
            " 'Nursing Instructors and Teachers, Postsecondary'\n",
            " 'Education Teachers, Postsecondary'\n",
            " 'Library Science Teachers, Postsecondary'\n",
            " 'Criminal Justice and Law Enforcement Teachers, Postsecondary'\n",
            " 'Law Teachers, Postsecondary' 'Social Work Teachers, Postsecondary'\n",
            " 'Art, Drama, and Music Teachers, Postsecondary'\n",
            " 'Communications Teachers, Postsecondary'\n",
            " 'English Language and Literature Teachers, Postsecondary'\n",
            " 'Foreign Language and Literature Teachers, Postsecondary'\n",
            " 'History Teachers, Postsecondary'\n",
            " 'Philosophy and Religion Teachers, Postsecondary'\n",
            " 'Family and Consumer Sciences Teachers, Postsecondary'\n",
            " 'Recreation and Fitness Studies Teachers, Postsecondary'\n",
            " 'Career/Technical Education Teachers, Postsecondary'\n",
            " 'Preschool Teachers, Except Special Education'\n",
            " 'Kindergarten Teachers, Except Special Education'\n",
            " 'Elementary School Teachers, Except Special Education'\n",
            " 'Middle School Teachers, Except Special and Career/Technical Education'\n",
            " 'Career/Technical Education Teachers, Middle School'\n",
            " 'Secondary School Teachers, Except Special and Career/Technical Education'\n",
            " 'Career/Technical Education Teachers, Secondary School'\n",
            " 'Special Education Teachers, Preschool'\n",
            " 'Special Education Teachers, Elementary School'\n",
            " 'Special Education Teachers, Middle School'\n",
            " 'Special Education Teachers, Secondary School'\n",
            " 'Adapted Physical Education Specialists'\n",
            " 'Adult Basic Education, Adult Secondary Education, and English as a Second Language Instructors'\n",
            " 'Self-Enrichment Teachers' 'Substitute Teachers, Short-Term' 'Tutors'\n",
            " 'Archivists' 'Curators' 'Museum Technicians and Conservators'\n",
            " 'Librarians and Media Collections Specialists' 'Library Technicians'\n",
            " 'Farm and Home Management Educators' 'Instructional Coordinators'\n",
            " 'Teaching Assistants, Preschool, Elementary, Middle, and Secondary School, Except Special Education'\n",
            " 'Teaching Assistants, Special Education'\n",
            " 'Teaching Assistants, Postsecondary' 'Art Directors' 'Craft Artists'\n",
            " 'Fine Artists, Including Painters, Sculptors, and Illustrators'\n",
            " 'Special Effects Artists and Animators'\n",
            " 'Commercial and Industrial Designers' 'Fashion Designers'\n",
            " 'Floral Designers' 'Graphic Designers' 'Interior Designers'\n",
            " 'Merchandise Displayers and Window Trimmers' 'Set and Exhibit Designers'\n",
            " 'Actors' 'Producers and Directors' 'Media Programming Directors'\n",
            " 'Talent Directors' 'Media Technical Directors/Managers'\n",
            " 'Athletes and Sports Competitors' 'Coaches and Scouts'\n",
            " 'Umpires, Referees, and Other Sports Officials' 'Dancers'\n",
            " 'Choreographers' 'Music Directors and Composers' 'Musicians and Singers'\n",
            " 'Broadcast Announcers and Radio Disc Jockeys'\n",
            " 'News Analysts, Reporters, and Journalists'\n",
            " 'Public Relations Specialists' 'Editors' 'Technical Writers'\n",
            " 'Writers and Authors' 'Poets, Lyricists and Creative Writers'\n",
            " 'Interpreters and Translators'\n",
            " 'Court Reporters and Simultaneous Captioners'\n",
            " 'Audio and Video Technicians' 'Broadcast Technicians'\n",
            " 'Sound Engineering Technicians' 'Photographers'\n",
            " 'Camera Operators, Television, Video, and Film' 'Film and Video Editors'\n",
            " 'Chiropractors' 'Dentists, General' 'Oral and Maxillofacial Surgeons'\n",
            " 'Orthodontists' 'Prosthodontists' 'Dietitians and Nutritionists'\n",
            " 'Optometrists' 'Pharmacists' 'Physician Assistants'\n",
            " 'Anesthesiologist Assistants' 'Podiatrists' 'Occupational Therapists'\n",
            " 'Low Vision Therapists, Orientation and Mobility Specialists, and Vision Rehabilitation Therapists'\n",
            " 'Physical Therapists' 'Radiation Therapists' 'Recreational Therapists'\n",
            " 'Respiratory Therapists' 'Speech-Language Pathologists'\n",
            " 'Exercise Physiologists' 'Art Therapists' 'Music Therapists'\n",
            " 'Veterinarians' 'Registered Nurses' 'Acute Care Nurses'\n",
            " 'Advanced Practice Psychiatric Nurses' 'Critical Care Nurses'\n",
            " 'Clinical Nurse Specialists' 'Nurse Anesthetists' 'Nurse Midwives'\n",
            " 'Nurse Practitioners' 'Audiologists' 'Anesthesiologists' 'Dermatologists'\n",
            " 'Emergency Medicine Physicians' 'Family Medicine Physicians'\n",
            " 'General Internal Medicine Physicians' 'Neurologists'\n",
            " 'Obstetricians and Gynecologists' 'Pediatricians, General'\n",
            " 'Physicians, Pathologists' 'Psychiatrists' 'Radiologists'\n",
            " 'Allergists and Immunologists' 'Hospitalists' 'Urologists'\n",
            " 'Physical Medicine and Rehabilitation Physicians'\n",
            " 'Preventive Medicine Physicians' 'Sports Medicine Physicians'\n",
            " 'Ophthalmologists, Except Pediatric' 'Acupuncturists' 'Dental Hygienists'\n",
            " 'Naturopathic Physicians' 'Orthoptists'\n",
            " 'Medical and Clinical Laboratory Technologists'\n",
            " 'Cytogenetic Technologists' 'Cytotechnologists' 'Histotechnologists'\n",
            " 'Medical and Clinical Laboratory Technicians' 'Histology Technicians'\n",
            " 'Cardiovascular Technologists and Technicians'\n",
            " 'Diagnostic Medical Sonographers' 'Nuclear Medicine Technologists'\n",
            " 'Radiologic Technologists and Technicians'\n",
            " 'Magnetic Resonance Imaging Technologists' 'Medical Dosimetrists'\n",
            " 'Dietetic Technicians' 'Pharmacy Technicians' 'Psychiatric Technicians'\n",
            " 'Surgical Technologists' 'Veterinary Technologists and Technicians'\n",
            " 'Ophthalmic Medical Technicians'\n",
            " 'Licensed Practical and Licensed Vocational Nurses'\n",
            " 'Opticians, Dispensing' 'Orthotists and Prosthetists'\n",
            " 'Hearing Aid Specialists' 'Neurodiagnostic Technologists'\n",
            " 'Ophthalmic Medical Technologists' 'Patient Representatives'\n",
            " 'Athletic Trainers' 'Genetic Counselors' 'Surgical Assistants' 'Midwives'\n",
            " 'Home Health Aides' 'Personal Care Aides' 'Nursing Assistants'\n",
            " 'Orderlies' 'Psychiatric Aides' 'Occupational Therapy Assistants'\n",
            " 'Occupational Therapy Aides' 'Physical Therapist Assistants'\n",
            " 'Physical Therapist Aides' 'Massage Therapists' 'Dental Assistants'\n",
            " 'Medical Assistants' 'Medical Equipment Preparers'\n",
            " 'Medical Transcriptionists' 'Pharmacy Aides'\n",
            " 'Veterinary Assistants and Laboratory Animal Caretakers' 'Phlebotomists'\n",
            " 'Speech-Language Pathology Assistants' 'Endoscopy Technicians'\n",
            " 'First-Line Supervisors of Correctional Officers'\n",
            " 'First-Line Supervisors of Police and Detectives'\n",
            " 'First-Line Supervisors of Firefighting and Prevention Workers'\n",
            " 'First-Line Supervisors of Security Workers' 'Firefighters'\n",
            " 'Fire Inspectors and Investigators'\n",
            " 'Forest Fire Inspectors and Prevention Specialists' 'Bailiffs'\n",
            " 'Correctional Officers and Jailers'\n",
            " 'Detectives and Criminal Investigators'\n",
            " 'Police Identification and Records Officers' 'Intelligence Analysts'\n",
            " 'Fish and Game Wardens' 'Parking Enforcement Workers'\n",
            " \"Police and Sheriff's Patrol Officers\"\n",
            " 'Customs and Border Protection Officers' 'Transit and Railroad Police'\n",
            " 'Animal Control Workers' 'Private Detectives and Investigators'\n",
            " 'Gambling Surveillance Officers and Gambling Investigators'\n",
            " 'Security Guards' 'Crossing Guards and Flaggers'\n",
            " 'Lifeguards, Ski Patrol, and Other Recreational Protective Service Workers'\n",
            " 'Transportation Security Screeners' 'Retail Loss Prevention Specialists'\n",
            " 'Chefs and Head Cooks'\n",
            " 'First-Line Supervisors of Food Preparation and Serving Workers'\n",
            " 'Cooks, Fast Food' 'Cooks, Institution and Cafeteria'\n",
            " 'Cooks, Private Household' 'Cooks, Restaurant' 'Cooks, Short Order'\n",
            " 'Food Preparation Workers' 'Bartenders' 'Fast Food and Counter Workers'\n",
            " 'Baristas' 'Waiters and Waitresses' 'Food Servers, Nonrestaurant'\n",
            " 'Dining Room and Cafeteria Attendants and Bartender Helpers'\n",
            " 'Dishwashers' 'Hosts and Hostesses, Restaurant, Lounge, and Coffee Shop'\n",
            " 'First-Line Supervisors of Housekeeping and Janitorial Workers'\n",
            " 'First-Line Supervisors of Landscaping, Lawn Service, and Groundskeeping Workers'\n",
            " 'Janitors and Cleaners, Except Maids and Housekeeping Cleaners'\n",
            " 'Maids and Housekeeping Cleaners' 'Pest Control Workers'\n",
            " 'Landscaping and Groundskeeping Workers'\n",
            " 'Pesticide Handlers, Sprayers, and Applicators, Vegetation'\n",
            " 'Tree Trimmers and Pruners'\n",
            " 'First-Line Supervisors of Gambling Services Workers'\n",
            " 'First-Line Supervisors of Personal Service Workers' 'Animal Trainers'\n",
            " 'Animal Caretakers' 'Gambling Dealers'\n",
            " 'Gambling and Sports Book Writers and Runners'\n",
            " 'Motion Picture Projectionists'\n",
            " 'Ushers, Lobby Attendants, and Ticket Takers'\n",
            " 'Amusement and Recreation Attendants' 'Costume Attendants'\n",
            " 'Locker Room, Coatroom, and Dressing Room Attendants' 'Embalmers'\n",
            " 'Funeral Attendants' 'Morticians, Undertakers, and Funeral Arrangers'\n",
            " 'Barbers' 'Hairdressers, Hairstylists, and Cosmetologists'\n",
            " 'Makeup Artists, Theatrical and Performance'\n",
            " 'Manicurists and Pedicurists' 'Shampooers' 'Skincare Specialists'\n",
            " 'Baggage Porters and Bellhops' 'Concierges' 'Tour Guides and Escorts'\n",
            " 'Travel Guides' 'Childcare Workers' 'Nannies'\n",
            " 'Exercise Trainers and Group Fitness Instructors' 'Recreation Workers'\n",
            " 'Residential Advisors' 'First-Line Supervisors of Retail Sales Workers'\n",
            " 'First-Line Supervisors of Non-Retail Sales Workers' 'Cashiers'\n",
            " 'Gambling Change Persons and Booth Cashiers' 'Counter and Rental Clerks'\n",
            " 'Parts Salespersons' 'Retail Salespersons' 'Advertising Sales Agents'\n",
            " 'Insurance Sales Agents'\n",
            " 'Securities, Commodities, and Financial Services Sales Agents'\n",
            " 'Travel Agents'\n",
            " 'Sales Representatives, Wholesale and Manufacturing, Technical and Scientific Products'\n",
            " 'Solar Sales Representatives and Assessors'\n",
            " 'Sales Representatives, Wholesale and Manufacturing, Except Technical and Scientific Products'\n",
            " 'Demonstrators and Product Promoters' 'Models' 'Real Estate Brokers'\n",
            " 'Real Estate Sales Agents' 'Sales Engineers' 'Telemarketers'\n",
            " 'Door-to-Door Sales Workers, News and Street Vendors, and Related Workers'\n",
            " 'First-Line Supervisors of Office and Administrative Support Workers'\n",
            " 'Switchboard Operators, Including Answering Service'\n",
            " 'Telephone Operators' 'Bill and Account Collectors'\n",
            " 'Billing and Posting Clerks'\n",
            " 'Bookkeeping, Accounting, and Auditing Clerks' 'Gambling Cage Workers'\n",
            " 'Payroll and Timekeeping Clerks' 'Procurement Clerks' 'Tellers'\n",
            " 'Brokerage Clerks' 'Correspondence Clerks'\n",
            " 'Court, Municipal, and License Clerks'\n",
            " 'Credit Authorizers, Checkers, and Clerks'\n",
            " 'Customer Service Representatives'\n",
            " 'Eligibility Interviewers, Government Programs' 'File Clerks'\n",
            " 'Hotel, Motel, and Resort Desk Clerks'\n",
            " 'Interviewers, Except Eligibility and Loan'\n",
            " 'Library Assistants, Clerical' 'Loan Interviewers and Clerks'\n",
            " 'New Accounts Clerks' 'Order Clerks'\n",
            " 'Human Resources Assistants, Except Payroll and Timekeeping'\n",
            " 'Receptionists and Information Clerks'\n",
            " 'Reservation and Transportation Ticket Agents and Travel Clerks'\n",
            " 'Cargo and Freight Agents' 'Freight Forwarders' 'Couriers and Messengers'\n",
            " 'Public Safety Telecommunicators'\n",
            " 'Dispatchers, Except Police, Fire, and Ambulance'\n",
            " 'Meter Readers, Utilities' 'Postal Service Clerks'\n",
            " 'Postal Service Mail Carriers'\n",
            " 'Postal Service Mail Sorters, Processors, and Processing Machine Operators'\n",
            " 'Production, Planning, and Expediting Clerks'\n",
            " 'Shipping, Receiving, and Inventory Clerks'\n",
            " 'Weighers, Measurers, Checkers, and Samplers, Recordkeeping'\n",
            " 'Executive Secretaries and Executive Administrative Assistants'\n",
            " 'Legal Secretaries and Administrative Assistants'\n",
            " 'Medical Secretaries and Administrative Assistants'\n",
            " 'Secretaries and Administrative Assistants, Except Legal, Medical, and Executive'\n",
            " 'Data Entry Keyers' 'Word Processors and Typists' 'Desktop Publishers'\n",
            " 'Insurance Claims and Policy Processing Clerks'\n",
            " 'Mail Clerks and Mail Machine Operators, Except Postal Service'\n",
            " 'Office Clerks, General' 'Office Machine Operators, Except Computer'\n",
            " 'Proofreaders and Copy Markers' 'Statistical Assistants'\n",
            " 'First-Line Supervisors of Farming, Fishing, and Forestry Workers'\n",
            " 'Agricultural Inspectors' 'Animal Breeders'\n",
            " 'Graders and Sorters, Agricultural Products'\n",
            " 'Agricultural Equipment Operators'\n",
            " 'Farmworkers and Laborers, Crop, Nursery, and Greenhouse'\n",
            " 'Farmworkers, Farm, Ranch, and Aquacultural Animals'\n",
            " 'Fishing and Hunting Workers' 'Forest and Conservation Workers' 'Fallers'\n",
            " 'Logging Equipment Operators' 'Log Graders and Scalers'\n",
            " 'First-Line Supervisors of Construction Trades and Extraction Workers'\n",
            " 'Solar Energy Installation Managers' 'Boilermakers'\n",
            " 'Brickmasons and Blockmasons' 'Stonemasons' 'Carpenters'\n",
            " 'Carpet Installers' 'Floor Layers, Except Carpet, Wood, and Hard Tiles'\n",
            " 'Floor Sanders and Finishers' 'Tile and Stone Setters'\n",
            " 'Cement Masons and Concrete Finishers' 'Terrazzo Workers and Finishers'\n",
            " 'Construction Laborers'\n",
            " 'Paving, Surfacing, and Tamping Equipment Operators'\n",
            " 'Pile Driver Operators'\n",
            " 'Operating Engineers and Other Construction Equipment Operators'\n",
            " 'Drywall and Ceiling Tile Installers' 'Tapers' 'Electricians' 'Glaziers'\n",
            " 'Insulation Workers, Floor, Ceiling, and Wall'\n",
            " 'Insulation Workers, Mechanical' 'Painters, Construction and Maintenance'\n",
            " 'Paperhangers' 'Pipelayers' 'Plumbers, Pipefitters, and Steamfitters'\n",
            " 'Solar Thermal Installers and Technicians' 'Plasterers and Stucco Masons'\n",
            " 'Reinforcing Iron and Rebar Workers' 'Roofers' 'Sheet Metal Workers'\n",
            " 'Structural Iron and Steel Workers' 'Solar Photovoltaic Installers'\n",
            " 'Helpers--Brickmasons, Blockmasons, Stonemasons, and Tile and Marble Setters'\n",
            " 'Helpers--Carpenters' 'Helpers--Electricians'\n",
            " 'Helpers--Painters, Paperhangers, Plasterers, and Stucco Masons'\n",
            " 'Helpers--Pipelayers, Plumbers, Pipefitters, and Steamfitters'\n",
            " 'Helpers--Roofers' 'Construction and Building Inspectors'\n",
            " 'Energy Auditors' 'Elevator and Escalator Installers and Repairers'\n",
            " 'Fence Erectors' 'Hazardous Materials Removal Workers'\n",
            " 'Highway Maintenance Workers'\n",
            " 'Rail-Track Laying and Maintenance Equipment Operators'\n",
            " 'Septic Tank Servicers and Sewer Pipe Cleaners' 'Segmental Pavers'\n",
            " 'Weatherization Installers and Technicians'\n",
            " 'Derrick Operators, Oil and Gas' 'Rotary Drill Operators, Oil and Gas'\n",
            " 'Service Unit Operators, Oil and Gas'\n",
            " 'Excavating and Loading Machine and Dragline Operators, Surface Mining'\n",
            " 'Earth Drillers, Except Oil and Gas'\n",
            " 'Explosives Workers, Ordnance Handling Experts, and Blasters'\n",
            " 'Continuous Mining Machine Operators' 'Roof Bolters, Mining'\n",
            " 'Loading and Moving Machine Operators, Underground Mining'\n",
            " 'Rock Splitters, Quarry' 'Roustabouts, Oil and Gas'\n",
            " 'Helpers--Extraction Workers'\n",
            " 'First-Line Supervisors of Mechanics, Installers, and Repairers'\n",
            " 'Computer, Automated Teller, and Office Machine Repairers'\n",
            " 'Radio, Cellular, and Tower Equipment Installers and Repairers'\n",
            " 'Telecommunications Equipment Installers and Repairers, Except Line Installers'\n",
            " 'Avionics Technicians'\n",
            " 'Electric Motor, Power Tool, and Related Repairers'\n",
            " 'Electrical and Electronics Installers and Repairers, Transportation Equipment'\n",
            " 'Electrical and Electronics Repairers, Commercial and Industrial Equipment'\n",
            " 'Electrical and Electronics Repairers, Powerhouse, Substation, and Relay'\n",
            " 'Electronic Equipment Installers and Repairers, Motor Vehicles'\n",
            " 'Audiovisual Equipment Installers and Repairers'\n",
            " 'Security and Fire Alarm Systems Installers'\n",
            " 'Aircraft Mechanics and Service Technicians'\n",
            " 'Automotive Body and Related Repairers'\n",
            " 'Automotive Glass Installers and Repairers'\n",
            " 'Automotive Service Technicians and Mechanics'\n",
            " 'Bus and Truck Mechanics and Diesel Engine Specialists'\n",
            " 'Farm Equipment Mechanics and Service Technicians'\n",
            " 'Mobile Heavy Equipment Mechanics, Except Engines' 'Rail Car Repairers'\n",
            " 'Motorboat Mechanics and Service Technicians' 'Motorcycle Mechanics'\n",
            " 'Outdoor Power Equipment and Other Small Engine Mechanics'\n",
            " 'Bicycle Repairers' 'Recreational Vehicle Service Technicians'\n",
            " 'Tire Repairers and Changers' 'Mechanical Door Repairers'\n",
            " 'Control and Valve Installers and Repairers, Except Mechanical Door'\n",
            " 'Heating, Air Conditioning, and Refrigeration Mechanics and Installers'\n",
            " 'Home Appliance Repairers' 'Industrial Machinery Mechanics'\n",
            " 'Maintenance Workers, Machinery' 'Millwrights'\n",
            " 'Refractory Materials Repairers, Except Brickmasons'\n",
            " 'Electrical Power-Line Installers and Repairers'\n",
            " 'Telecommunications Line Installers and Repairers'\n",
            " 'Camera and Photographic Equipment Repairers'\n",
            " 'Medical Equipment Repairers' 'Musical Instrument Repairers and Tuners'\n",
            " 'Watch and Clock Repairers' 'Maintenance and Repair Workers, General'\n",
            " 'Wind Turbine Service Technicians'\n",
            " 'Coin, Vending, and Amusement Machine Servicers and Repairers'\n",
            " 'Commercial Divers' 'Locksmiths and Safe Repairers'\n",
            " 'Manufactured Building and Mobile Home Installers' 'Riggers'\n",
            " 'Signal and Track Switch Repairers'\n",
            " 'Helpers--Installation, Maintenance, and Repair Workers'\n",
            " 'Geothermal Technicians'\n",
            " 'First-Line Supervisors of Production and Operating Workers'\n",
            " 'Aircraft Structure, Surfaces, Rigging, and Systems Assemblers'\n",
            " 'Coil Winders, Tapers, and Finishers'\n",
            " 'Electrical and Electronic Equipment Assemblers'\n",
            " 'Electromechanical Equipment Assemblers'\n",
            " 'Engine and Other Machine Assemblers'\n",
            " 'Structural Metal Fabricators and Fitters'\n",
            " 'Fiberglass Laminators and Fabricators'\n",
            " 'Timing Device Assemblers and Adjusters' 'Team Assemblers' 'Bakers'\n",
            " 'Butchers and Meat Cutters'\n",
            " 'Meat, Poultry, and Fish Cutters and Trimmers'\n",
            " 'Slaughterers and Meat Packers'\n",
            " 'Food and Tobacco Roasting, Baking, and Drying Machine Operators and Tenders'\n",
            " 'Food Batchmakers' 'Food Cooking Machine Operators and Tenders'\n",
            " 'Extruding and Drawing Machine Setters, Operators, and Tenders, Metal and Plastic'\n",
            " 'Forging Machine Setters, Operators, and Tenders, Metal and Plastic'\n",
            " 'Rolling Machine Setters, Operators, and Tenders, Metal and Plastic'\n",
            " 'Cutting, Punching, and Press Machine Setters, Operators, and Tenders, Metal and Plastic'\n",
            " 'Drilling and Boring Machine Tool Setters, Operators, and Tenders, Metal and Plastic'\n",
            " 'Grinding, Lapping, Polishing, and Buffing Machine Tool Setters, Operators, and Tenders, Metal and Plastic'\n",
            " 'Lathe and Turning Machine Tool Setters, Operators, and Tenders, Metal and Plastic'\n",
            " 'Milling and Planing Machine Setters, Operators, and Tenders, Metal and Plastic'\n",
            " 'Machinists' 'Metal-Refining Furnace Operators and Tenders'\n",
            " 'Pourers and Casters, Metal' 'Model Makers, Metal and Plastic'\n",
            " 'Patternmakers, Metal and Plastic' 'Foundry Mold and Coremakers'\n",
            " 'Molding, Coremaking, and Casting Machine Setters, Operators, and Tenders, Metal and Plastic'\n",
            " 'Multiple Machine Tool Setters, Operators, and Tenders, Metal and Plastic'\n",
            " 'Tool and Die Makers' 'Welders, Cutters, Solderers, and Brazers'\n",
            " 'Welding, Soldering, and Brazing Machine Setters, Operators, and Tenders'\n",
            " 'Heat Treating Equipment Setters, Operators, and Tenders, Metal and Plastic'\n",
            " 'Layout Workers, Metal and Plastic'\n",
            " 'Plating Machine Setters, Operators, and Tenders, Metal and Plastic'\n",
            " 'Tool Grinders, Filers, and Sharpeners'\n",
            " 'Prepress Technicians and Workers' 'Printing Press Operators'\n",
            " 'Print Binding and Finishing Workers' 'Laundry and Dry-Cleaning Workers'\n",
            " 'Pressers, Textile, Garment, and Related Materials'\n",
            " 'Sewing Machine Operators' 'Shoe and Leather Workers and Repairers'\n",
            " 'Shoe Machine Operators and Tenders' 'Sewers, Hand'\n",
            " 'Tailors, Dressmakers, and Custom Sewers'\n",
            " 'Textile Bleaching and Dyeing Machine Operators and Tenders'\n",
            " 'Textile Cutting Machine Setters, Operators, and Tenders'\n",
            " 'Textile Knitting and Weaving Machine Setters, Operators, and Tenders'\n",
            " 'Textile Winding, Twisting, and Drawing Out Machine Setters, Operators, and Tenders'\n",
            " 'Extruding and Forming Machine Setters, Operators, and Tenders, Synthetic and Glass Fibers'\n",
            " 'Fabric and Apparel Patternmakers' 'Upholsterers'\n",
            " 'Cabinetmakers and Bench Carpenters' 'Furniture Finishers'\n",
            " 'Model Makers, Wood' 'Patternmakers, Wood'\n",
            " 'Sawing Machine Setters, Operators, and Tenders, Wood'\n",
            " 'Woodworking Machine Setters, Operators, and Tenders, Except Sawing'\n",
            " 'Nuclear Power Reactor Operators' 'Power Distributors and Dispatchers'\n",
            " 'Power Plant Operators' 'Biomass Plant Technicians'\n",
            " 'Hydroelectric Plant Technicians'\n",
            " 'Stationary Engineers and Boiler Operators'\n",
            " 'Water and Wastewater Treatment Plant and System Operators'\n",
            " 'Chemical Plant and System Operators' 'Gas Plant Operators'\n",
            " 'Petroleum Pump System Operators, Refinery Operators, and Gaugers'\n",
            " 'Biofuels Processing Technicians'\n",
            " 'Chemical Equipment Operators and Tenders'\n",
            " 'Separating, Filtering, Clarifying, Precipitating, and Still Machine Setters, Operators, and Tenders'\n",
            " 'Crushing, Grinding, and Polishing Machine Setters, Operators, and Tenders'\n",
            " 'Grinding and Polishing Workers, Hand'\n",
            " 'Mixing and Blending Machine Setters, Operators, and Tenders'\n",
            " 'Cutters and Trimmers, Hand'\n",
            " 'Cutting and Slicing Machine Setters, Operators, and Tenders'\n",
            " 'Extruding, Forming, Pressing, and Compacting Machine Setters, Operators, and Tenders'\n",
            " 'Furnace, Kiln, Oven, Drier, and Kettle Operators and Tenders'\n",
            " 'Inspectors, Testers, Sorters, Samplers, and Weighers'\n",
            " 'Jewelers and Precious Stone and Metal Workers' 'Gem and Diamond Workers'\n",
            " 'Dental Laboratory Technicians' 'Medical Appliance Technicians'\n",
            " 'Ophthalmic Laboratory Technicians'\n",
            " 'Packaging and Filling Machine Operators and Tenders'\n",
            " 'Painting, Coating, and Decorating Workers'\n",
            " 'Coating, Painting, and Spraying Machine Setters, Operators, and Tenders'\n",
            " 'Semiconductor Processing Technicians'\n",
            " 'Photographic Process Workers and Processing Machine Operators'\n",
            " 'Computer Numerically Controlled Tool Operators'\n",
            " 'Computer Numerically Controlled Tool Programmers'\n",
            " 'Adhesive Bonding Machine Operators and Tenders'\n",
            " 'Cleaning, Washing, and Metal Pickling Equipment Operators and Tenders'\n",
            " 'Cooling and Freezing Equipment Operators and Tenders'\n",
            " 'Etchers and Engravers'\n",
            " 'Molders, Shapers, and Casters, Except Metal and Plastic'\n",
            " 'Stone Cutters and Carvers, Manufacturing'\n",
            " 'Glass Blowers, Molders, Benders, and Finishers' 'Potters, Manufacturing'\n",
            " 'Paper Goods Machine Setters, Operators, and Tenders' 'Tire Builders'\n",
            " 'Helpers--Production Workers' 'Aircraft Cargo Handling Supervisors'\n",
            " 'First-Line Supervisors of Helpers, Laborers, and Material Movers, Hand'\n",
            " 'Recycling Coordinators'\n",
            " 'First-Line Supervisors of Material-Moving Machine and Vehicle Operators'\n",
            " 'Airline Pilots, Copilots, and Flight Engineers' 'Commercial Pilots'\n",
            " 'Air Traffic Controllers' 'Airfield Operations Specialists'\n",
            " 'Flight Attendants'\n",
            " 'Ambulance Drivers and Attendants, Except Emergency Medical Technicians'\n",
            " 'Driver/Sales Workers' 'Heavy and Tractor-Trailer Truck Drivers'\n",
            " 'Light Truck Drivers' 'Bus Drivers, School'\n",
            " 'Bus Drivers, Transit and Intercity' 'Shuttle Drivers and Chauffeurs'\n",
            " 'Locomotive Engineers'\n",
            " 'Rail Yard Engineers, Dinkey Operators, and Hostlers'\n",
            " 'Railroad Brake, Signal, and Switch Operators and Locomotive Firers'\n",
            " 'Railroad Conductors and Yardmasters' 'Subway and Streetcar Operators'\n",
            " 'Sailors and Marine Oilers'\n",
            " 'Captains, Mates, and Pilots of Water Vessels' 'Motorboat Operators'\n",
            " 'Ship Engineers' 'Bridge and Lock Tenders' 'Parking Attendants'\n",
            " 'Automotive and Watercraft Service Attendants' 'Traffic Technicians'\n",
            " 'Transportation Inspectors' 'Aviation Inspectors'\n",
            " 'Transportation Vehicle, Equipment and Systems Inspectors, Except Aviation'\n",
            " 'Passenger Attendants' 'Conveyor Operators and Tenders'\n",
            " 'Crane and Tower Operators' 'Dredge Operators'\n",
            " 'Hoist and Winch Operators' 'Industrial Truck and Tractor Operators'\n",
            " 'Cleaners of Vehicles and Equipment'\n",
            " 'Laborers and Freight, Stock, and Material Movers, Hand'\n",
            " 'Recycling and Reclamation Workers' 'Machine Feeders and Offbearers'\n",
            " 'Packers and Packagers, Hand' 'Stockers and Order Fillers'\n",
            " 'Gas Compressor and Gas Pumping Station Operators'\n",
            " 'Pump Operators, Except Wellhead Pumpers' 'Wellhead Pumpers'\n",
            " 'Refuse and Recyclable Material Collectors'\n",
            " 'Tank Car, Truck, and Ship Loaders']\n"
          ]
        }
      ]
    }
  ],
  "metadata": {
    "colab": {
      "provenance": []
    },
    "kernelspec": {
      "display_name": "Python 3 (ipykernel)",
      "language": "python",
      "name": "python3"
    },
    "language_info": {
      "codemirror_mode": {
        "name": "ipython",
        "version": 3
      },
      "file_extension": ".py",
      "mimetype": "text/x-python",
      "name": "python",
      "nbconvert_exporter": "python",
      "pygments_lexer": "ipython3",
      "version": "3.12.9"
    }
  },
  "nbformat": 4,
  "nbformat_minor": 0
}